{
 "cells": [
  {
   "cell_type": "markdown",
   "id": "8342213d",
   "metadata": {
    "heading_collapsed": true,
    "slideshow": {
     "slide_type": "slide"
    }
   },
   "source": [
    "## Perkenalan"
   ]
  },
  {
   "cell_type": "markdown",
   "id": "3317e5e0",
   "metadata": {
    "hidden": true,
    "slideshow": {
     "slide_type": "slide"
    }
   },
   "source": [
    "Bab pengenalan harus diisi dengan identitas, gambaran besar dataset yang digunakan, dan objective yang ingin dicapai."
   ]
  },
  {
   "cell_type": "markdown",
   "id": "a55a80f8",
   "metadata": {
    "hidden": true,
    "slideshow": {
     "slide_type": "slide"
    }
   },
   "source": [
    "<b>Nama:</b> RohMad <br/>\n",
    "<b>Phase:</b> 1<br/>\n",
    "<b>Type: </b> Milestone 1\n",
    "<br/>\n",
    "<b>Dataset:</b> The data is related with direct marketing campaigns of a Portuguese banking institution. The marketing campaigns were based on phone calls. Often, more than one contact to the same client was required, in order to access if the product (bank term deposit) would be ('yes') or not ('no') subscribed.\n",
    "<br/>\n",
    "\n",
    "bank client data:\n",
    "- age (numeric)\n",
    "- job : type of job (categorical: 'admin.','blue-collar','entrepreneur','housemaid','management','retired','self-employed','services','student','technician','unemployed','unknown')\n",
    "- marital : marital status (categorical: 'divorced','married','single','unknown'; note: 'divorced' means divorced or widowed)\n",
    "- education (categorical: 'basic.4y','basic.6y','basic.9y','high.school','illiterate','professional.course','university.degree','unknown')\n",
    "- default: has credit in default? (categorical: 'no','yes','unknown')\n",
    "- housing: has housing loan? (categorical: 'no','yes','unknown')\n",
    "- loan: has personal loan? (categorical: 'no','yes','unknown')\n",
    "\n",
    "related with the last contact of the current campaign:\n",
    "- contact: contact communication type (categorical: 'cellular','telephone')\n",
    "- month: last contact month of year (categorical: 'jan', 'feb', 'mar', ..., 'nov', 'dec')\n",
    "- day_of_week: last contact day of the week (categorical: 'mon','tue','wed','thu','fri')\n",
    "- duration: last contact duration, in seconds (numeric). Important note: this attribute highly affects the output target (e.g., if duration=0 then y='no'). Yet, the duration is not known before a call is performed. Also, after the end of the call y is obviously known. Thus, this input should only be included for benchmark purposes and should be discarded if the intention is to have a realistic predictive model.\n",
    "\n",
    "other attributes:\n",
    "- campaign: number of contacts performed during this campaign and for this client (numeric, includes last contact)\n",
    "- pdays: number of days that passed by after the client was last contacted from a previous campaign (numeric; 999 means client was not previously contacted)\n",
    "- previous: number of contacts performed before this campaign and for this client (numeric)\n",
    "- poutcome: outcome of the previous marketing campaign (categorical: 'failure','nonexistent','success')\n",
    "\n",
    "social and economic context attributes\n",
    "- emp.var.rate: employment variation rate - quarterly indicator (numeric)\n",
    "- cons.price.idx: consumer price index - monthly indicator (numeric)\n",
    "- cons.conf.idx: consumer confidence index - monthly indicator (numeric)\n",
    "- euribor3m: euribor 3 month rate - daily indicator (numeric)\n",
    "- nr.employed: number of employees - quarterly indicator (numeric)\n",
    "\n",
    "Output variable (desired target):\n",
    "- y - has the client subscribed a term deposit? (binary: 'yes','no')\n",
    "<br/> \n",
    "<b>Link:</b> https://archive.ics.uci.edu/ml/datasets/Bank+Marketing\n",
    "<br/>\n",
    "<b>Objective:</b> The classification goal is to predict if the client will subscribe a term deposit"
   ]
  },
  {
   "cell_type": "markdown",
   "id": "aba3b1ca",
   "metadata": {
    "heading_collapsed": true
   },
   "source": [
    "## Import pustaka yang dibutuhkan"
   ]
  },
  {
   "cell_type": "markdown",
   "id": "06fcef62",
   "metadata": {
    "hidden": true
   },
   "source": [
    "Cell pertama pada notebook harus berisi dan hanya berisi semua library yang digunakan dalam project."
   ]
  },
  {
   "cell_type": "code",
   "execution_count": 1,
   "id": "cc96572a",
   "metadata": {
    "ExecuteTime": {
     "end_time": "2021-08-08T02:17:53.045893Z",
     "start_time": "2021-08-08T02:17:47.231486Z"
    },
    "hidden": true
   },
   "outputs": [],
   "source": [
    "%matplotlib inline\n",
    "import matplotlib.pyplot as plt\n",
    "import seaborn as sns; sns.set()\n",
    "import numpy as np\n",
    "import pandas as pd\n",
    "import warnings\n",
    "warnings.filterwarnings('ignore')\n",
    "\n",
    "#Import Model Machine Learning\n",
    "import xgboost as xgb\n",
    "from sklearn.linear_model import LogisticRegression\n",
    "from sklearn.svm import SVC\n",
    "from sklearn.tree import DecisionTreeClassifier\n",
    "from sklearn.neighbors import KNeighborsClassifier \n",
    "from sklearn.naive_bayes import GaussianNB\n",
    "from sklearn.ensemble import RandomForestClassifier\n",
    "from xgboost.sklearn import XGBClassifier\n",
    "from sklearn.model_selection import train_test_split"
   ]
  },
  {
   "cell_type": "markdown",
   "id": "075e3a64",
   "metadata": {
    "heading_collapsed": true
   },
   "source": [
    "## Data Loading"
   ]
  },
  {
   "cell_type": "markdown",
   "id": "4cb0a927",
   "metadata": {
    "hidden": true
   },
   "source": [
    "Bagian ini berisi proses data loading yang kemudian dilanjutkan dengan explorasi data secara sederhana."
   ]
  },
  {
   "cell_type": "code",
   "execution_count": 2,
   "id": "240e6bff",
   "metadata": {
    "ExecuteTime": {
     "end_time": "2021-08-08T02:17:57.632039Z",
     "start_time": "2021-08-08T02:17:57.403477Z"
    },
    "hidden": true
   },
   "outputs": [],
   "source": [
    "df_raw = pd.read_csv('./data/bank-additional-full.csv', sep=';')"
   ]
  },
  {
   "cell_type": "code",
   "execution_count": 3,
   "id": "9f37d937",
   "metadata": {
    "ExecuteTime": {
     "end_time": "2021-08-08T02:17:58.849552Z",
     "start_time": "2021-08-08T02:17:58.783558Z"
    },
    "hidden": true
   },
   "outputs": [
    {
     "name": "stdout",
     "output_type": "stream",
     "text": [
      "(41188, 21)\n"
     ]
    },
    {
     "data": {
      "text/html": [
       "<div>\n",
       "<style scoped>\n",
       "    .dataframe tbody tr th:only-of-type {\n",
       "        vertical-align: middle;\n",
       "    }\n",
       "\n",
       "    .dataframe tbody tr th {\n",
       "        vertical-align: top;\n",
       "    }\n",
       "\n",
       "    .dataframe thead th {\n",
       "        text-align: right;\n",
       "    }\n",
       "</style>\n",
       "<table border=\"1\" class=\"dataframe\">\n",
       "  <thead>\n",
       "    <tr style=\"text-align: right;\">\n",
       "      <th></th>\n",
       "      <th>age</th>\n",
       "      <th>job</th>\n",
       "      <th>marital</th>\n",
       "      <th>education</th>\n",
       "      <th>default</th>\n",
       "      <th>housing</th>\n",
       "      <th>loan</th>\n",
       "      <th>contact</th>\n",
       "      <th>month</th>\n",
       "      <th>day_of_week</th>\n",
       "      <th>...</th>\n",
       "      <th>campaign</th>\n",
       "      <th>pdays</th>\n",
       "      <th>previous</th>\n",
       "      <th>poutcome</th>\n",
       "      <th>emp.var.rate</th>\n",
       "      <th>cons.price.idx</th>\n",
       "      <th>cons.conf.idx</th>\n",
       "      <th>euribor3m</th>\n",
       "      <th>nr.employed</th>\n",
       "      <th>y</th>\n",
       "    </tr>\n",
       "  </thead>\n",
       "  <tbody>\n",
       "    <tr>\n",
       "      <th>0</th>\n",
       "      <td>56</td>\n",
       "      <td>housemaid</td>\n",
       "      <td>married</td>\n",
       "      <td>basic.4y</td>\n",
       "      <td>no</td>\n",
       "      <td>no</td>\n",
       "      <td>no</td>\n",
       "      <td>telephone</td>\n",
       "      <td>may</td>\n",
       "      <td>mon</td>\n",
       "      <td>...</td>\n",
       "      <td>1</td>\n",
       "      <td>999</td>\n",
       "      <td>0</td>\n",
       "      <td>nonexistent</td>\n",
       "      <td>1.1</td>\n",
       "      <td>93.994</td>\n",
       "      <td>-36.4</td>\n",
       "      <td>4.857</td>\n",
       "      <td>5191.0</td>\n",
       "      <td>no</td>\n",
       "    </tr>\n",
       "    <tr>\n",
       "      <th>1</th>\n",
       "      <td>57</td>\n",
       "      <td>services</td>\n",
       "      <td>married</td>\n",
       "      <td>high.school</td>\n",
       "      <td>unknown</td>\n",
       "      <td>no</td>\n",
       "      <td>no</td>\n",
       "      <td>telephone</td>\n",
       "      <td>may</td>\n",
       "      <td>mon</td>\n",
       "      <td>...</td>\n",
       "      <td>1</td>\n",
       "      <td>999</td>\n",
       "      <td>0</td>\n",
       "      <td>nonexistent</td>\n",
       "      <td>1.1</td>\n",
       "      <td>93.994</td>\n",
       "      <td>-36.4</td>\n",
       "      <td>4.857</td>\n",
       "      <td>5191.0</td>\n",
       "      <td>no</td>\n",
       "    </tr>\n",
       "    <tr>\n",
       "      <th>2</th>\n",
       "      <td>37</td>\n",
       "      <td>services</td>\n",
       "      <td>married</td>\n",
       "      <td>high.school</td>\n",
       "      <td>no</td>\n",
       "      <td>yes</td>\n",
       "      <td>no</td>\n",
       "      <td>telephone</td>\n",
       "      <td>may</td>\n",
       "      <td>mon</td>\n",
       "      <td>...</td>\n",
       "      <td>1</td>\n",
       "      <td>999</td>\n",
       "      <td>0</td>\n",
       "      <td>nonexistent</td>\n",
       "      <td>1.1</td>\n",
       "      <td>93.994</td>\n",
       "      <td>-36.4</td>\n",
       "      <td>4.857</td>\n",
       "      <td>5191.0</td>\n",
       "      <td>no</td>\n",
       "    </tr>\n",
       "    <tr>\n",
       "      <th>3</th>\n",
       "      <td>40</td>\n",
       "      <td>admin.</td>\n",
       "      <td>married</td>\n",
       "      <td>basic.6y</td>\n",
       "      <td>no</td>\n",
       "      <td>no</td>\n",
       "      <td>no</td>\n",
       "      <td>telephone</td>\n",
       "      <td>may</td>\n",
       "      <td>mon</td>\n",
       "      <td>...</td>\n",
       "      <td>1</td>\n",
       "      <td>999</td>\n",
       "      <td>0</td>\n",
       "      <td>nonexistent</td>\n",
       "      <td>1.1</td>\n",
       "      <td>93.994</td>\n",
       "      <td>-36.4</td>\n",
       "      <td>4.857</td>\n",
       "      <td>5191.0</td>\n",
       "      <td>no</td>\n",
       "    </tr>\n",
       "    <tr>\n",
       "      <th>4</th>\n",
       "      <td>56</td>\n",
       "      <td>services</td>\n",
       "      <td>married</td>\n",
       "      <td>high.school</td>\n",
       "      <td>no</td>\n",
       "      <td>no</td>\n",
       "      <td>yes</td>\n",
       "      <td>telephone</td>\n",
       "      <td>may</td>\n",
       "      <td>mon</td>\n",
       "      <td>...</td>\n",
       "      <td>1</td>\n",
       "      <td>999</td>\n",
       "      <td>0</td>\n",
       "      <td>nonexistent</td>\n",
       "      <td>1.1</td>\n",
       "      <td>93.994</td>\n",
       "      <td>-36.4</td>\n",
       "      <td>4.857</td>\n",
       "      <td>5191.0</td>\n",
       "      <td>no</td>\n",
       "    </tr>\n",
       "  </tbody>\n",
       "</table>\n",
       "<p>5 rows × 21 columns</p>\n",
       "</div>"
      ],
      "text/plain": [
       "   age        job  marital    education  default housing loan    contact  \\\n",
       "0   56  housemaid  married     basic.4y       no      no   no  telephone   \n",
       "1   57   services  married  high.school  unknown      no   no  telephone   \n",
       "2   37   services  married  high.school       no     yes   no  telephone   \n",
       "3   40     admin.  married     basic.6y       no      no   no  telephone   \n",
       "4   56   services  married  high.school       no      no  yes  telephone   \n",
       "\n",
       "  month day_of_week  ...  campaign  pdays  previous     poutcome emp.var.rate  \\\n",
       "0   may         mon  ...         1    999         0  nonexistent          1.1   \n",
       "1   may         mon  ...         1    999         0  nonexistent          1.1   \n",
       "2   may         mon  ...         1    999         0  nonexistent          1.1   \n",
       "3   may         mon  ...         1    999         0  nonexistent          1.1   \n",
       "4   may         mon  ...         1    999         0  nonexistent          1.1   \n",
       "\n",
       "   cons.price.idx  cons.conf.idx  euribor3m  nr.employed   y  \n",
       "0          93.994          -36.4      4.857       5191.0  no  \n",
       "1          93.994          -36.4      4.857       5191.0  no  \n",
       "2          93.994          -36.4      4.857       5191.0  no  \n",
       "3          93.994          -36.4      4.857       5191.0  no  \n",
       "4          93.994          -36.4      4.857       5191.0  no  \n",
       "\n",
       "[5 rows x 21 columns]"
      ]
     },
     "execution_count": 3,
     "metadata": {},
     "output_type": "execute_result"
    }
   ],
   "source": [
    "print(df_raw.shape)\n",
    "df_raw.head(5)"
   ]
  },
  {
   "cell_type": "code",
   "execution_count": 4,
   "id": "3e458e00",
   "metadata": {
    "ExecuteTime": {
     "end_time": "2021-08-08T02:17:59.562072Z",
     "start_time": "2021-08-08T02:17:59.481569Z"
    },
    "hidden": true
   },
   "outputs": [
    {
     "name": "stdout",
     "output_type": "stream",
     "text": [
      "<class 'pandas.core.frame.DataFrame'>\n",
      "RangeIndex: 41188 entries, 0 to 41187\n",
      "Data columns (total 21 columns):\n",
      " #   Column          Non-Null Count  Dtype  \n",
      "---  ------          --------------  -----  \n",
      " 0   age             41188 non-null  int64  \n",
      " 1   job             41188 non-null  object \n",
      " 2   marital         41188 non-null  object \n",
      " 3   education       41188 non-null  object \n",
      " 4   default         41188 non-null  object \n",
      " 5   housing         41188 non-null  object \n",
      " 6   loan            41188 non-null  object \n",
      " 7   contact         41188 non-null  object \n",
      " 8   month           41188 non-null  object \n",
      " 9   day_of_week     41188 non-null  object \n",
      " 10  duration        41188 non-null  int64  \n",
      " 11  campaign        41188 non-null  int64  \n",
      " 12  pdays           41188 non-null  int64  \n",
      " 13  previous        41188 non-null  int64  \n",
      " 14  poutcome        41188 non-null  object \n",
      " 15  emp.var.rate    41188 non-null  float64\n",
      " 16  cons.price.idx  41188 non-null  float64\n",
      " 17  cons.conf.idx   41188 non-null  float64\n",
      " 18  euribor3m       41188 non-null  float64\n",
      " 19  nr.employed     41188 non-null  float64\n",
      " 20  y               41188 non-null  object \n",
      "dtypes: float64(5), int64(5), object(11)\n",
      "memory usage: 6.6+ MB\n"
     ]
    }
   ],
   "source": [
    "df_raw.info()"
   ]
  },
  {
   "cell_type": "markdown",
   "id": "5c9d8256",
   "metadata": {
    "heading_collapsed": true
   },
   "source": [
    "## Data Cleaning"
   ]
  },
  {
   "cell_type": "markdown",
   "id": "77a58abf",
   "metadata": {
    "hidden": true
   },
   "source": [
    "Bagian ini berisi proses penyiapan data berupa data cleaning sebelum dilakukan explorasi data lebih lanjut. Proses cleaning dapat berupa memberi nama baru untuk setiap kolom, mengisi missing values, menghapus kolom yang tidak dipakai, dan lain sebagainya."
   ]
  },
  {
   "cell_type": "code",
   "execution_count": 5,
   "id": "ef971d24",
   "metadata": {
    "ExecuteTime": {
     "end_time": "2021-08-08T02:18:01.630616Z",
     "start_time": "2021-08-08T02:18:01.572688Z"
    },
    "hidden": true
   },
   "outputs": [
    {
     "data": {
      "text/plain": [
       "age               0\n",
       "job               0\n",
       "marital           0\n",
       "education         0\n",
       "default           0\n",
       "housing           0\n",
       "loan              0\n",
       "contact           0\n",
       "month             0\n",
       "day_of_week       0\n",
       "duration          0\n",
       "campaign          0\n",
       "pdays             0\n",
       "previous          0\n",
       "poutcome          0\n",
       "emp.var.rate      0\n",
       "cons.price.idx    0\n",
       "cons.conf.idx     0\n",
       "euribor3m         0\n",
       "nr.employed       0\n",
       "y                 0\n",
       "dtype: int64"
      ]
     },
     "execution_count": 5,
     "metadata": {},
     "output_type": "execute_result"
    }
   ],
   "source": [
    "df_raw.isnull().sum()"
   ]
  },
  {
   "cell_type": "code",
   "execution_count": 6,
   "id": "d34c9630",
   "metadata": {
    "ExecuteTime": {
     "end_time": "2021-08-08T02:18:04.079375Z",
     "start_time": "2021-08-08T02:18:04.061530Z"
    },
    "hidden": true
   },
   "outputs": [],
   "source": [
    "df_raw.rename(columns={'y': 'subcribed'}, inplace=True)"
   ]
  },
  {
   "cell_type": "markdown",
   "id": "c7c7251c",
   "metadata": {
    "hidden": true
   },
   "source": [
    "##### Chek duplicated values"
   ]
  },
  {
   "cell_type": "code",
   "execution_count": 7,
   "id": "8aed1052",
   "metadata": {
    "ExecuteTime": {
     "end_time": "2021-08-08T02:18:05.763527Z",
     "start_time": "2021-08-08T02:18:05.613771Z"
    },
    "hidden": true
   },
   "outputs": [
    {
     "data": {
      "text/plain": [
       "12"
      ]
     },
     "execution_count": 7,
     "metadata": {},
     "output_type": "execute_result"
    }
   ],
   "source": [
    "df_raw.duplicated().sum()"
   ]
  },
  {
   "cell_type": "code",
   "execution_count": 8,
   "id": "f8468ab1",
   "metadata": {
    "ExecuteTime": {
     "end_time": "2021-08-08T02:18:07.019116Z",
     "start_time": "2021-08-08T02:18:06.893886Z"
    },
    "hidden": true
   },
   "outputs": [
    {
     "data": {
      "text/plain": [
       "41176"
      ]
     },
     "execution_count": 8,
     "metadata": {},
     "output_type": "execute_result"
    }
   ],
   "source": [
    "(~df_raw.duplicated()).sum()"
   ]
  },
  {
   "cell_type": "markdown",
   "id": "6b3e22ce",
   "metadata": {
    "hidden": true
   },
   "source": [
    "Bisa dilihat bahwa terdapat 12 row/values yang terduplikasi dan ada 41176 values yang tidak terduplikasi"
   ]
  },
  {
   "cell_type": "code",
   "execution_count": 9,
   "id": "90898cad",
   "metadata": {
    "ExecuteTime": {
     "end_time": "2021-08-08T02:18:10.185565Z",
     "start_time": "2021-08-08T02:18:10.043542Z"
    },
    "hidden": true
   },
   "outputs": [
    {
     "data": {
      "text/html": [
       "<div>\n",
       "<style scoped>\n",
       "    .dataframe tbody tr th:only-of-type {\n",
       "        vertical-align: middle;\n",
       "    }\n",
       "\n",
       "    .dataframe tbody tr th {\n",
       "        vertical-align: top;\n",
       "    }\n",
       "\n",
       "    .dataframe thead th {\n",
       "        text-align: right;\n",
       "    }\n",
       "</style>\n",
       "<table border=\"1\" class=\"dataframe\">\n",
       "  <thead>\n",
       "    <tr style=\"text-align: right;\">\n",
       "      <th></th>\n",
       "      <th>age</th>\n",
       "      <th>job</th>\n",
       "      <th>marital</th>\n",
       "      <th>education</th>\n",
       "      <th>default</th>\n",
       "      <th>housing</th>\n",
       "      <th>loan</th>\n",
       "      <th>contact</th>\n",
       "      <th>month</th>\n",
       "      <th>day_of_week</th>\n",
       "      <th>...</th>\n",
       "      <th>campaign</th>\n",
       "      <th>pdays</th>\n",
       "      <th>previous</th>\n",
       "      <th>poutcome</th>\n",
       "      <th>emp.var.rate</th>\n",
       "      <th>cons.price.idx</th>\n",
       "      <th>cons.conf.idx</th>\n",
       "      <th>euribor3m</th>\n",
       "      <th>nr.employed</th>\n",
       "      <th>subcribed</th>\n",
       "    </tr>\n",
       "  </thead>\n",
       "  <tbody>\n",
       "    <tr>\n",
       "      <th>1266</th>\n",
       "      <td>39</td>\n",
       "      <td>blue-collar</td>\n",
       "      <td>married</td>\n",
       "      <td>basic.6y</td>\n",
       "      <td>no</td>\n",
       "      <td>no</td>\n",
       "      <td>no</td>\n",
       "      <td>telephone</td>\n",
       "      <td>may</td>\n",
       "      <td>thu</td>\n",
       "      <td>...</td>\n",
       "      <td>1</td>\n",
       "      <td>999</td>\n",
       "      <td>0</td>\n",
       "      <td>nonexistent</td>\n",
       "      <td>1.1</td>\n",
       "      <td>93.994</td>\n",
       "      <td>-36.4</td>\n",
       "      <td>4.855</td>\n",
       "      <td>5191.0</td>\n",
       "      <td>no</td>\n",
       "    </tr>\n",
       "    <tr>\n",
       "      <th>12261</th>\n",
       "      <td>36</td>\n",
       "      <td>retired</td>\n",
       "      <td>married</td>\n",
       "      <td>unknown</td>\n",
       "      <td>no</td>\n",
       "      <td>no</td>\n",
       "      <td>no</td>\n",
       "      <td>telephone</td>\n",
       "      <td>jul</td>\n",
       "      <td>thu</td>\n",
       "      <td>...</td>\n",
       "      <td>1</td>\n",
       "      <td>999</td>\n",
       "      <td>0</td>\n",
       "      <td>nonexistent</td>\n",
       "      <td>1.4</td>\n",
       "      <td>93.918</td>\n",
       "      <td>-42.7</td>\n",
       "      <td>4.966</td>\n",
       "      <td>5228.1</td>\n",
       "      <td>no</td>\n",
       "    </tr>\n",
       "    <tr>\n",
       "      <th>14234</th>\n",
       "      <td>27</td>\n",
       "      <td>technician</td>\n",
       "      <td>single</td>\n",
       "      <td>professional.course</td>\n",
       "      <td>no</td>\n",
       "      <td>no</td>\n",
       "      <td>no</td>\n",
       "      <td>cellular</td>\n",
       "      <td>jul</td>\n",
       "      <td>mon</td>\n",
       "      <td>...</td>\n",
       "      <td>2</td>\n",
       "      <td>999</td>\n",
       "      <td>0</td>\n",
       "      <td>nonexistent</td>\n",
       "      <td>1.4</td>\n",
       "      <td>93.918</td>\n",
       "      <td>-42.7</td>\n",
       "      <td>4.962</td>\n",
       "      <td>5228.1</td>\n",
       "      <td>no</td>\n",
       "    </tr>\n",
       "    <tr>\n",
       "      <th>16956</th>\n",
       "      <td>47</td>\n",
       "      <td>technician</td>\n",
       "      <td>divorced</td>\n",
       "      <td>high.school</td>\n",
       "      <td>no</td>\n",
       "      <td>yes</td>\n",
       "      <td>no</td>\n",
       "      <td>cellular</td>\n",
       "      <td>jul</td>\n",
       "      <td>thu</td>\n",
       "      <td>...</td>\n",
       "      <td>3</td>\n",
       "      <td>999</td>\n",
       "      <td>0</td>\n",
       "      <td>nonexistent</td>\n",
       "      <td>1.4</td>\n",
       "      <td>93.918</td>\n",
       "      <td>-42.7</td>\n",
       "      <td>4.962</td>\n",
       "      <td>5228.1</td>\n",
       "      <td>no</td>\n",
       "    </tr>\n",
       "    <tr>\n",
       "      <th>18465</th>\n",
       "      <td>32</td>\n",
       "      <td>technician</td>\n",
       "      <td>single</td>\n",
       "      <td>professional.course</td>\n",
       "      <td>no</td>\n",
       "      <td>yes</td>\n",
       "      <td>no</td>\n",
       "      <td>cellular</td>\n",
       "      <td>jul</td>\n",
       "      <td>thu</td>\n",
       "      <td>...</td>\n",
       "      <td>1</td>\n",
       "      <td>999</td>\n",
       "      <td>0</td>\n",
       "      <td>nonexistent</td>\n",
       "      <td>1.4</td>\n",
       "      <td>93.918</td>\n",
       "      <td>-42.7</td>\n",
       "      <td>4.968</td>\n",
       "      <td>5228.1</td>\n",
       "      <td>no</td>\n",
       "    </tr>\n",
       "    <tr>\n",
       "      <th>20216</th>\n",
       "      <td>55</td>\n",
       "      <td>services</td>\n",
       "      <td>married</td>\n",
       "      <td>high.school</td>\n",
       "      <td>unknown</td>\n",
       "      <td>no</td>\n",
       "      <td>no</td>\n",
       "      <td>cellular</td>\n",
       "      <td>aug</td>\n",
       "      <td>mon</td>\n",
       "      <td>...</td>\n",
       "      <td>1</td>\n",
       "      <td>999</td>\n",
       "      <td>0</td>\n",
       "      <td>nonexistent</td>\n",
       "      <td>1.4</td>\n",
       "      <td>93.444</td>\n",
       "      <td>-36.1</td>\n",
       "      <td>4.965</td>\n",
       "      <td>5228.1</td>\n",
       "      <td>no</td>\n",
       "    </tr>\n",
       "    <tr>\n",
       "      <th>20534</th>\n",
       "      <td>41</td>\n",
       "      <td>technician</td>\n",
       "      <td>married</td>\n",
       "      <td>professional.course</td>\n",
       "      <td>no</td>\n",
       "      <td>yes</td>\n",
       "      <td>no</td>\n",
       "      <td>cellular</td>\n",
       "      <td>aug</td>\n",
       "      <td>tue</td>\n",
       "      <td>...</td>\n",
       "      <td>1</td>\n",
       "      <td>999</td>\n",
       "      <td>0</td>\n",
       "      <td>nonexistent</td>\n",
       "      <td>1.4</td>\n",
       "      <td>93.444</td>\n",
       "      <td>-36.1</td>\n",
       "      <td>4.966</td>\n",
       "      <td>5228.1</td>\n",
       "      <td>no</td>\n",
       "    </tr>\n",
       "    <tr>\n",
       "      <th>25217</th>\n",
       "      <td>39</td>\n",
       "      <td>admin.</td>\n",
       "      <td>married</td>\n",
       "      <td>university.degree</td>\n",
       "      <td>no</td>\n",
       "      <td>no</td>\n",
       "      <td>no</td>\n",
       "      <td>cellular</td>\n",
       "      <td>nov</td>\n",
       "      <td>tue</td>\n",
       "      <td>...</td>\n",
       "      <td>2</td>\n",
       "      <td>999</td>\n",
       "      <td>0</td>\n",
       "      <td>nonexistent</td>\n",
       "      <td>-0.1</td>\n",
       "      <td>93.200</td>\n",
       "      <td>-42.0</td>\n",
       "      <td>4.153</td>\n",
       "      <td>5195.8</td>\n",
       "      <td>no</td>\n",
       "    </tr>\n",
       "    <tr>\n",
       "      <th>28477</th>\n",
       "      <td>24</td>\n",
       "      <td>services</td>\n",
       "      <td>single</td>\n",
       "      <td>high.school</td>\n",
       "      <td>no</td>\n",
       "      <td>yes</td>\n",
       "      <td>no</td>\n",
       "      <td>cellular</td>\n",
       "      <td>apr</td>\n",
       "      <td>tue</td>\n",
       "      <td>...</td>\n",
       "      <td>1</td>\n",
       "      <td>999</td>\n",
       "      <td>0</td>\n",
       "      <td>nonexistent</td>\n",
       "      <td>-1.8</td>\n",
       "      <td>93.075</td>\n",
       "      <td>-47.1</td>\n",
       "      <td>1.423</td>\n",
       "      <td>5099.1</td>\n",
       "      <td>no</td>\n",
       "    </tr>\n",
       "    <tr>\n",
       "      <th>32516</th>\n",
       "      <td>35</td>\n",
       "      <td>admin.</td>\n",
       "      <td>married</td>\n",
       "      <td>university.degree</td>\n",
       "      <td>no</td>\n",
       "      <td>yes</td>\n",
       "      <td>no</td>\n",
       "      <td>cellular</td>\n",
       "      <td>may</td>\n",
       "      <td>fri</td>\n",
       "      <td>...</td>\n",
       "      <td>4</td>\n",
       "      <td>999</td>\n",
       "      <td>0</td>\n",
       "      <td>nonexistent</td>\n",
       "      <td>-1.8</td>\n",
       "      <td>92.893</td>\n",
       "      <td>-46.2</td>\n",
       "      <td>1.313</td>\n",
       "      <td>5099.1</td>\n",
       "      <td>no</td>\n",
       "    </tr>\n",
       "    <tr>\n",
       "      <th>36951</th>\n",
       "      <td>45</td>\n",
       "      <td>admin.</td>\n",
       "      <td>married</td>\n",
       "      <td>university.degree</td>\n",
       "      <td>no</td>\n",
       "      <td>no</td>\n",
       "      <td>no</td>\n",
       "      <td>cellular</td>\n",
       "      <td>jul</td>\n",
       "      <td>thu</td>\n",
       "      <td>...</td>\n",
       "      <td>1</td>\n",
       "      <td>999</td>\n",
       "      <td>0</td>\n",
       "      <td>nonexistent</td>\n",
       "      <td>-2.9</td>\n",
       "      <td>92.469</td>\n",
       "      <td>-33.6</td>\n",
       "      <td>1.072</td>\n",
       "      <td>5076.2</td>\n",
       "      <td>yes</td>\n",
       "    </tr>\n",
       "    <tr>\n",
       "      <th>38281</th>\n",
       "      <td>71</td>\n",
       "      <td>retired</td>\n",
       "      <td>single</td>\n",
       "      <td>university.degree</td>\n",
       "      <td>no</td>\n",
       "      <td>no</td>\n",
       "      <td>no</td>\n",
       "      <td>telephone</td>\n",
       "      <td>oct</td>\n",
       "      <td>tue</td>\n",
       "      <td>...</td>\n",
       "      <td>1</td>\n",
       "      <td>999</td>\n",
       "      <td>0</td>\n",
       "      <td>nonexistent</td>\n",
       "      <td>-3.4</td>\n",
       "      <td>92.431</td>\n",
       "      <td>-26.9</td>\n",
       "      <td>0.742</td>\n",
       "      <td>5017.5</td>\n",
       "      <td>no</td>\n",
       "    </tr>\n",
       "  </tbody>\n",
       "</table>\n",
       "<p>12 rows × 21 columns</p>\n",
       "</div>"
      ],
      "text/plain": [
       "       age          job   marital            education  default housing loan  \\\n",
       "1266    39  blue-collar   married             basic.6y       no      no   no   \n",
       "12261   36      retired   married              unknown       no      no   no   \n",
       "14234   27   technician    single  professional.course       no      no   no   \n",
       "16956   47   technician  divorced          high.school       no     yes   no   \n",
       "18465   32   technician    single  professional.course       no     yes   no   \n",
       "20216   55     services   married          high.school  unknown      no   no   \n",
       "20534   41   technician   married  professional.course       no     yes   no   \n",
       "25217   39       admin.   married    university.degree       no      no   no   \n",
       "28477   24     services    single          high.school       no     yes   no   \n",
       "32516   35       admin.   married    university.degree       no     yes   no   \n",
       "36951   45       admin.   married    university.degree       no      no   no   \n",
       "38281   71      retired    single    university.degree       no      no   no   \n",
       "\n",
       "         contact month day_of_week  ...  campaign  pdays  previous  \\\n",
       "1266   telephone   may         thu  ...         1    999         0   \n",
       "12261  telephone   jul         thu  ...         1    999         0   \n",
       "14234   cellular   jul         mon  ...         2    999         0   \n",
       "16956   cellular   jul         thu  ...         3    999         0   \n",
       "18465   cellular   jul         thu  ...         1    999         0   \n",
       "20216   cellular   aug         mon  ...         1    999         0   \n",
       "20534   cellular   aug         tue  ...         1    999         0   \n",
       "25217   cellular   nov         tue  ...         2    999         0   \n",
       "28477   cellular   apr         tue  ...         1    999         0   \n",
       "32516   cellular   may         fri  ...         4    999         0   \n",
       "36951   cellular   jul         thu  ...         1    999         0   \n",
       "38281  telephone   oct         tue  ...         1    999         0   \n",
       "\n",
       "          poutcome emp.var.rate  cons.price.idx  cons.conf.idx  euribor3m  \\\n",
       "1266   nonexistent          1.1          93.994          -36.4      4.855   \n",
       "12261  nonexistent          1.4          93.918          -42.7      4.966   \n",
       "14234  nonexistent          1.4          93.918          -42.7      4.962   \n",
       "16956  nonexistent          1.4          93.918          -42.7      4.962   \n",
       "18465  nonexistent          1.4          93.918          -42.7      4.968   \n",
       "20216  nonexistent          1.4          93.444          -36.1      4.965   \n",
       "20534  nonexistent          1.4          93.444          -36.1      4.966   \n",
       "25217  nonexistent         -0.1          93.200          -42.0      4.153   \n",
       "28477  nonexistent         -1.8          93.075          -47.1      1.423   \n",
       "32516  nonexistent         -1.8          92.893          -46.2      1.313   \n",
       "36951  nonexistent         -2.9          92.469          -33.6      1.072   \n",
       "38281  nonexistent         -3.4          92.431          -26.9      0.742   \n",
       "\n",
       "       nr.employed  subcribed  \n",
       "1266        5191.0         no  \n",
       "12261       5228.1         no  \n",
       "14234       5228.1         no  \n",
       "16956       5228.1         no  \n",
       "18465       5228.1         no  \n",
       "20216       5228.1         no  \n",
       "20534       5228.1         no  \n",
       "25217       5195.8         no  \n",
       "28477       5099.1         no  \n",
       "32516       5099.1         no  \n",
       "36951       5076.2        yes  \n",
       "38281       5017.5         no  \n",
       "\n",
       "[12 rows x 21 columns]"
      ]
     },
     "execution_count": 9,
     "metadata": {},
     "output_type": "execute_result"
    }
   ],
   "source": [
    "df_raw.loc[df_raw.duplicated(keep='first'), :]"
   ]
  },
  {
   "cell_type": "markdown",
   "id": "48c3f611",
   "metadata": {
    "hidden": true
   },
   "source": [
    "Untuk melihat row/value yang teruduplikasi, dan kita akan menyimpan 12 values yang pertama dan akan menghapus sisanya."
   ]
  },
  {
   "cell_type": "code",
   "execution_count": 10,
   "id": "3399c236",
   "metadata": {
    "ExecuteTime": {
     "end_time": "2021-08-08T02:18:11.651724Z",
     "start_time": "2021-08-08T02:18:11.553511Z"
    },
    "hidden": true
   },
   "outputs": [],
   "source": [
    "df_raw.drop_duplicates(keep='first', inplace=True)"
   ]
  },
  {
   "cell_type": "markdown",
   "id": "979224c7",
   "metadata": {
    "hidden": true
   },
   "source": [
    "Sekarang kita lihat apakah masih ada row/values yang terduplikasi"
   ]
  },
  {
   "cell_type": "code",
   "execution_count": 11,
   "id": "da29c696",
   "metadata": {
    "ExecuteTime": {
     "end_time": "2021-08-08T02:18:13.050991Z",
     "start_time": "2021-08-08T02:18:12.954188Z"
    },
    "hidden": true
   },
   "outputs": [
    {
     "data": {
      "text/plain": [
       "0"
      ]
     },
     "execution_count": 11,
     "metadata": {},
     "output_type": "execute_result"
    }
   ],
   "source": [
    "df_raw.duplicated().sum()"
   ]
  },
  {
   "cell_type": "code",
   "execution_count": 12,
   "id": "c08e8942",
   "metadata": {
    "ExecuteTime": {
     "end_time": "2021-08-08T02:18:13.741590Z",
     "start_time": "2021-08-08T02:18:13.643533Z"
    },
    "hidden": true
   },
   "outputs": [
    {
     "data": {
      "text/html": [
       "<div>\n",
       "<style scoped>\n",
       "    .dataframe tbody tr th:only-of-type {\n",
       "        vertical-align: middle;\n",
       "    }\n",
       "\n",
       "    .dataframe tbody tr th {\n",
       "        vertical-align: top;\n",
       "    }\n",
       "\n",
       "    .dataframe thead th {\n",
       "        text-align: right;\n",
       "    }\n",
       "</style>\n",
       "<table border=\"1\" class=\"dataframe\">\n",
       "  <thead>\n",
       "    <tr style=\"text-align: right;\">\n",
       "      <th></th>\n",
       "      <th>age</th>\n",
       "      <th>duration</th>\n",
       "      <th>campaign</th>\n",
       "      <th>pdays</th>\n",
       "      <th>previous</th>\n",
       "      <th>emp.var.rate</th>\n",
       "      <th>cons.price.idx</th>\n",
       "      <th>cons.conf.idx</th>\n",
       "      <th>euribor3m</th>\n",
       "      <th>nr.employed</th>\n",
       "    </tr>\n",
       "  </thead>\n",
       "  <tbody>\n",
       "    <tr>\n",
       "      <th>count</th>\n",
       "      <td>41176.00000</td>\n",
       "      <td>41176.000000</td>\n",
       "      <td>41176.000000</td>\n",
       "      <td>41176.000000</td>\n",
       "      <td>41176.000000</td>\n",
       "      <td>41176.000000</td>\n",
       "      <td>41176.000000</td>\n",
       "      <td>41176.000000</td>\n",
       "      <td>41176.000000</td>\n",
       "      <td>41176.000000</td>\n",
       "    </tr>\n",
       "    <tr>\n",
       "      <th>mean</th>\n",
       "      <td>40.02380</td>\n",
       "      <td>258.315815</td>\n",
       "      <td>2.567879</td>\n",
       "      <td>962.464810</td>\n",
       "      <td>0.173013</td>\n",
       "      <td>0.081922</td>\n",
       "      <td>93.575720</td>\n",
       "      <td>-40.502863</td>\n",
       "      <td>3.621293</td>\n",
       "      <td>5167.034870</td>\n",
       "    </tr>\n",
       "    <tr>\n",
       "      <th>std</th>\n",
       "      <td>10.42068</td>\n",
       "      <td>259.305321</td>\n",
       "      <td>2.770318</td>\n",
       "      <td>186.937102</td>\n",
       "      <td>0.494964</td>\n",
       "      <td>1.570883</td>\n",
       "      <td>0.578839</td>\n",
       "      <td>4.627860</td>\n",
       "      <td>1.734437</td>\n",
       "      <td>72.251364</td>\n",
       "    </tr>\n",
       "    <tr>\n",
       "      <th>min</th>\n",
       "      <td>17.00000</td>\n",
       "      <td>0.000000</td>\n",
       "      <td>1.000000</td>\n",
       "      <td>0.000000</td>\n",
       "      <td>0.000000</td>\n",
       "      <td>-3.400000</td>\n",
       "      <td>92.201000</td>\n",
       "      <td>-50.800000</td>\n",
       "      <td>0.634000</td>\n",
       "      <td>4963.600000</td>\n",
       "    </tr>\n",
       "    <tr>\n",
       "      <th>25%</th>\n",
       "      <td>32.00000</td>\n",
       "      <td>102.000000</td>\n",
       "      <td>1.000000</td>\n",
       "      <td>999.000000</td>\n",
       "      <td>0.000000</td>\n",
       "      <td>-1.800000</td>\n",
       "      <td>93.075000</td>\n",
       "      <td>-42.700000</td>\n",
       "      <td>1.344000</td>\n",
       "      <td>5099.100000</td>\n",
       "    </tr>\n",
       "    <tr>\n",
       "      <th>50%</th>\n",
       "      <td>38.00000</td>\n",
       "      <td>180.000000</td>\n",
       "      <td>2.000000</td>\n",
       "      <td>999.000000</td>\n",
       "      <td>0.000000</td>\n",
       "      <td>1.100000</td>\n",
       "      <td>93.749000</td>\n",
       "      <td>-41.800000</td>\n",
       "      <td>4.857000</td>\n",
       "      <td>5191.000000</td>\n",
       "    </tr>\n",
       "    <tr>\n",
       "      <th>75%</th>\n",
       "      <td>47.00000</td>\n",
       "      <td>319.000000</td>\n",
       "      <td>3.000000</td>\n",
       "      <td>999.000000</td>\n",
       "      <td>0.000000</td>\n",
       "      <td>1.400000</td>\n",
       "      <td>93.994000</td>\n",
       "      <td>-36.400000</td>\n",
       "      <td>4.961000</td>\n",
       "      <td>5228.100000</td>\n",
       "    </tr>\n",
       "    <tr>\n",
       "      <th>max</th>\n",
       "      <td>98.00000</td>\n",
       "      <td>4918.000000</td>\n",
       "      <td>56.000000</td>\n",
       "      <td>999.000000</td>\n",
       "      <td>7.000000</td>\n",
       "      <td>1.400000</td>\n",
       "      <td>94.767000</td>\n",
       "      <td>-26.900000</td>\n",
       "      <td>5.045000</td>\n",
       "      <td>5228.100000</td>\n",
       "    </tr>\n",
       "  </tbody>\n",
       "</table>\n",
       "</div>"
      ],
      "text/plain": [
       "               age      duration      campaign         pdays      previous  \\\n",
       "count  41176.00000  41176.000000  41176.000000  41176.000000  41176.000000   \n",
       "mean      40.02380    258.315815      2.567879    962.464810      0.173013   \n",
       "std       10.42068    259.305321      2.770318    186.937102      0.494964   \n",
       "min       17.00000      0.000000      1.000000      0.000000      0.000000   \n",
       "25%       32.00000    102.000000      1.000000    999.000000      0.000000   \n",
       "50%       38.00000    180.000000      2.000000    999.000000      0.000000   \n",
       "75%       47.00000    319.000000      3.000000    999.000000      0.000000   \n",
       "max       98.00000   4918.000000     56.000000    999.000000      7.000000   \n",
       "\n",
       "       emp.var.rate  cons.price.idx  cons.conf.idx     euribor3m   nr.employed  \n",
       "count  41176.000000    41176.000000   41176.000000  41176.000000  41176.000000  \n",
       "mean       0.081922       93.575720     -40.502863      3.621293   5167.034870  \n",
       "std        1.570883        0.578839       4.627860      1.734437     72.251364  \n",
       "min       -3.400000       92.201000     -50.800000      0.634000   4963.600000  \n",
       "25%       -1.800000       93.075000     -42.700000      1.344000   5099.100000  \n",
       "50%        1.100000       93.749000     -41.800000      4.857000   5191.000000  \n",
       "75%        1.400000       93.994000     -36.400000      4.961000   5228.100000  \n",
       "max        1.400000       94.767000     -26.900000      5.045000   5228.100000  "
      ]
     },
     "execution_count": 12,
     "metadata": {},
     "output_type": "execute_result"
    }
   ],
   "source": [
    "df_raw.describe()"
   ]
  },
  {
   "cell_type": "markdown",
   "id": "f3b22d57",
   "metadata": {
    "hidden": true
   },
   "source": [
    "Bisa kita lihat bahwa untuk kategori umur memiliki rentang usia 17-95 tahun, usia terendah adalah 17 tahun dan usia tertinggi adalah 98 tahun, rata-rata umur adalalh 40 tahun."
   ]
  },
  {
   "cell_type": "markdown",
   "id": "7a48dcea",
   "metadata": {
    "heading_collapsed": true
   },
   "source": [
    "## Explorasi Data"
   ]
  },
  {
   "cell_type": "markdown",
   "id": "230eb2fc",
   "metadata": {
    "hidden": true
   },
   "source": [
    "Bagian ini berisi explorasi data pada dataset diatas dengan menggunakan query, grouping, visualisasi sederhana, dan lain sebagainya."
   ]
  },
  {
   "cell_type": "code",
   "execution_count": 13,
   "id": "41e446d8",
   "metadata": {
    "ExecuteTime": {
     "end_time": "2021-08-08T02:18:16.459512Z",
     "start_time": "2021-08-08T02:18:16.412494Z"
    },
    "hidden": true
   },
   "outputs": [
    {
     "data": {
      "text/html": [
       "<div>\n",
       "<style scoped>\n",
       "    .dataframe tbody tr th:only-of-type {\n",
       "        vertical-align: middle;\n",
       "    }\n",
       "\n",
       "    .dataframe tbody tr th {\n",
       "        vertical-align: top;\n",
       "    }\n",
       "\n",
       "    .dataframe thead th {\n",
       "        text-align: right;\n",
       "    }\n",
       "</style>\n",
       "<table border=\"1\" class=\"dataframe\">\n",
       "  <thead>\n",
       "    <tr style=\"text-align: right;\">\n",
       "      <th></th>\n",
       "      <th>age</th>\n",
       "      <th>job</th>\n",
       "      <th>marital</th>\n",
       "      <th>education</th>\n",
       "      <th>default</th>\n",
       "      <th>housing</th>\n",
       "      <th>loan</th>\n",
       "      <th>contact</th>\n",
       "      <th>month</th>\n",
       "      <th>day_of_week</th>\n",
       "      <th>...</th>\n",
       "      <th>campaign</th>\n",
       "      <th>pdays</th>\n",
       "      <th>previous</th>\n",
       "      <th>poutcome</th>\n",
       "      <th>emp.var.rate</th>\n",
       "      <th>cons.price.idx</th>\n",
       "      <th>cons.conf.idx</th>\n",
       "      <th>euribor3m</th>\n",
       "      <th>nr.employed</th>\n",
       "      <th>subcribed</th>\n",
       "    </tr>\n",
       "  </thead>\n",
       "  <tbody>\n",
       "    <tr>\n",
       "      <th>0</th>\n",
       "      <td>56</td>\n",
       "      <td>housemaid</td>\n",
       "      <td>married</td>\n",
       "      <td>basic.4y</td>\n",
       "      <td>no</td>\n",
       "      <td>no</td>\n",
       "      <td>no</td>\n",
       "      <td>telephone</td>\n",
       "      <td>may</td>\n",
       "      <td>mon</td>\n",
       "      <td>...</td>\n",
       "      <td>1</td>\n",
       "      <td>999</td>\n",
       "      <td>0</td>\n",
       "      <td>nonexistent</td>\n",
       "      <td>1.1</td>\n",
       "      <td>93.994</td>\n",
       "      <td>-36.4</td>\n",
       "      <td>4.857</td>\n",
       "      <td>5191.0</td>\n",
       "      <td>no</td>\n",
       "    </tr>\n",
       "    <tr>\n",
       "      <th>1</th>\n",
       "      <td>57</td>\n",
       "      <td>services</td>\n",
       "      <td>married</td>\n",
       "      <td>high.school</td>\n",
       "      <td>unknown</td>\n",
       "      <td>no</td>\n",
       "      <td>no</td>\n",
       "      <td>telephone</td>\n",
       "      <td>may</td>\n",
       "      <td>mon</td>\n",
       "      <td>...</td>\n",
       "      <td>1</td>\n",
       "      <td>999</td>\n",
       "      <td>0</td>\n",
       "      <td>nonexistent</td>\n",
       "      <td>1.1</td>\n",
       "      <td>93.994</td>\n",
       "      <td>-36.4</td>\n",
       "      <td>4.857</td>\n",
       "      <td>5191.0</td>\n",
       "      <td>no</td>\n",
       "    </tr>\n",
       "  </tbody>\n",
       "</table>\n",
       "<p>2 rows × 21 columns</p>\n",
       "</div>"
      ],
      "text/plain": [
       "   age        job  marital    education  default housing loan    contact  \\\n",
       "0   56  housemaid  married     basic.4y       no      no   no  telephone   \n",
       "1   57   services  married  high.school  unknown      no   no  telephone   \n",
       "\n",
       "  month day_of_week  ...  campaign  pdays  previous     poutcome emp.var.rate  \\\n",
       "0   may         mon  ...         1    999         0  nonexistent          1.1   \n",
       "1   may         mon  ...         1    999         0  nonexistent          1.1   \n",
       "\n",
       "   cons.price.idx  cons.conf.idx  euribor3m  nr.employed  subcribed  \n",
       "0          93.994          -36.4      4.857       5191.0         no  \n",
       "1          93.994          -36.4      4.857       5191.0         no  \n",
       "\n",
       "[2 rows x 21 columns]"
      ]
     },
     "execution_count": 13,
     "metadata": {},
     "output_type": "execute_result"
    }
   ],
   "source": [
    "df_raw.head(2)"
   ]
  },
  {
   "cell_type": "markdown",
   "id": "8a2d7690",
   "metadata": {
    "hidden": true
   },
   "source": [
    "#####  Selecting Educatin"
   ]
  },
  {
   "cell_type": "code",
   "execution_count": 14,
   "id": "fa335112",
   "metadata": {
    "ExecuteTime": {
     "end_time": "2021-08-08T02:18:18.164189Z",
     "start_time": "2021-08-08T02:18:18.148335Z"
    },
    "hidden": true
   },
   "outputs": [],
   "source": [
    "df_raw.set_index(\"education\", inplace = True)"
   ]
  },
  {
   "cell_type": "code",
   "execution_count": 15,
   "id": "3d0725d5",
   "metadata": {
    "ExecuteTime": {
     "end_time": "2021-08-08T02:18:19.015888Z",
     "start_time": "2021-08-08T02:18:18.934041Z"
    },
    "hidden": true
   },
   "outputs": [],
   "source": [
    "df_raw.drop(index=['basic.4y','basic.6y','basic.9y','illiterate','unknown'], inplace=True)"
   ]
  },
  {
   "cell_type": "code",
   "execution_count": 16,
   "id": "7cb5cb4d",
   "metadata": {
    "ExecuteTime": {
     "end_time": "2021-08-08T02:18:19.882987Z",
     "start_time": "2021-08-08T02:18:19.846991Z"
    },
    "hidden": true,
    "scrolled": false
   },
   "outputs": [],
   "source": [
    "df_raw.reset_index(level=0, inplace=True)"
   ]
  },
  {
   "cell_type": "code",
   "execution_count": 17,
   "id": "e9d29f56",
   "metadata": {
    "ExecuteTime": {
     "end_time": "2021-08-08T02:18:20.664762Z",
     "start_time": "2021-08-08T02:18:20.618223Z"
    },
    "hidden": true,
    "scrolled": true
   },
   "outputs": [
    {
     "data": {
      "text/html": [
       "<div>\n",
       "<style scoped>\n",
       "    .dataframe tbody tr th:only-of-type {\n",
       "        vertical-align: middle;\n",
       "    }\n",
       "\n",
       "    .dataframe tbody tr th {\n",
       "        vertical-align: top;\n",
       "    }\n",
       "\n",
       "    .dataframe thead th {\n",
       "        text-align: right;\n",
       "    }\n",
       "</style>\n",
       "<table border=\"1\" class=\"dataframe\">\n",
       "  <thead>\n",
       "    <tr style=\"text-align: right;\">\n",
       "      <th></th>\n",
       "      <th>education</th>\n",
       "      <th>age</th>\n",
       "      <th>job</th>\n",
       "      <th>marital</th>\n",
       "      <th>default</th>\n",
       "      <th>housing</th>\n",
       "      <th>loan</th>\n",
       "      <th>contact</th>\n",
       "      <th>month</th>\n",
       "      <th>day_of_week</th>\n",
       "      <th>...</th>\n",
       "      <th>campaign</th>\n",
       "      <th>pdays</th>\n",
       "      <th>previous</th>\n",
       "      <th>poutcome</th>\n",
       "      <th>emp.var.rate</th>\n",
       "      <th>cons.price.idx</th>\n",
       "      <th>cons.conf.idx</th>\n",
       "      <th>euribor3m</th>\n",
       "      <th>nr.employed</th>\n",
       "      <th>subcribed</th>\n",
       "    </tr>\n",
       "  </thead>\n",
       "  <tbody>\n",
       "    <tr>\n",
       "      <th>0</th>\n",
       "      <td>high.school</td>\n",
       "      <td>57</td>\n",
       "      <td>services</td>\n",
       "      <td>married</td>\n",
       "      <td>unknown</td>\n",
       "      <td>no</td>\n",
       "      <td>no</td>\n",
       "      <td>telephone</td>\n",
       "      <td>may</td>\n",
       "      <td>mon</td>\n",
       "      <td>...</td>\n",
       "      <td>1</td>\n",
       "      <td>999</td>\n",
       "      <td>0</td>\n",
       "      <td>nonexistent</td>\n",
       "      <td>1.1</td>\n",
       "      <td>93.994</td>\n",
       "      <td>-36.4</td>\n",
       "      <td>4.857</td>\n",
       "      <td>5191.0</td>\n",
       "      <td>no</td>\n",
       "    </tr>\n",
       "    <tr>\n",
       "      <th>1</th>\n",
       "      <td>high.school</td>\n",
       "      <td>37</td>\n",
       "      <td>services</td>\n",
       "      <td>married</td>\n",
       "      <td>no</td>\n",
       "      <td>yes</td>\n",
       "      <td>no</td>\n",
       "      <td>telephone</td>\n",
       "      <td>may</td>\n",
       "      <td>mon</td>\n",
       "      <td>...</td>\n",
       "      <td>1</td>\n",
       "      <td>999</td>\n",
       "      <td>0</td>\n",
       "      <td>nonexistent</td>\n",
       "      <td>1.1</td>\n",
       "      <td>93.994</td>\n",
       "      <td>-36.4</td>\n",
       "      <td>4.857</td>\n",
       "      <td>5191.0</td>\n",
       "      <td>no</td>\n",
       "    </tr>\n",
       "    <tr>\n",
       "      <th>2</th>\n",
       "      <td>high.school</td>\n",
       "      <td>56</td>\n",
       "      <td>services</td>\n",
       "      <td>married</td>\n",
       "      <td>no</td>\n",
       "      <td>no</td>\n",
       "      <td>yes</td>\n",
       "      <td>telephone</td>\n",
       "      <td>may</td>\n",
       "      <td>mon</td>\n",
       "      <td>...</td>\n",
       "      <td>1</td>\n",
       "      <td>999</td>\n",
       "      <td>0</td>\n",
       "      <td>nonexistent</td>\n",
       "      <td>1.1</td>\n",
       "      <td>93.994</td>\n",
       "      <td>-36.4</td>\n",
       "      <td>4.857</td>\n",
       "      <td>5191.0</td>\n",
       "      <td>no</td>\n",
       "    </tr>\n",
       "    <tr>\n",
       "      <th>3</th>\n",
       "      <td>professional.course</td>\n",
       "      <td>59</td>\n",
       "      <td>admin.</td>\n",
       "      <td>married</td>\n",
       "      <td>no</td>\n",
       "      <td>no</td>\n",
       "      <td>no</td>\n",
       "      <td>telephone</td>\n",
       "      <td>may</td>\n",
       "      <td>mon</td>\n",
       "      <td>...</td>\n",
       "      <td>1</td>\n",
       "      <td>999</td>\n",
       "      <td>0</td>\n",
       "      <td>nonexistent</td>\n",
       "      <td>1.1</td>\n",
       "      <td>93.994</td>\n",
       "      <td>-36.4</td>\n",
       "      <td>4.857</td>\n",
       "      <td>5191.0</td>\n",
       "      <td>no</td>\n",
       "    </tr>\n",
       "    <tr>\n",
       "      <th>4</th>\n",
       "      <td>professional.course</td>\n",
       "      <td>24</td>\n",
       "      <td>technician</td>\n",
       "      <td>single</td>\n",
       "      <td>no</td>\n",
       "      <td>yes</td>\n",
       "      <td>no</td>\n",
       "      <td>telephone</td>\n",
       "      <td>may</td>\n",
       "      <td>mon</td>\n",
       "      <td>...</td>\n",
       "      <td>1</td>\n",
       "      <td>999</td>\n",
       "      <td>0</td>\n",
       "      <td>nonexistent</td>\n",
       "      <td>1.1</td>\n",
       "      <td>93.994</td>\n",
       "      <td>-36.4</td>\n",
       "      <td>4.857</td>\n",
       "      <td>5191.0</td>\n",
       "      <td>no</td>\n",
       "    </tr>\n",
       "  </tbody>\n",
       "</table>\n",
       "<p>5 rows × 21 columns</p>\n",
       "</div>"
      ],
      "text/plain": [
       "             education  age         job  marital  default housing loan  \\\n",
       "0          high.school   57    services  married  unknown      no   no   \n",
       "1          high.school   37    services  married       no     yes   no   \n",
       "2          high.school   56    services  married       no      no  yes   \n",
       "3  professional.course   59      admin.  married       no      no   no   \n",
       "4  professional.course   24  technician   single       no     yes   no   \n",
       "\n",
       "     contact month day_of_week  ...  campaign  pdays  previous     poutcome  \\\n",
       "0  telephone   may         mon  ...         1    999         0  nonexistent   \n",
       "1  telephone   may         mon  ...         1    999         0  nonexistent   \n",
       "2  telephone   may         mon  ...         1    999         0  nonexistent   \n",
       "3  telephone   may         mon  ...         1    999         0  nonexistent   \n",
       "4  telephone   may         mon  ...         1    999         0  nonexistent   \n",
       "\n",
       "  emp.var.rate  cons.price.idx  cons.conf.idx  euribor3m  nr.employed  \\\n",
       "0          1.1          93.994          -36.4      4.857       5191.0   \n",
       "1          1.1          93.994          -36.4      4.857       5191.0   \n",
       "2          1.1          93.994          -36.4      4.857       5191.0   \n",
       "3          1.1          93.994          -36.4      4.857       5191.0   \n",
       "4          1.1          93.994          -36.4      4.857       5191.0   \n",
       "\n",
       "   subcribed  \n",
       "0         no  \n",
       "1         no  \n",
       "2         no  \n",
       "3         no  \n",
       "4         no  \n",
       "\n",
       "[5 rows x 21 columns]"
      ]
     },
     "execution_count": 17,
     "metadata": {},
     "output_type": "execute_result"
    }
   ],
   "source": [
    "df_raw.head()"
   ]
  },
  {
   "cell_type": "markdown",
   "id": "9e436b87",
   "metadata": {
    "ExecuteTime": {
     "end_time": "2021-08-06T09:18:20.447422Z",
     "start_time": "2021-08-06T09:18:20.415422Z"
    },
    "hidden": true
   },
   "source": [
    "##### Filltering age"
   ]
  },
  {
   "cell_type": "code",
   "execution_count": 18,
   "id": "50f5a952",
   "metadata": {
    "ExecuteTime": {
     "end_time": "2021-08-08T02:18:22.213732Z",
     "start_time": "2021-08-08T02:18:22.105335Z"
    },
    "hidden": true
   },
   "outputs": [],
   "source": [
    "df_filt = df_raw[df_raw[\"age\"] <= 80]"
   ]
  },
  {
   "cell_type": "markdown",
   "id": "37b81ee5",
   "metadata": {
    "hidden": true
   },
   "source": [
    "#### Visualisasi Sederhana"
   ]
  },
  {
   "cell_type": "code",
   "execution_count": 19,
   "id": "4e5bc299",
   "metadata": {
    "ExecuteTime": {
     "end_time": "2021-08-08T02:18:23.690924Z",
     "start_time": "2021-08-08T02:18:23.653577Z"
    },
    "code_folding": [
     0
    ],
    "hidden": true
   },
   "outputs": [],
   "source": [
    "# Python ≥3.5 is required\n",
    "import sys\n",
    "assert sys.version_info >= (3, 5)\n",
    "\n",
    "# Scikit-Learn ≥0.20 is required\n",
    "import sklearn\n",
    "assert sklearn.__version__ >= \"0.20\"\n",
    "\n",
    "# Common imports\n",
    "import numpy as np\n",
    "import os\n",
    "\n",
    "# To plot pretty figures\n",
    "%matplotlib inline\n",
    "import matplotlib as mpl\n",
    "import matplotlib.pyplot as plt\n",
    "mpl.rc('axes', labelsize=14)\n",
    "mpl.rc('xtick', labelsize=12)\n",
    "mpl.rc('ytick', labelsize=12)\n",
    "\n",
    "# Where to save the figures\n",
    "PROJECT_ROOT_DIR = \".\"\n",
    "CHAPTER_ID = \"Ploting\"\n",
    "IMAGES_PATH = os.path.join(PROJECT_ROOT_DIR, \"images\", CHAPTER_ID)\n",
    "os.makedirs(IMAGES_PATH, exist_ok=True)\n",
    "\n",
    "def save_fig(fig_id, tight_layout=True, fig_extension=\"png\", resolution=300):\n",
    "    path = os.path.join(IMAGES_PATH, fig_id + \".\" + fig_extension)\n",
    "    print(\"Saving figure\", fig_id)\n",
    "    if tight_layout:\n",
    "        plt.tight_layout()\n",
    "    plt.savefig(path, format=fig_extension, dpi=resolution)\n",
    "\n",
    "# Ignore useless warnings (see SciPy issue #5998)\n",
    "import warnings\n",
    "warnings.filterwarnings(action=\"ignore\", message=\"^internal gelsd\")"
   ]
  },
  {
   "cell_type": "code",
   "execution_count": 20,
   "id": "32fc918b",
   "metadata": {
    "ExecuteTime": {
     "end_time": "2021-08-08T02:18:30.058486Z",
     "start_time": "2021-08-08T02:18:24.578215Z"
    },
    "hidden": true
   },
   "outputs": [
    {
     "name": "stdout",
     "output_type": "stream",
     "text": [
      "Saving figure attribute_histogram_plots\n"
     ]
    },
    {
     "data": {
      "image/png": "[encoded data removed]",
      "text/plain": [
       "<Figure size 1440x1080 with 12 Axes>"
      ]
     },
     "metadata": {
      "needs_background": "light"
     },
     "output_type": "display_data"
    }
   ],
   "source": [
    "df_filt.hist(bins=50, figsize=(20,15))\n",
    "save_fig(\"attribute_histogram_plots\")\n",
    "plt.show()"
   ]
  },
  {
   "cell_type": "markdown",
   "id": "fb449f55",
   "metadata": {
    "hidden": true
   },
   "source": [
    " - Rata-rata age ada diangke 30 tahun, terlihat durasi skew ke kanan artinya data tidak terdistribusi dengan normal.\n",
    " - Smua data memiliki banyak outliers."
   ]
  },
  {
   "cell_type": "markdown",
   "id": "e10cf6e9",
   "metadata": {
    "heading_collapsed": true
   },
   "source": [
    "## Data Preprocessing"
   ]
  },
  {
   "cell_type": "markdown",
   "id": "d57a3c86",
   "metadata": {
    "hidden": true
   },
   "source": [
    "Bagian ini berisi proses penyiapan data untuk proses pelatihan model, seperti pembagian data menjadi train-val-test, transformasi data (normalisasi, encoding, dll.), dan proses-proses lain yang dibutuhkan."
   ]
  },
  {
   "cell_type": "markdown",
   "id": "795da043",
   "metadata": {
    "hidden": true
   },
   "source": [
    "#### Encoding (Dummiying)"
   ]
  },
  {
   "cell_type": "code",
   "execution_count": 21,
   "id": "7f554c1e",
   "metadata": {
    "ExecuteTime": {
     "end_time": "2021-08-08T02:18:45.081559Z",
     "start_time": "2021-08-08T02:18:44.885306Z"
    },
    "hidden": true
   },
   "outputs": [
    {
     "data": {
      "text/html": [
       "<div>\n",
       "<style scoped>\n",
       "    .dataframe tbody tr th:only-of-type {\n",
       "        vertical-align: middle;\n",
       "    }\n",
       "\n",
       "    .dataframe tbody tr th {\n",
       "        vertical-align: top;\n",
       "    }\n",
       "\n",
       "    .dataframe thead th {\n",
       "        text-align: right;\n",
       "    }\n",
       "</style>\n",
       "<table border=\"1\" class=\"dataframe\">\n",
       "  <thead>\n",
       "    <tr style=\"text-align: right;\">\n",
       "      <th></th>\n",
       "      <th>education</th>\n",
       "      <th>age</th>\n",
       "      <th>job</th>\n",
       "      <th>marital</th>\n",
       "      <th>default</th>\n",
       "      <th>housing</th>\n",
       "      <th>loan</th>\n",
       "      <th>contact</th>\n",
       "      <th>month</th>\n",
       "      <th>day_of_week</th>\n",
       "      <th>...</th>\n",
       "      <th>campaign</th>\n",
       "      <th>pdays</th>\n",
       "      <th>previous</th>\n",
       "      <th>poutcome</th>\n",
       "      <th>emp.var.rate</th>\n",
       "      <th>cons.price.idx</th>\n",
       "      <th>cons.conf.idx</th>\n",
       "      <th>euribor3m</th>\n",
       "      <th>nr.employed</th>\n",
       "      <th>subcribed</th>\n",
       "    </tr>\n",
       "  </thead>\n",
       "  <tbody>\n",
       "    <tr>\n",
       "      <th>0</th>\n",
       "      <td>0</td>\n",
       "      <td>57</td>\n",
       "      <td>7</td>\n",
       "      <td>1</td>\n",
       "      <td>unknown</td>\n",
       "      <td>0</td>\n",
       "      <td>0</td>\n",
       "      <td>telephone</td>\n",
       "      <td>may</td>\n",
       "      <td>mon</td>\n",
       "      <td>...</td>\n",
       "      <td>1</td>\n",
       "      <td>999</td>\n",
       "      <td>0</td>\n",
       "      <td>1</td>\n",
       "      <td>1.1</td>\n",
       "      <td>93.994</td>\n",
       "      <td>-36.4</td>\n",
       "      <td>4.857</td>\n",
       "      <td>5191.0</td>\n",
       "      <td>0</td>\n",
       "    </tr>\n",
       "    <tr>\n",
       "      <th>1</th>\n",
       "      <td>0</td>\n",
       "      <td>37</td>\n",
       "      <td>7</td>\n",
       "      <td>1</td>\n",
       "      <td>no</td>\n",
       "      <td>2</td>\n",
       "      <td>0</td>\n",
       "      <td>telephone</td>\n",
       "      <td>may</td>\n",
       "      <td>mon</td>\n",
       "      <td>...</td>\n",
       "      <td>1</td>\n",
       "      <td>999</td>\n",
       "      <td>0</td>\n",
       "      <td>1</td>\n",
       "      <td>1.1</td>\n",
       "      <td>93.994</td>\n",
       "      <td>-36.4</td>\n",
       "      <td>4.857</td>\n",
       "      <td>5191.0</td>\n",
       "      <td>0</td>\n",
       "    </tr>\n",
       "    <tr>\n",
       "      <th>2</th>\n",
       "      <td>0</td>\n",
       "      <td>56</td>\n",
       "      <td>7</td>\n",
       "      <td>1</td>\n",
       "      <td>no</td>\n",
       "      <td>0</td>\n",
       "      <td>2</td>\n",
       "      <td>telephone</td>\n",
       "      <td>may</td>\n",
       "      <td>mon</td>\n",
       "      <td>...</td>\n",
       "      <td>1</td>\n",
       "      <td>999</td>\n",
       "      <td>0</td>\n",
       "      <td>1</td>\n",
       "      <td>1.1</td>\n",
       "      <td>93.994</td>\n",
       "      <td>-36.4</td>\n",
       "      <td>4.857</td>\n",
       "      <td>5191.0</td>\n",
       "      <td>0</td>\n",
       "    </tr>\n",
       "  </tbody>\n",
       "</table>\n",
       "<p>3 rows × 21 columns</p>\n",
       "</div>"
      ],
      "text/plain": [
       "   education  age  job  marital  default  housing  loan    contact month  \\\n",
       "0          0   57    7        1  unknown        0     0  telephone   may   \n",
       "1          0   37    7        1       no        2     0  telephone   may   \n",
       "2          0   56    7        1       no        0     2  telephone   may   \n",
       "\n",
       "  day_of_week  ...  campaign  pdays  previous  poutcome  emp.var.rate  \\\n",
       "0         mon  ...         1    999         0         1           1.1   \n",
       "1         mon  ...         1    999         0         1           1.1   \n",
       "2         mon  ...         1    999         0         1           1.1   \n",
       "\n",
       "   cons.price.idx  cons.conf.idx  euribor3m  nr.employed  subcribed  \n",
       "0          93.994          -36.4      4.857       5191.0          0  \n",
       "1          93.994          -36.4      4.857       5191.0          0  \n",
       "2          93.994          -36.4      4.857       5191.0          0  \n",
       "\n",
       "[3 rows x 21 columns]"
      ]
     },
     "execution_count": 21,
     "metadata": {},
     "output_type": "execute_result"
    }
   ],
   "source": [
    "from sklearn.preprocessing import LabelEncoder\n",
    "\n",
    "le = LabelEncoder()\n",
    "\n",
    "df_filt['job'] = le.fit_transform(df_filt['job'])\n",
    "df_filt['marital'] = le.fit_transform(df_filt['marital'])\n",
    "df_filt['education'] = le.fit_transform(df_filt['education'])\n",
    "df_filt['housing'] = le.fit_transform(df_filt['housing'])\n",
    "df_filt['poutcome'] = le.fit_transform(df_filt['poutcome'])\n",
    "df_filt['loan'] = le.fit_transform(df_filt['loan'])\n",
    "df_filt['subcribed'] = le.fit_transform(df_filt['subcribed'])\n",
    "df_filt.head(3)"
   ]
  },
  {
   "cell_type": "markdown",
   "id": "c70e686a",
   "metadata": {
    "hidden": true
   },
   "source": [
    "#### Creating Feature and Target"
   ]
  },
  {
   "cell_type": "code",
   "execution_count": 22,
   "id": "d2be1d12",
   "metadata": {
    "ExecuteTime": {
     "end_time": "2021-08-08T02:18:47.137642Z",
     "start_time": "2021-08-08T02:18:47.074944Z"
    },
    "hidden": true
   },
   "outputs": [],
   "source": [
    "feature_cols = [\n",
    "    'age', 'job', 'marital', 'education', 'housing','poutcome', 'loan',\n",
    "    'duration', 'previous','cons.conf.idx'\n",
    "]\n",
    "df_train = df_filt\n",
    "X = df_train[feature_cols]\n",
    "y = df_train['subcribed']"
   ]
  },
  {
   "cell_type": "code",
   "execution_count": 23,
   "id": "2c31d83b",
   "metadata": {
    "ExecuteTime": {
     "end_time": "2021-08-08T02:18:48.442580Z",
     "start_time": "2021-08-08T02:18:48.354754Z"
    },
    "hidden": true
   },
   "outputs": [
    {
     "name": "stdout",
     "output_type": "stream",
     "text": [
      "(26891, 21)\n"
     ]
    },
    {
     "data": {
      "text/html": [
       "<div>\n",
       "<style scoped>\n",
       "    .dataframe tbody tr th:only-of-type {\n",
       "        vertical-align: middle;\n",
       "    }\n",
       "\n",
       "    .dataframe tbody tr th {\n",
       "        vertical-align: top;\n",
       "    }\n",
       "\n",
       "    .dataframe thead th {\n",
       "        text-align: right;\n",
       "    }\n",
       "</style>\n",
       "<table border=\"1\" class=\"dataframe\">\n",
       "  <thead>\n",
       "    <tr style=\"text-align: right;\">\n",
       "      <th></th>\n",
       "      <th>age</th>\n",
       "      <th>job</th>\n",
       "      <th>marital</th>\n",
       "      <th>education</th>\n",
       "      <th>housing</th>\n",
       "      <th>poutcome</th>\n",
       "      <th>loan</th>\n",
       "      <th>duration</th>\n",
       "      <th>previous</th>\n",
       "      <th>cons.conf.idx</th>\n",
       "    </tr>\n",
       "  </thead>\n",
       "  <tbody>\n",
       "    <tr>\n",
       "      <th>0</th>\n",
       "      <td>57</td>\n",
       "      <td>7</td>\n",
       "      <td>1</td>\n",
       "      <td>0</td>\n",
       "      <td>0</td>\n",
       "      <td>1</td>\n",
       "      <td>0</td>\n",
       "      <td>149</td>\n",
       "      <td>0</td>\n",
       "      <td>-36.4</td>\n",
       "    </tr>\n",
       "    <tr>\n",
       "      <th>1</th>\n",
       "      <td>37</td>\n",
       "      <td>7</td>\n",
       "      <td>1</td>\n",
       "      <td>0</td>\n",
       "      <td>2</td>\n",
       "      <td>1</td>\n",
       "      <td>0</td>\n",
       "      <td>226</td>\n",
       "      <td>0</td>\n",
       "      <td>-36.4</td>\n",
       "    </tr>\n",
       "  </tbody>\n",
       "</table>\n",
       "</div>"
      ],
      "text/plain": [
       "   age  job  marital  education  housing  poutcome  loan  duration  previous  \\\n",
       "0   57    7        1          0        0         1     0       149         0   \n",
       "1   37    7        1          0        2         1     0       226         0   \n",
       "\n",
       "   cons.conf.idx  \n",
       "0          -36.4  \n",
       "1          -36.4  "
      ]
     },
     "execution_count": 23,
     "metadata": {},
     "output_type": "execute_result"
    }
   ],
   "source": [
    "print(df_train.shape)\n",
    "X.head(2)"
   ]
  },
  {
   "cell_type": "code",
   "execution_count": 24,
   "id": "629a70db",
   "metadata": {
    "ExecuteTime": {
     "end_time": "2021-08-08T02:18:57.826972Z",
     "start_time": "2021-08-08T02:18:56.715189Z"
    },
    "hidden": true,
    "scrolled": false
   },
   "outputs": [
    {
     "data": {
      "text/plain": [
       "<AxesSubplot:>"
      ]
     },
     "execution_count": 24,
     "metadata": {},
     "output_type": "execute_result"
    },
    {
     "data": {
      "image/png": "[encoded data removed]",
      "text/plain": [
       "<Figure size 936x576 with 2 Axes>"
      ]
     },
     "metadata": {
      "needs_background": "light"
     },
     "output_type": "display_data"
    }
   ],
   "source": [
    "plt.figure(figsize=(13,8))\n",
    "sns.heatmap(df_filt[feature_cols+['subcribed']].corr(), annot=True, fmt='.2f')"
   ]
  },
  {
   "cell_type": "markdown",
   "id": "63abbff9",
   "metadata": {
    "hidden": true
   },
   "source": [
    "Dari data korelasi antar kolom, bisa kita lihat bahwa duration memiliki relasi yang cukup kuat yaitu 0.40 dari kolom yang lain diikuti dengan previous yaitu 0.23, bisa kita simpulkan bahwa duration dan previous memilki pengaruh yang besar terhadap target subscribed(tertarik obligasi/tidak). Sedangkan age,job, dan loan adalah kolom yang tidak memilki relasi terhadap target subscribed, bisa kita simpulkan bahwa age,job, dan loan tidak berpengaruh dengan target subscribed."
   ]
  },
  {
   "cell_type": "markdown",
   "id": "a1970b9b",
   "metadata": {
    "hidden": true
   },
   "source": [
    "#### Splitting Data"
   ]
  },
  {
   "cell_type": "code",
   "execution_count": 25,
   "id": "3471d38d",
   "metadata": {
    "ExecuteTime": {
     "end_time": "2021-08-08T02:19:02.451370Z",
     "start_time": "2021-08-08T02:19:02.433653Z"
    },
    "hidden": true
   },
   "outputs": [],
   "source": [
    "X_train, X_test, y_train, y_test = train_test_split(X, y, test_size=0.3, random_state=77)"
   ]
  },
  {
   "cell_type": "code",
   "execution_count": 26,
   "id": "18fb9717",
   "metadata": {
    "ExecuteTime": {
     "end_time": "2021-08-08T02:19:03.347496Z",
     "start_time": "2021-08-08T02:19:03.332773Z"
    },
    "hidden": true
   },
   "outputs": [
    {
     "name": "stdout",
     "output_type": "stream",
     "text": [
      "X_train: (18823, 10)\n",
      "X_test : (8068, 10)\n",
      "y_train: (18823,)\n",
      "y_test: (8068,)\n"
     ]
    }
   ],
   "source": [
    "print('X_train:',X_train.shape)\n",
    "print('X_test :',X_test.shape)\n",
    "print('y_train:',y_train.shape)\n",
    "print('y_test:',y_test.shape)"
   ]
  },
  {
   "cell_type": "markdown",
   "id": "432eefa9",
   "metadata": {
    "hidden": true
   },
   "source": [
    "#### Normalisasi/Standarization"
   ]
  },
  {
   "cell_type": "code",
   "execution_count": 27,
   "id": "000d774a",
   "metadata": {
    "ExecuteTime": {
     "end_time": "2021-08-08T02:19:05.394018Z",
     "start_time": "2021-08-08T02:19:05.381699Z"
    },
    "hidden": true
   },
   "outputs": [],
   "source": [
    "from sklearn.preprocessing import StandardScaler\n",
    "scaler = StandardScaler()"
   ]
  },
  {
   "cell_type": "code",
   "execution_count": 28,
   "id": "3da1623b",
   "metadata": {
    "ExecuteTime": {
     "end_time": "2021-08-08T02:19:06.952495Z",
     "start_time": "2021-08-08T02:19:06.912422Z"
    },
    "hidden": true
   },
   "outputs": [],
   "source": [
    "X_train_trf = scaler.fit_transform(X_train)\n",
    "X_test_trf = scaler.transform(X_test)"
   ]
  },
  {
   "cell_type": "markdown",
   "id": "e05b2c93",
   "metadata": {
    "heading_collapsed": true
   },
   "source": [
    "## Pendefinisian Model"
   ]
  },
  {
   "cell_type": "markdown",
   "id": "23b638ff",
   "metadata": {
    "hidden": true
   },
   "source": [
    "Bagian ini berisi cell untuk mendefinisikan model sampai kompilasi model. Akan lebih bagus jika didahului dengan penjelasan mengapa memilih arsitektur atau jenis model tertentu, alasan memilih nilai hyperparameter, dan hal lain yang berkaitan."
   ]
  },
  {
   "cell_type": "markdown",
   "id": "5c6bdb26",
   "metadata": {
    "hidden": true
   },
   "source": [
    "<b>Model yang digunakan adalah 6 model tipe Clasification, ini bermaksud untuk mengklasifikasiakn antara variabel feature dengan variabel target, dan membandingkan mana model algoritma terbaik.</b>"
   ]
  },
  {
   "cell_type": "markdown",
   "id": "9d2e6f4c",
   "metadata": {
    "hidden": true
   },
   "source": [
    "### 1. Model Logistic Regression"
   ]
  },
  {
   "cell_type": "markdown",
   "id": "3ac80f2e",
   "metadata": {
    "hidden": true
   },
   "source": [
    "Nilai hyperparamater yang digunakan disini adalah {C': 100, 'max_iter': 100, 'penalty': 'l1', 'solver': 'liblinear'},  berdasarkan perhitungan Grid Seacrh Cross Validation sebagai pencari nilai parameter terbaik."
   ]
  },
  {
   "cell_type": "markdown",
   "id": "cc66bbfa",
   "metadata": {
    "hidden": true
   },
   "source": [
    "### 2. Model SVM (Support Vector Machine)"
   ]
  },
  {
   "cell_type": "markdown",
   "id": "36097a5a",
   "metadata": {
    "hidden": true
   },
   "source": [
    "Nilai hyperparamater yang digunakan disini adalah {'kernel': 'rbf', 'gamma': 0.1, 'C': 1}, berdasarkan Randomize Seacrh Cross Validation sebagai pencari nilai parameter terbaik."
   ]
  },
  {
   "cell_type": "markdown",
   "id": "59d9b405",
   "metadata": {
    "hidden": true
   },
   "source": [
    "### 3. Model Decision Tree"
   ]
  },
  {
   "cell_type": "markdown",
   "id": "6752fcc7",
   "metadata": {
    "hidden": true
   },
   "source": [
    "Nilai hyperparamater yang digunakan disini adalah {'criterion': 'entropy', 'max_depth': 8, 'min_samples_leaf': 18, 'min_samples_split': 2, 'splitter': 'best'}, berdasarkan GridSeacrh Cross Validation sebagai pencari nilai parameter terbaik."
   ]
  },
  {
   "cell_type": "markdown",
   "id": "9a702371",
   "metadata": {
    "hidden": true
   },
   "source": [
    "### 4. Model Random Forest"
   ]
  },
  {
   "cell_type": "markdown",
   "id": "9a889bd6",
   "metadata": {
    "ExecuteTime": {
     "end_time": "2021-08-05T16:49:08.088314Z",
     "start_time": "2021-08-05T16:49:08.036453Z"
    },
    "hidden": true
   },
   "source": [
    "Nilai hyperparamater yang digunakan disini adalah {'n_estimators': 20, 'min_samples_split': 10, 'min_samples_leaf': 2, 'max_features': 'auto', 'max_depth': 60, 'bootstrap': False}, berdasarkan Randomize Seacrh Cross Validation sebagai pencari nilai parameter terbaik."
   ]
  },
  {
   "cell_type": "markdown",
   "id": "0a4a0526",
   "metadata": {
    "hidden": true
   },
   "source": [
    "### 5. Model KNN (K-Neighboard Nearest)"
   ]
  },
  {
   "cell_type": "markdown",
   "id": "a731805a",
   "metadata": {
    "hidden": true
   },
   "source": [
    "Nilai hyperparamater yang digunakan disini adalah {'weights': 'distance', 'n_neighbors': 1, 'metric': 'euclidean', 'leaf_size': 8}, berdasarkan Randomize Seacrh Cross Validation sebagai pencari nilai parameter terbaik."
   ]
  },
  {
   "cell_type": "markdown",
   "id": "37129c0a",
   "metadata": {
    "hidden": true
   },
   "source": [
    "### 6. Model Naive Bayes"
   ]
  },
  {
   "cell_type": "markdown",
   "id": "37ae9f97",
   "metadata": {
    "hidden": true
   },
   "source": [
    "Nilai hyperparamater yang digunakan disini adalah {'var_smoothing': 0.0533669923120631}, berdasarkan Randomize Seacrh Cross Validation sebagai pencari nilai parameter terbaik."
   ]
  },
  {
   "cell_type": "markdown",
   "id": "8cc8e4d3",
   "metadata": {
    "hidden": true
   },
   "source": [
    "### 7. Model XGBoost"
   ]
  },
  {
   "cell_type": "markdown",
   "id": "9a7ff6e0",
   "metadata": {
    "hidden": true
   },
   "source": [
    "Model yang digunakan adalah XGBoost, ini saya gunakan bertujuan untuk membandingkan atara 6 Model yang sudah ada, dengan alasan XGBoost salah satu keluarga decission tree terbaik selain Random Forest"
   ]
  },
  {
   "cell_type": "markdown",
   "id": "1b9bd4e6",
   "metadata": {
    "hidden": true
   },
   "source": [
    "Nilai hyperparamater yang digunakan disini adalah {'n_estimators': 40, 'min_child_weight': 15, 'max_depth': 10, 'gamma': 3, 'colsample_bytree': 0.9}, berdasarkan Randomize Seacrh Cross Validation sebagai pencari nilai parameter terbaik."
   ]
  },
  {
   "cell_type": "markdown",
   "id": "5f8d47d3",
   "metadata": {
    "heading_collapsed": true
   },
   "source": [
    "## Pelatihan Model"
   ]
  },
  {
   "cell_type": "markdown",
   "id": "3df3c330",
   "metadata": {
    "hidden": true
   },
   "source": [
    "Cell pada bagian ini hanya berisi code untuk melatih model dan output yang dihasilkan."
   ]
  },
  {
   "cell_type": "markdown",
   "id": "004853d9",
   "metadata": {
    "heading_collapsed": true,
    "hidden": true
   },
   "source": [
    "### 1. Model Logistic Regression"
   ]
  },
  {
   "cell_type": "code",
   "execution_count": 284,
   "id": "9f844cdd",
   "metadata": {
    "ExecuteTime": {
     "end_time": "2021-08-08T07:13:23.035780Z",
     "start_time": "2021-08-08T07:13:22.948664Z"
    },
    "hidden": true
   },
   "outputs": [
    {
     "name": "stdout",
     "output_type": "stream",
     "text": [
      "Wall time: 51.2 ms\n"
     ]
    },
    {
     "data": {
      "text/plain": [
       "LogisticRegression(max_iter=10, random_state=77)"
      ]
     },
     "execution_count": 284,
     "metadata": {},
     "output_type": "execute_result"
    }
   ],
   "source": [
    "model_logreg = LogisticRegression(max_iter=10, random_state=77)\n",
    "%time model_logreg.fit(X_train_trf, y_train)"
   ]
  },
  {
   "cell_type": "markdown",
   "id": "f5dd8efe",
   "metadata": {
    "heading_collapsed": true,
    "hidden": true
   },
   "source": [
    "### 2. Model SVM (Support Vector Machine)"
   ]
  },
  {
   "cell_type": "code",
   "execution_count": 289,
   "id": "a1506ee8",
   "metadata": {
    "ExecuteTime": {
     "end_time": "2021-08-08T07:17:27.196509Z",
     "start_time": "2021-08-08T07:17:18.431210Z"
    },
    "hidden": true
   },
   "outputs": [
    {
     "name": "stdout",
     "output_type": "stream",
     "text": [
      "Wall time: 8.75 s\n"
     ]
    },
    {
     "data": {
      "text/plain": [
       "SVC(random_state=77)"
      ]
     },
     "execution_count": 289,
     "metadata": {},
     "output_type": "execute_result"
    }
   ],
   "source": [
    "model_svc = SVC(kernel='rbf', random_state=77)\n",
    "%time model_svc.fit(X_train_trf, y_train)"
   ]
  },
  {
   "cell_type": "markdown",
   "id": "784b264a",
   "metadata": {
    "heading_collapsed": true,
    "hidden": true
   },
   "source": [
    "### 3. Model Decision Tree"
   ]
  },
  {
   "cell_type": "code",
   "execution_count": 290,
   "id": "11fad702",
   "metadata": {
    "ExecuteTime": {
     "end_time": "2021-08-08T07:17:27.274536Z",
     "start_time": "2021-08-08T07:17:27.198508Z"
    },
    "hidden": true
   },
   "outputs": [
    {
     "name": "stdout",
     "output_type": "stream",
     "text": [
      "Wall time: 49.8 ms\n"
     ]
    },
    {
     "data": {
      "text/plain": [
       "DecisionTreeClassifier(max_depth=4, random_state=77)"
      ]
     },
     "execution_count": 290,
     "metadata": {},
     "output_type": "execute_result"
    }
   ],
   "source": [
    "model_tree = DecisionTreeClassifier(max_depth=4, random_state=77)\n",
    "%time model_tree.fit(X_train_trf, y_train)"
   ]
  },
  {
   "cell_type": "code",
   "execution_count": 32,
   "id": "78bed8bf",
   "metadata": {
    "ExecuteTime": {
     "end_time": "2021-08-08T02:19:46.058371Z",
     "start_time": "2021-08-08T02:19:45.962397Z"
    },
    "code_folding": [
     0
    ],
    "hidden": true
   },
   "outputs": [],
   "source": [
    "# Python ≥3.5 is required\n",
    "import sys\n",
    "assert sys.version_info >= (3, 5)\n",
    "\n",
    "# Scikit-Learn ≥0.20 is required\n",
    "import sklearn\n",
    "assert sklearn.__version__ >= \"0.20\"\n",
    "\n",
    "# Common imports\n",
    "import numpy as np\n",
    "import os\n",
    "\n",
    "# to make this notebook's output stable across runs\n",
    "np.random.seed(77)\n",
    "\n",
    "# To plot pretty figures\n",
    "%matplotlib inline\n",
    "import matplotlib as mpl\n",
    "import matplotlib.pyplot as plt\n",
    "mpl.rc('axes', labelsize=14)\n",
    "mpl.rc('xtick', labelsize=12)\n",
    "mpl.rc('ytick', labelsize=12)\n",
    "\n",
    "# Where to save the figures\n",
    "PROJECT_ROOT_DIR = \".\"\n",
    "CHAPTER_ID = \"Decision_trees\"\n",
    "IMAGES_PATH = os.path.join(PROJECT_ROOT_DIR, \"images\", CHAPTER_ID)\n",
    "os.makedirs(IMAGES_PATH, exist_ok=True)\n",
    "\n",
    "def save_fig(fig_id, tight_layout=True, fig_extension=\"png\", resolution=300):\n",
    "    path = os.path.join(IMAGES_PATH, fig_id + \".\" + fig_extension)\n",
    "    print(\"Saving figure\", fig_id)\n",
    "    if tight_layout:\n",
    "        plt.tight_layout()\n",
    "    plt.savefig(path, format=fig_extension, dpi=resolution)"
   ]
  },
  {
   "cell_type": "code",
   "execution_count": 33,
   "id": "ca9c6ca8",
   "metadata": {
    "ExecuteTime": {
     "end_time": "2021-08-08T02:19:48.569453Z",
     "start_time": "2021-08-08T02:19:48.393843Z"
    },
    "code_folding": [],
    "hidden": true
   },
   "outputs": [
    {
     "data": {
      "image/svg+xml": [
       "<?xml version=\"1.0\" encoding=\"UTF-8\" standalone=\"no\"?>\r\n",
       "<!DOCTYPE svg PUBLIC \"-//W3C//DTD SVG 1.1//EN\"\r\n",
       " \"http://www.w3.org/Graphics/SVG/1.1/DTD/svg11.dtd\">\r\n",
       "<!-- Generated by graphviz version 2.48.0 (20210717.1556)\r\n",
       " -->\r\n",
       "<!-- Title: Tree Pages: 1 -->\r\n",
       "<svg width=\"2194pt\" height=\"552pt\"\r\n",
       " viewBox=\"0.00 0.00 2193.50 552.00\" xmlns=\"http://www.w3.org/2000/svg\" xmlns:xlink=\"http://www.w3.org/1999/xlink\">\r\n",
       "<g id=\"graph0\" class=\"graph\" transform=\"scale(1 1) rotate(0) translate(4 548)\">\r\n",
       "<title>Tree</title>\r\n",
       "<polygon fill=\"white\" stroke=\"transparent\" points=\"-4,4 -4,-548 2189.5,-548 2189.5,4 -4,4\"/>\r\n",
       "<!-- 0 -->\r\n",
       "<g id=\"node1\" class=\"node\">\r\n",
       "<title>0</title>\r\n",
       "<path fill=\"#e99254\" stroke=\"black\" d=\"M1184.5,-544C1184.5,-544 1053.5,-544 1053.5,-544 1047.5,-544 1041.5,-538 1041.5,-532 1041.5,-532 1041.5,-473 1041.5,-473 1041.5,-467 1047.5,-461 1053.5,-461 1053.5,-461 1184.5,-461 1184.5,-461 1190.5,-461 1196.5,-467 1196.5,-473 1196.5,-473 1196.5,-532 1196.5,-532 1196.5,-538 1190.5,-544 1184.5,-544\"/>\r\n",
       "<text text-anchor=\"middle\" x=\"1119\" y=\"-528.8\" font-family=\"Helvetica,sans-Serif\" font-size=\"14.00\">duration &lt;= 1.006</text>\r\n",
       "<text text-anchor=\"middle\" x=\"1119\" y=\"-513.8\" font-family=\"Helvetica,sans-Serif\" font-size=\"14.00\">gini = 0.212</text>\r\n",
       "<text text-anchor=\"middle\" x=\"1119\" y=\"-498.8\" font-family=\"Helvetica,sans-Serif\" font-size=\"14.00\">samples = 18823</text>\r\n",
       "<text text-anchor=\"middle\" x=\"1119\" y=\"-483.8\" font-family=\"Helvetica,sans-Serif\" font-size=\"14.00\">value = [16552, 2271]</text>\r\n",
       "<text text-anchor=\"middle\" x=\"1119\" y=\"-468.8\" font-family=\"Helvetica,sans-Serif\" font-size=\"14.00\">class = no</text>\r\n",
       "</g>\r\n",
       "<!-- 1 -->\r\n",
       "<g id=\"node2\" class=\"node\">\r\n",
       "<title>1</title>\r\n",
       "<path fill=\"#e78c4a\" stroke=\"black\" d=\"M911.5,-425C911.5,-425 780.5,-425 780.5,-425 774.5,-425 768.5,-419 768.5,-413 768.5,-413 768.5,-354 768.5,-354 768.5,-348 774.5,-342 780.5,-342 780.5,-342 911.5,-342 911.5,-342 917.5,-342 923.5,-348 923.5,-354 923.5,-354 923.5,-413 923.5,-413 923.5,-419 917.5,-425 911.5,-425\"/>\r\n",
       "<text text-anchor=\"middle\" x=\"846\" y=\"-409.8\" font-family=\"Helvetica,sans-Serif\" font-size=\"14.00\">poutcome &lt;= 1.527</text>\r\n",
       "<text text-anchor=\"middle\" x=\"846\" y=\"-394.8\" font-family=\"Helvetica,sans-Serif\" font-size=\"14.00\">gini = 0.146</text>\r\n",
       "<text text-anchor=\"middle\" x=\"846\" y=\"-379.8\" font-family=\"Helvetica,sans-Serif\" font-size=\"14.00\">samples = 16770</text>\r\n",
       "<text text-anchor=\"middle\" x=\"846\" y=\"-364.8\" font-family=\"Helvetica,sans-Serif\" font-size=\"14.00\">value = [15441, 1329]</text>\r\n",
       "<text text-anchor=\"middle\" x=\"846\" y=\"-349.8\" font-family=\"Helvetica,sans-Serif\" font-size=\"14.00\">class = no</text>\r\n",
       "</g>\r\n",
       "<!-- 0&#45;&gt;1 -->\r\n",
       "<g id=\"edge1\" class=\"edge\">\r\n",
       "<title>0&#45;&gt;1</title>\r\n",
       "<path fill=\"none\" stroke=\"black\" d=\"M1041.5,-468.29C1007.64,-453.77 967.78,-436.69 932.91,-421.75\"/>\r\n",
       "<polygon fill=\"black\" stroke=\"black\" points=\"934.26,-418.52 923.69,-417.8 931.51,-424.95 934.26,-418.52\"/>\r\n",
       "<text text-anchor=\"middle\" x=\"932.98\" y=\"-437.31\" font-family=\"Helvetica,sans-Serif\" font-size=\"14.00\">True</text>\r\n",
       "</g>\r\n",
       "<!-- 16 -->\r\n",
       "<g id=\"node17\" class=\"node\">\r\n",
       "<title>16</title>\r\n",
       "<path fill=\"#fbece1\" stroke=\"black\" d=\"M1463,-425C1463,-425 1349,-425 1349,-425 1343,-425 1337,-419 1337,-413 1337,-413 1337,-354 1337,-354 1337,-348 1343,-342 1349,-342 1349,-342 1463,-342 1463,-342 1469,-342 1475,-348 1475,-354 1475,-354 1475,-413 1475,-413 1475,-419 1469,-425 1463,-425\"/>\r\n",
       "<text text-anchor=\"middle\" x=\"1406\" y=\"-409.8\" font-family=\"Helvetica,sans-Serif\" font-size=\"14.00\">duration &lt;= 2.047</text>\r\n",
       "<text text-anchor=\"middle\" x=\"1406\" y=\"-394.8\" font-family=\"Helvetica,sans-Serif\" font-size=\"14.00\">gini = 0.497</text>\r\n",
       "<text text-anchor=\"middle\" x=\"1406\" y=\"-379.8\" font-family=\"Helvetica,sans-Serif\" font-size=\"14.00\">samples = 2053</text>\r\n",
       "<text text-anchor=\"middle\" x=\"1406\" y=\"-364.8\" font-family=\"Helvetica,sans-Serif\" font-size=\"14.00\">value = [1111, 942]</text>\r\n",
       "<text text-anchor=\"middle\" x=\"1406\" y=\"-349.8\" font-family=\"Helvetica,sans-Serif\" font-size=\"14.00\">class = no</text>\r\n",
       "</g>\r\n",
       "<!-- 0&#45;&gt;16 -->\r\n",
       "<g id=\"edge16\" class=\"edge\">\r\n",
       "<title>0&#45;&gt;16</title>\r\n",
       "<path fill=\"none\" stroke=\"black\" d=\"M1196.67,-469.84C1237.17,-453.33 1286.61,-433.17 1327.27,-416.6\"/>\r\n",
       "<polygon fill=\"black\" stroke=\"black\" points=\"1328.67,-419.81 1336.6,-412.79 1326.02,-413.32 1328.67,-419.81\"/>\r\n",
       "<text text-anchor=\"middle\" x=\"1326.91\" y=\"-432.13\" font-family=\"Helvetica,sans-Serif\" font-size=\"14.00\">False</text>\r\n",
       "</g>\r\n",
       "<!-- 2 -->\r\n",
       "<g id=\"node3\" class=\"node\">\r\n",
       "<title>2</title>\r\n",
       "<path fill=\"#e78945\" stroke=\"black\" d=\"M521.5,-306C521.5,-306 384.5,-306 384.5,-306 378.5,-306 372.5,-300 372.5,-294 372.5,-294 372.5,-235 372.5,-235 372.5,-229 378.5,-223 384.5,-223 384.5,-223 521.5,-223 521.5,-223 527.5,-223 533.5,-229 533.5,-235 533.5,-235 533.5,-294 533.5,-294 533.5,-300 527.5,-306 521.5,-306\"/>\r\n",
       "<text text-anchor=\"middle\" x=\"453\" y=\"-290.8\" font-family=\"Helvetica,sans-Serif\" font-size=\"14.00\">cons.conf.idx &lt;= 1.035</text>\r\n",
       "<text text-anchor=\"middle\" x=\"453\" y=\"-275.8\" font-family=\"Helvetica,sans-Serif\" font-size=\"14.00\">gini = 0.112</text>\r\n",
       "<text text-anchor=\"middle\" x=\"453\" y=\"-260.8\" font-family=\"Helvetica,sans-Serif\" font-size=\"14.00\">samples = 16166</text>\r\n",
       "<text text-anchor=\"middle\" x=\"453\" y=\"-245.8\" font-family=\"Helvetica,sans-Serif\" font-size=\"14.00\">value = [15207, 959]</text>\r\n",
       "<text text-anchor=\"middle\" x=\"453\" y=\"-230.8\" font-family=\"Helvetica,sans-Serif\" font-size=\"14.00\">class = no</text>\r\n",
       "</g>\r\n",
       "<!-- 1&#45;&gt;2 -->\r\n",
       "<g id=\"edge2\" class=\"edge\">\r\n",
       "<title>1&#45;&gt;2</title>\r\n",
       "<path fill=\"none\" stroke=\"black\" d=\"M768.36,-359.38C703.65,-340.12 611.39,-312.65 543.37,-292.41\"/>\r\n",
       "<polygon fill=\"black\" stroke=\"black\" points=\"544.1,-288.97 533.52,-289.47 542.11,-295.68 544.1,-288.97\"/>\r\n",
       "</g>\r\n",
       "<!-- 9 -->\r\n",
       "<g id=\"node10\" class=\"node\">\r\n",
       "<title>9</title>\r\n",
       "<path fill=\"#b6dbf5\" stroke=\"black\" d=\"M900,-306C900,-306 792,-306 792,-306 786,-306 780,-300 780,-294 780,-294 780,-235 780,-235 780,-229 786,-223 792,-223 792,-223 900,-223 900,-223 906,-223 912,-229 912,-235 912,-235 912,-294 912,-294 912,-300 906,-306 900,-306\"/>\r\n",
       "<text text-anchor=\"middle\" x=\"846\" y=\"-290.8\" font-family=\"Helvetica,sans-Serif\" font-size=\"14.00\">duration &lt;= &#45;0.415</text>\r\n",
       "<text text-anchor=\"middle\" x=\"846\" y=\"-275.8\" font-family=\"Helvetica,sans-Serif\" font-size=\"14.00\">gini = 0.475</text>\r\n",
       "<text text-anchor=\"middle\" x=\"846\" y=\"-260.8\" font-family=\"Helvetica,sans-Serif\" font-size=\"14.00\">samples = 604</text>\r\n",
       "<text text-anchor=\"middle\" x=\"846\" y=\"-245.8\" font-family=\"Helvetica,sans-Serif\" font-size=\"14.00\">value = [234, 370]</text>\r\n",
       "<text text-anchor=\"middle\" x=\"846\" y=\"-230.8\" font-family=\"Helvetica,sans-Serif\" font-size=\"14.00\">class = no</text>\r\n",
       "</g>\r\n",
       "<!-- 1&#45;&gt;9 -->\r\n",
       "<g id=\"edge9\" class=\"edge\">\r\n",
       "<title>1&#45;&gt;9</title>\r\n",
       "<path fill=\"none\" stroke=\"black\" d=\"M846,-341.91C846,-333.65 846,-324.86 846,-316.3\"/>\r\n",
       "<polygon fill=\"black\" stroke=\"black\" points=\"849.5,-316.02 846,-306.02 842.5,-316.02 849.5,-316.02\"/>\r\n",
       "</g>\r\n",
       "<!-- 3 -->\r\n",
       "<g id=\"node4\" class=\"node\">\r\n",
       "<title>3</title>\r\n",
       "<path fill=\"#e68742\" stroke=\"black\" d=\"M292,-187C292,-187 150,-187 150,-187 144,-187 138,-181 138,-175 138,-175 138,-116 138,-116 138,-110 144,-104 150,-104 150,-104 292,-104 292,-104 298,-104 304,-110 304,-116 304,-116 304,-175 304,-175 304,-181 298,-187 292,-187\"/>\r\n",
       "<text text-anchor=\"middle\" x=\"221\" y=\"-171.8\" font-family=\"Helvetica,sans-Serif\" font-size=\"14.00\">cons.conf.idx &lt;= &#45;1.345</text>\r\n",
       "<text text-anchor=\"middle\" x=\"221\" y=\"-156.8\" font-family=\"Helvetica,sans-Serif\" font-size=\"14.00\">gini = 0.081</text>\r\n",
       "<text text-anchor=\"middle\" x=\"221\" y=\"-141.8\" font-family=\"Helvetica,sans-Serif\" font-size=\"14.00\">samples = 15193</text>\r\n",
       "<text text-anchor=\"middle\" x=\"221\" y=\"-126.8\" font-family=\"Helvetica,sans-Serif\" font-size=\"14.00\">value = [14548, 645]</text>\r\n",
       "<text text-anchor=\"middle\" x=\"221\" y=\"-111.8\" font-family=\"Helvetica,sans-Serif\" font-size=\"14.00\">class = no</text>\r\n",
       "</g>\r\n",
       "<!-- 2&#45;&gt;3 -->\r\n",
       "<g id=\"edge3\" class=\"edge\">\r\n",
       "<title>2&#45;&gt;3</title>\r\n",
       "<path fill=\"none\" stroke=\"black\" d=\"M372.51,-222.91C352.44,-212.79 330.81,-201.88 310.35,-191.56\"/>\r\n",
       "<polygon fill=\"black\" stroke=\"black\" points=\"311.85,-188.4 301.35,-187.02 308.7,-194.65 311.85,-188.4\"/>\r\n",
       "</g>\r\n",
       "<!-- 6 -->\r\n",
       "<g id=\"node7\" class=\"node\">\r\n",
       "<title>6</title>\r\n",
       "<path fill=\"#f1bd97\" stroke=\"black\" d=\"M507,-187C507,-187 399,-187 399,-187 393,-187 387,-181 387,-175 387,-175 387,-116 387,-116 387,-110 393,-104 399,-104 399,-104 507,-104 507,-104 513,-104 519,-110 519,-116 519,-116 519,-175 519,-175 519,-181 513,-187 507,-187\"/>\r\n",
       "<text text-anchor=\"middle\" x=\"453\" y=\"-171.8\" font-family=\"Helvetica,sans-Serif\" font-size=\"14.00\">duration &lt;= &#45;0.213</text>\r\n",
       "<text text-anchor=\"middle\" x=\"453\" y=\"-156.8\" font-family=\"Helvetica,sans-Serif\" font-size=\"14.00\">gini = 0.437</text>\r\n",
       "<text text-anchor=\"middle\" x=\"453\" y=\"-141.8\" font-family=\"Helvetica,sans-Serif\" font-size=\"14.00\">samples = 973</text>\r\n",
       "<text text-anchor=\"middle\" x=\"453\" y=\"-126.8\" font-family=\"Helvetica,sans-Serif\" font-size=\"14.00\">value = [659, 314]</text>\r\n",
       "<text text-anchor=\"middle\" x=\"453\" y=\"-111.8\" font-family=\"Helvetica,sans-Serif\" font-size=\"14.00\">class = no</text>\r\n",
       "</g>\r\n",
       "<!-- 2&#45;&gt;6 -->\r\n",
       "<g id=\"edge6\" class=\"edge\">\r\n",
       "<title>2&#45;&gt;6</title>\r\n",
       "<path fill=\"none\" stroke=\"black\" d=\"M453,-222.91C453,-214.65 453,-205.86 453,-197.3\"/>\r\n",
       "<polygon fill=\"black\" stroke=\"black\" points=\"456.5,-197.02 453,-187.02 449.5,-197.02 456.5,-197.02\"/>\r\n",
       "</g>\r\n",
       "<!-- 4 -->\r\n",
       "<g id=\"node5\" class=\"node\">\r\n",
       "<title>4</title>\r\n",
       "<path fill=\"#eb9f69\" stroke=\"black\" d=\"M118,-68C118,-68 12,-68 12,-68 6,-68 0,-62 0,-56 0,-56 0,-12 0,-12 0,-6 6,0 12,0 12,0 118,0 118,0 124,0 130,-6 130,-12 130,-12 130,-56 130,-56 130,-62 124,-68 118,-68\"/>\r\n",
       "<text text-anchor=\"middle\" x=\"65\" y=\"-52.8\" font-family=\"Helvetica,sans-Serif\" font-size=\"14.00\">gini = 0.313</text>\r\n",
       "<text text-anchor=\"middle\" x=\"65\" y=\"-37.8\" font-family=\"Helvetica,sans-Serif\" font-size=\"14.00\">samples = 1190</text>\r\n",
       "<text text-anchor=\"middle\" x=\"65\" y=\"-22.8\" font-family=\"Helvetica,sans-Serif\" font-size=\"14.00\">value = [959, 231]</text>\r\n",
       "<text text-anchor=\"middle\" x=\"65\" y=\"-7.8\" font-family=\"Helvetica,sans-Serif\" font-size=\"14.00\">class = no</text>\r\n",
       "</g>\r\n",
       "<!-- 3&#45;&gt;4 -->\r\n",
       "<g id=\"edge4\" class=\"edge\">\r\n",
       "<title>3&#45;&gt;4</title>\r\n",
       "<path fill=\"none\" stroke=\"black\" d=\"M162.91,-103.73C149.14,-94.06 134.48,-83.77 120.81,-74.17\"/>\r\n",
       "<polygon fill=\"black\" stroke=\"black\" points=\"122.64,-71.18 112.44,-68.3 118.61,-76.91 122.64,-71.18\"/>\r\n",
       "</g>\r\n",
       "<!-- 5 -->\r\n",
       "<g id=\"node6\" class=\"node\">\r\n",
       "<title>5</title>\r\n",
       "<path fill=\"#e6853f\" stroke=\"black\" d=\"M282,-68C282,-68 160,-68 160,-68 154,-68 148,-62 148,-56 148,-56 148,-12 148,-12 148,-6 154,0 160,0 160,0 282,0 282,0 288,0 294,-6 294,-12 294,-12 294,-56 294,-56 294,-62 288,-68 282,-68\"/>\r\n",
       "<text text-anchor=\"middle\" x=\"221\" y=\"-52.8\" font-family=\"Helvetica,sans-Serif\" font-size=\"14.00\">gini = 0.057</text>\r\n",
       "<text text-anchor=\"middle\" x=\"221\" y=\"-37.8\" font-family=\"Helvetica,sans-Serif\" font-size=\"14.00\">samples = 14003</text>\r\n",
       "<text text-anchor=\"middle\" x=\"221\" y=\"-22.8\" font-family=\"Helvetica,sans-Serif\" font-size=\"14.00\">value = [13589, 414]</text>\r\n",
       "<text text-anchor=\"middle\" x=\"221\" y=\"-7.8\" font-family=\"Helvetica,sans-Serif\" font-size=\"14.00\">class = no</text>\r\n",
       "</g>\r\n",
       "<!-- 3&#45;&gt;5 -->\r\n",
       "<g id=\"edge5\" class=\"edge\">\r\n",
       "<title>3&#45;&gt;5</title>\r\n",
       "<path fill=\"none\" stroke=\"black\" d=\"M221,-103.73C221,-95.52 221,-86.86 221,-78.56\"/>\r\n",
       "<polygon fill=\"black\" stroke=\"black\" points=\"224.5,-78.3 221,-68.3 217.5,-78.3 224.5,-78.3\"/>\r\n",
       "</g>\r\n",
       "<!-- 7 -->\r\n",
       "<g id=\"node8\" class=\"node\">\r\n",
       "<title>7</title>\r\n",
       "<path fill=\"#ea9a60\" stroke=\"black\" d=\"M422,-68C422,-68 324,-68 324,-68 318,-68 312,-62 312,-56 312,-56 312,-12 312,-12 312,-6 318,0 324,0 324,0 422,0 422,0 428,0 434,-6 434,-12 434,-12 434,-56 434,-56 434,-62 428,-68 422,-68\"/>\r\n",
       "<text text-anchor=\"middle\" x=\"373\" y=\"-52.8\" font-family=\"Helvetica,sans-Serif\" font-size=\"14.00\">gini = 0.276</text>\r\n",
       "<text text-anchor=\"middle\" x=\"373\" y=\"-37.8\" font-family=\"Helvetica,sans-Serif\" font-size=\"14.00\">samples = 551</text>\r\n",
       "<text text-anchor=\"middle\" x=\"373\" y=\"-22.8\" font-family=\"Helvetica,sans-Serif\" font-size=\"14.00\">value = [460, 91]</text>\r\n",
       "<text text-anchor=\"middle\" x=\"373\" y=\"-7.8\" font-family=\"Helvetica,sans-Serif\" font-size=\"14.00\">class = no</text>\r\n",
       "</g>\r\n",
       "<!-- 6&#45;&gt;7 -->\r\n",
       "<g id=\"edge7\" class=\"edge\">\r\n",
       "<title>6&#45;&gt;7</title>\r\n",
       "<path fill=\"none\" stroke=\"black\" d=\"M423.21,-103.73C416.75,-94.88 409.9,-85.51 403.41,-76.63\"/>\r\n",
       "<polygon fill=\"black\" stroke=\"black\" points=\"406.05,-74.31 397.33,-68.3 400.4,-78.44 406.05,-74.31\"/>\r\n",
       "</g>\r\n",
       "<!-- 8 -->\r\n",
       "<g id=\"node9\" class=\"node\">\r\n",
       "<title>8</title>\r\n",
       "<path fill=\"#eaf4fc\" stroke=\"black\" d=\"M570,-68C570,-68 464,-68 464,-68 458,-68 452,-62 452,-56 452,-56 452,-12 452,-12 452,-6 458,0 464,0 464,0 570,0 570,0 576,0 582,-6 582,-12 582,-12 582,-56 582,-56 582,-62 576,-68 570,-68\"/>\r\n",
       "<text text-anchor=\"middle\" x=\"517\" y=\"-52.8\" font-family=\"Helvetica,sans-Serif\" font-size=\"14.00\">gini = 0.498</text>\r\n",
       "<text text-anchor=\"middle\" x=\"517\" y=\"-37.8\" font-family=\"Helvetica,sans-Serif\" font-size=\"14.00\">samples = 422</text>\r\n",
       "<text text-anchor=\"middle\" x=\"517\" y=\"-22.8\" font-family=\"Helvetica,sans-Serif\" font-size=\"14.00\">value = [199, 223]</text>\r\n",
       "<text text-anchor=\"middle\" x=\"517\" y=\"-7.8\" font-family=\"Helvetica,sans-Serif\" font-size=\"14.00\">class = no</text>\r\n",
       "</g>\r\n",
       "<!-- 6&#45;&gt;8 -->\r\n",
       "<g id=\"edge8\" class=\"edge\">\r\n",
       "<title>6&#45;&gt;8</title>\r\n",
       "<path fill=\"none\" stroke=\"black\" d=\"M476.83,-103.73C481.9,-95.06 487.25,-85.9 492.35,-77.18\"/>\r\n",
       "<polygon fill=\"black\" stroke=\"black\" points=\"495.51,-78.7 497.54,-68.3 489.47,-75.17 495.51,-78.7\"/>\r\n",
       "</g>\r\n",
       "<!-- 10 -->\r\n",
       "<g id=\"node11\" class=\"node\">\r\n",
       "<title>10</title>\r\n",
       "<path fill=\"#eda775\" stroke=\"black\" d=\"M823.5,-187C823.5,-187 686.5,-187 686.5,-187 680.5,-187 674.5,-181 674.5,-175 674.5,-175 674.5,-116 674.5,-116 674.5,-110 680.5,-104 686.5,-104 686.5,-104 823.5,-104 823.5,-104 829.5,-104 835.5,-110 835.5,-116 835.5,-116 835.5,-175 835.5,-175 835.5,-181 829.5,-187 823.5,-187\"/>\r\n",
       "<text text-anchor=\"middle\" x=\"755\" y=\"-171.8\" font-family=\"Helvetica,sans-Serif\" font-size=\"14.00\">cons.conf.idx &lt;= 0.886</text>\r\n",
       "<text text-anchor=\"middle\" x=\"755\" y=\"-156.8\" font-family=\"Helvetica,sans-Serif\" font-size=\"14.00\">gini = 0.357</text>\r\n",
       "<text text-anchor=\"middle\" x=\"755\" y=\"-141.8\" font-family=\"Helvetica,sans-Serif\" font-size=\"14.00\">samples = 146</text>\r\n",
       "<text text-anchor=\"middle\" x=\"755\" y=\"-126.8\" font-family=\"Helvetica,sans-Serif\" font-size=\"14.00\">value = [112, 34]</text>\r\n",
       "<text text-anchor=\"middle\" x=\"755\" y=\"-111.8\" font-family=\"Helvetica,sans-Serif\" font-size=\"14.00\">class = no</text>\r\n",
       "</g>\r\n",
       "<!-- 9&#45;&gt;10 -->\r\n",
       "<g id=\"edge10\" class=\"edge\">\r\n",
       "<title>9&#45;&gt;10</title>\r\n",
       "<path fill=\"none\" stroke=\"black\" d=\"M814.43,-222.91C807.44,-213.92 799.97,-204.32 792.76,-195.05\"/>\r\n",
       "<polygon fill=\"black\" stroke=\"black\" points=\"795.42,-192.77 786.52,-187.02 789.89,-197.06 795.42,-192.77\"/>\r\n",
       "</g>\r\n",
       "<!-- 13 -->\r\n",
       "<g id=\"node14\" class=\"node\">\r\n",
       "<title>13</title>\r\n",
       "<path fill=\"#81c1ee\" stroke=\"black\" d=\"M1008,-187C1008,-187 866,-187 866,-187 860,-187 854,-181 854,-175 854,-175 854,-116 854,-116 854,-110 860,-104 866,-104 866,-104 1008,-104 1008,-104 1014,-104 1020,-110 1020,-116 1020,-116 1020,-175 1020,-175 1020,-181 1014,-187 1008,-187\"/>\r\n",
       "<text text-anchor=\"middle\" x=\"937\" y=\"-171.8\" font-family=\"Helvetica,sans-Serif\" font-size=\"14.00\">cons.conf.idx &lt;= &#45;0.049</text>\r\n",
       "<text text-anchor=\"middle\" x=\"937\" y=\"-156.8\" font-family=\"Helvetica,sans-Serif\" font-size=\"14.00\">gini = 0.391</text>\r\n",
       "<text text-anchor=\"middle\" x=\"937\" y=\"-141.8\" font-family=\"Helvetica,sans-Serif\" font-size=\"14.00\">samples = 458</text>\r\n",
       "<text text-anchor=\"middle\" x=\"937\" y=\"-126.8\" font-family=\"Helvetica,sans-Serif\" font-size=\"14.00\">value = [122, 336]</text>\r\n",
       "<text text-anchor=\"middle\" x=\"937\" y=\"-111.8\" font-family=\"Helvetica,sans-Serif\" font-size=\"14.00\">class = no</text>\r\n",
       "</g>\r\n",
       "<!-- 9&#45;&gt;13 -->\r\n",
       "<g id=\"edge13\" class=\"edge\">\r\n",
       "<title>9&#45;&gt;13</title>\r\n",
       "<path fill=\"none\" stroke=\"black\" d=\"M877.57,-222.91C884.56,-213.92 892.03,-204.32 899.24,-195.05\"/>\r\n",
       "<polygon fill=\"black\" stroke=\"black\" points=\"902.11,-197.06 905.48,-187.02 896.58,-192.77 902.11,-197.06\"/>\r\n",
       "</g>\r\n",
       "<!-- 11 -->\r\n",
       "<g id=\"node12\" class=\"node\">\r\n",
       "<title>11</title>\r\n",
       "<path fill=\"#e78a47\" stroke=\"black\" d=\"M693.5,-68C693.5,-68 612.5,-68 612.5,-68 606.5,-68 600.5,-62 600.5,-56 600.5,-56 600.5,-12 600.5,-12 600.5,-6 606.5,0 612.5,0 612.5,0 693.5,0 693.5,0 699.5,0 705.5,-6 705.5,-12 705.5,-12 705.5,-56 705.5,-56 705.5,-62 699.5,-68 693.5,-68\"/>\r\n",
       "<text text-anchor=\"middle\" x=\"653\" y=\"-52.8\" font-family=\"Helvetica,sans-Serif\" font-size=\"14.00\">gini = 0.126</text>\r\n",
       "<text text-anchor=\"middle\" x=\"653\" y=\"-37.8\" font-family=\"Helvetica,sans-Serif\" font-size=\"14.00\">samples = 74</text>\r\n",
       "<text text-anchor=\"middle\" x=\"653\" y=\"-22.8\" font-family=\"Helvetica,sans-Serif\" font-size=\"14.00\">value = [69, 5]</text>\r\n",
       "<text text-anchor=\"middle\" x=\"653\" y=\"-7.8\" font-family=\"Helvetica,sans-Serif\" font-size=\"14.00\">class = no</text>\r\n",
       "</g>\r\n",
       "<!-- 10&#45;&gt;11 -->\r\n",
       "<g id=\"edge11\" class=\"edge\">\r\n",
       "<title>10&#45;&gt;11</title>\r\n",
       "<path fill=\"none\" stroke=\"black\" d=\"M717.02,-103.73C708.52,-94.61 699.51,-84.93 691.01,-75.81\"/>\r\n",
       "<polygon fill=\"black\" stroke=\"black\" points=\"693.4,-73.23 684.02,-68.3 688.27,-78 693.4,-73.23\"/>\r\n",
       "</g>\r\n",
       "<!-- 12 -->\r\n",
       "<g id=\"node13\" class=\"node\">\r\n",
       "<title>12</title>\r\n",
       "<path fill=\"#f7d6bf\" stroke=\"black\" d=\"M824.5,-68C824.5,-68 735.5,-68 735.5,-68 729.5,-68 723.5,-62 723.5,-56 723.5,-56 723.5,-12 723.5,-12 723.5,-6 729.5,0 735.5,0 735.5,0 824.5,0 824.5,0 830.5,0 836.5,-6 836.5,-12 836.5,-12 836.5,-56 836.5,-56 836.5,-62 830.5,-68 824.5,-68\"/>\r\n",
       "<text text-anchor=\"middle\" x=\"780\" y=\"-52.8\" font-family=\"Helvetica,sans-Serif\" font-size=\"14.00\">gini = 0.481</text>\r\n",
       "<text text-anchor=\"middle\" x=\"780\" y=\"-37.8\" font-family=\"Helvetica,sans-Serif\" font-size=\"14.00\">samples = 72</text>\r\n",
       "<text text-anchor=\"middle\" x=\"780\" y=\"-22.8\" font-family=\"Helvetica,sans-Serif\" font-size=\"14.00\">value = [43, 29]</text>\r\n",
       "<text text-anchor=\"middle\" x=\"780\" y=\"-7.8\" font-family=\"Helvetica,sans-Serif\" font-size=\"14.00\">class = no</text>\r\n",
       "</g>\r\n",
       "<!-- 10&#45;&gt;12 -->\r\n",
       "<g id=\"edge12\" class=\"edge\">\r\n",
       "<title>10&#45;&gt;12</title>\r\n",
       "<path fill=\"none\" stroke=\"black\" d=\"M764.31,-103.73C766.2,-95.43 768.2,-86.67 770.12,-78.28\"/>\r\n",
       "<polygon fill=\"black\" stroke=\"black\" points=\"773.58,-78.83 772.4,-68.3 766.76,-77.27 773.58,-78.83\"/>\r\n",
       "</g>\r\n",
       "<!-- 14 -->\r\n",
       "<g id=\"node15\" class=\"node\">\r\n",
       "<title>14</title>\r\n",
       "<path fill=\"#c1e1f7\" stroke=\"black\" d=\"M955.5,-68C955.5,-68 866.5,-68 866.5,-68 860.5,-68 854.5,-62 854.5,-56 854.5,-56 854.5,-12 854.5,-12 854.5,-6 860.5,0 866.5,0 866.5,0 955.5,0 955.5,0 961.5,0 967.5,-6 967.5,-12 967.5,-12 967.5,-56 967.5,-56 967.5,-62 961.5,-68 955.5,-68\"/>\r\n",
       "<text text-anchor=\"middle\" x=\"911\" y=\"-52.8\" font-family=\"Helvetica,sans-Serif\" font-size=\"14.00\">gini = 0.483</text>\r\n",
       "<text text-anchor=\"middle\" x=\"911\" y=\"-37.8\" font-family=\"Helvetica,sans-Serif\" font-size=\"14.00\">samples = 125</text>\r\n",
       "<text text-anchor=\"middle\" x=\"911\" y=\"-22.8\" font-family=\"Helvetica,sans-Serif\" font-size=\"14.00\">value = [51, 74]</text>\r\n",
       "<text text-anchor=\"middle\" x=\"911\" y=\"-7.8\" font-family=\"Helvetica,sans-Serif\" font-size=\"14.00\">class = no</text>\r\n",
       "</g>\r\n",
       "<!-- 13&#45;&gt;14 -->\r\n",
       "<g id=\"edge14\" class=\"edge\">\r\n",
       "<title>13&#45;&gt;14</title>\r\n",
       "<path fill=\"none\" stroke=\"black\" d=\"M927.32,-103.73C925.35,-95.43 923.27,-86.67 921.28,-78.28\"/>\r\n",
       "<polygon fill=\"black\" stroke=\"black\" points=\"924.62,-77.22 918.91,-68.3 917.81,-78.84 924.62,-77.22\"/>\r\n",
       "</g>\r\n",
       "<!-- 15 -->\r\n",
       "<g id=\"node16\" class=\"node\">\r\n",
       "<title>15</title>\r\n",
       "<path fill=\"#6fb8ec\" stroke=\"black\" d=\"M1096,-68C1096,-68 998,-68 998,-68 992,-68 986,-62 986,-56 986,-56 986,-12 986,-12 986,-6 992,0 998,0 998,0 1096,0 1096,0 1102,0 1108,-6 1108,-12 1108,-12 1108,-56 1108,-56 1108,-62 1102,-68 1096,-68\"/>\r\n",
       "<text text-anchor=\"middle\" x=\"1047\" y=\"-52.8\" font-family=\"Helvetica,sans-Serif\" font-size=\"14.00\">gini = 0.336</text>\r\n",
       "<text text-anchor=\"middle\" x=\"1047\" y=\"-37.8\" font-family=\"Helvetica,sans-Serif\" font-size=\"14.00\">samples = 333</text>\r\n",
       "<text text-anchor=\"middle\" x=\"1047\" y=\"-22.8\" font-family=\"Helvetica,sans-Serif\" font-size=\"14.00\">value = [71, 262]</text>\r\n",
       "<text text-anchor=\"middle\" x=\"1047\" y=\"-7.8\" font-family=\"Helvetica,sans-Serif\" font-size=\"14.00\">class = no</text>\r\n",
       "</g>\r\n",
       "<!-- 13&#45;&gt;15 -->\r\n",
       "<g id=\"edge15\" class=\"edge\">\r\n",
       "<title>13&#45;&gt;15</title>\r\n",
       "<path fill=\"none\" stroke=\"black\" d=\"M977.96,-103.73C987.21,-94.51 997.04,-84.74 1006.28,-75.53\"/>\r\n",
       "<polygon fill=\"black\" stroke=\"black\" points=\"1008.93,-77.84 1013.55,-68.3 1003.99,-72.87 1008.93,-77.84\"/>\r\n",
       "</g>\r\n",
       "<!-- 17 -->\r\n",
       "<g id=\"node18\" class=\"node\">\r\n",
       "<title>17</title>\r\n",
       "<path fill=\"#f4ccaf\" stroke=\"black\" d=\"M1464.5,-306C1464.5,-306 1347.5,-306 1347.5,-306 1341.5,-306 1335.5,-300 1335.5,-294 1335.5,-294 1335.5,-235 1335.5,-235 1335.5,-229 1341.5,-223 1347.5,-223 1347.5,-223 1464.5,-223 1464.5,-223 1470.5,-223 1476.5,-229 1476.5,-235 1476.5,-235 1476.5,-294 1476.5,-294 1476.5,-300 1470.5,-306 1464.5,-306\"/>\r\n",
       "<text text-anchor=\"middle\" x=\"1406\" y=\"-290.8\" font-family=\"Helvetica,sans-Serif\" font-size=\"14.00\">poutcome &lt;= 1.527</text>\r\n",
       "<text text-anchor=\"middle\" x=\"1406\" y=\"-275.8\" font-family=\"Helvetica,sans-Serif\" font-size=\"14.00\">gini = 0.468</text>\r\n",
       "<text text-anchor=\"middle\" x=\"1406\" y=\"-260.8\" font-family=\"Helvetica,sans-Serif\" font-size=\"14.00\">samples = 1239</text>\r\n",
       "<text text-anchor=\"middle\" x=\"1406\" y=\"-245.8\" font-family=\"Helvetica,sans-Serif\" font-size=\"14.00\">value = [777, 462]</text>\r\n",
       "<text text-anchor=\"middle\" x=\"1406\" y=\"-230.8\" font-family=\"Helvetica,sans-Serif\" font-size=\"14.00\">class = no</text>\r\n",
       "</g>\r\n",
       "<!-- 16&#45;&gt;17 -->\r\n",
       "<g id=\"edge17\" class=\"edge\">\r\n",
       "<title>16&#45;&gt;17</title>\r\n",
       "<path fill=\"none\" stroke=\"black\" d=\"M1406,-341.91C1406,-333.65 1406,-324.86 1406,-316.3\"/>\r\n",
       "<polygon fill=\"black\" stroke=\"black\" points=\"1409.5,-316.02 1406,-306.02 1402.5,-316.02 1409.5,-316.02\"/>\r\n",
       "</g>\r\n",
       "<!-- 24 -->\r\n",
       "<g id=\"node25\" class=\"node\">\r\n",
       "<title>24</title>\r\n",
       "<path fill=\"#c3e1f7\" stroke=\"black\" d=\"M1847.5,-306C1847.5,-306 1740.5,-306 1740.5,-306 1734.5,-306 1728.5,-300 1728.5,-294 1728.5,-294 1728.5,-235 1728.5,-235 1728.5,-229 1734.5,-223 1740.5,-223 1740.5,-223 1847.5,-223 1847.5,-223 1853.5,-223 1859.5,-229 1859.5,-235 1859.5,-235 1859.5,-294 1859.5,-294 1859.5,-300 1853.5,-306 1847.5,-306\"/>\r\n",
       "<text text-anchor=\"middle\" x=\"1794\" y=\"-290.8\" font-family=\"Helvetica,sans-Serif\" font-size=\"14.00\">previous &lt;= 2.559</text>\r\n",
       "<text text-anchor=\"middle\" x=\"1794\" y=\"-275.8\" font-family=\"Helvetica,sans-Serif\" font-size=\"14.00\">gini = 0.484</text>\r\n",
       "<text text-anchor=\"middle\" x=\"1794\" y=\"-260.8\" font-family=\"Helvetica,sans-Serif\" font-size=\"14.00\">samples = 814</text>\r\n",
       "<text text-anchor=\"middle\" x=\"1794\" y=\"-245.8\" font-family=\"Helvetica,sans-Serif\" font-size=\"14.00\">value = [334, 480]</text>\r\n",
       "<text text-anchor=\"middle\" x=\"1794\" y=\"-230.8\" font-family=\"Helvetica,sans-Serif\" font-size=\"14.00\">class = no</text>\r\n",
       "</g>\r\n",
       "<!-- 16&#45;&gt;24 -->\r\n",
       "<g id=\"edge24\" class=\"edge\">\r\n",
       "<title>16&#45;&gt;24</title>\r\n",
       "<path fill=\"none\" stroke=\"black\" d=\"M1475.37,-361.58C1543.86,-340.93 1648.29,-309.44 1718.76,-288.19\"/>\r\n",
       "<polygon fill=\"black\" stroke=\"black\" points=\"1719.9,-291.5 1728.47,-285.26 1717.88,-284.8 1719.9,-291.5\"/>\r\n",
       "</g>\r\n",
       "<!-- 18 -->\r\n",
       "<g id=\"node19\" class=\"node\">\r\n",
       "<title>18</title>\r\n",
       "<path fill=\"#f3c6a5\" stroke=\"black\" d=\"M1385,-187C1385,-187 1279,-187 1279,-187 1273,-187 1267,-181 1267,-175 1267,-175 1267,-116 1267,-116 1267,-110 1273,-104 1279,-104 1279,-104 1385,-104 1385,-104 1391,-104 1397,-110 1397,-116 1397,-116 1397,-175 1397,-175 1397,-181 1391,-187 1385,-187\"/>\r\n",
       "<text text-anchor=\"middle\" x=\"1332\" y=\"-171.8\" font-family=\"Helvetica,sans-Serif\" font-size=\"14.00\">duration &lt;= 1.365</text>\r\n",
       "<text text-anchor=\"middle\" x=\"1332\" y=\"-156.8\" font-family=\"Helvetica,sans-Serif\" font-size=\"14.00\">gini = 0.456</text>\r\n",
       "<text text-anchor=\"middle\" x=\"1332\" y=\"-141.8\" font-family=\"Helvetica,sans-Serif\" font-size=\"14.00\">samples = 1184</text>\r\n",
       "<text text-anchor=\"middle\" x=\"1332\" y=\"-126.8\" font-family=\"Helvetica,sans-Serif\" font-size=\"14.00\">value = [767, 417]</text>\r\n",
       "<text text-anchor=\"middle\" x=\"1332\" y=\"-111.8\" font-family=\"Helvetica,sans-Serif\" font-size=\"14.00\">class = no</text>\r\n",
       "</g>\r\n",
       "<!-- 17&#45;&gt;18 -->\r\n",
       "<g id=\"edge18\" class=\"edge\">\r\n",
       "<title>17&#45;&gt;18</title>\r\n",
       "<path fill=\"none\" stroke=\"black\" d=\"M1380.33,-222.91C1374.76,-214.1 1368.81,-204.7 1363.06,-195.61\"/>\r\n",
       "<polygon fill=\"black\" stroke=\"black\" points=\"1365.93,-193.6 1357.63,-187.02 1360.02,-197.34 1365.93,-193.6\"/>\r\n",
       "</g>\r\n",
       "<!-- 21 -->\r\n",
       "<g id=\"node22\" class=\"node\">\r\n",
       "<title>21</title>\r\n",
       "<path fill=\"#65b3eb\" stroke=\"black\" d=\"M1534.5,-187C1534.5,-187 1427.5,-187 1427.5,-187 1421.5,-187 1415.5,-181 1415.5,-175 1415.5,-175 1415.5,-116 1415.5,-116 1415.5,-110 1421.5,-104 1427.5,-104 1427.5,-104 1534.5,-104 1534.5,-104 1540.5,-104 1546.5,-110 1546.5,-116 1546.5,-116 1546.5,-175 1546.5,-175 1546.5,-181 1540.5,-187 1534.5,-187\"/>\r\n",
       "<text text-anchor=\"middle\" x=\"1481\" y=\"-171.8\" font-family=\"Helvetica,sans-Serif\" font-size=\"14.00\">previous &lt;= 2.559</text>\r\n",
       "<text text-anchor=\"middle\" x=\"1481\" y=\"-156.8\" font-family=\"Helvetica,sans-Serif\" font-size=\"14.00\">gini = 0.298</text>\r\n",
       "<text text-anchor=\"middle\" x=\"1481\" y=\"-141.8\" font-family=\"Helvetica,sans-Serif\" font-size=\"14.00\">samples = 55</text>\r\n",
       "<text text-anchor=\"middle\" x=\"1481\" y=\"-126.8\" font-family=\"Helvetica,sans-Serif\" font-size=\"14.00\">value = [10, 45]</text>\r\n",
       "<text text-anchor=\"middle\" x=\"1481\" y=\"-111.8\" font-family=\"Helvetica,sans-Serif\" font-size=\"14.00\">class = no</text>\r\n",
       "</g>\r\n",
       "<!-- 17&#45;&gt;21 -->\r\n",
       "<g id=\"edge21\" class=\"edge\">\r\n",
       "<title>17&#45;&gt;21</title>\r\n",
       "<path fill=\"none\" stroke=\"black\" d=\"M1432.02,-222.91C1437.66,-214.1 1443.69,-204.7 1449.52,-195.61\"/>\r\n",
       "<polygon fill=\"black\" stroke=\"black\" points=\"1452.57,-197.33 1455.03,-187.02 1446.68,-193.55 1452.57,-197.33\"/>\r\n",
       "</g>\r\n",
       "<!-- 19 -->\r\n",
       "<g id=\"node20\" class=\"node\">\r\n",
       "<title>19</title>\r\n",
       "<path fill=\"#efb489\" stroke=\"black\" d=\"M1244,-68C1244,-68 1138,-68 1138,-68 1132,-68 1126,-62 1126,-56 1126,-56 1126,-12 1126,-12 1126,-6 1132,0 1138,0 1138,0 1244,0 1244,0 1250,0 1256,-6 1256,-12 1256,-12 1256,-56 1256,-56 1256,-62 1250,-68 1244,-68\"/>\r\n",
       "<text text-anchor=\"middle\" x=\"1191\" y=\"-52.8\" font-family=\"Helvetica,sans-Serif\" font-size=\"14.00\">gini = 0.41</text>\r\n",
       "<text text-anchor=\"middle\" x=\"1191\" y=\"-37.8\" font-family=\"Helvetica,sans-Serif\" font-size=\"14.00\">samples = 536</text>\r\n",
       "<text text-anchor=\"middle\" x=\"1191\" y=\"-22.8\" font-family=\"Helvetica,sans-Serif\" font-size=\"14.00\">value = [382, 154]</text>\r\n",
       "<text text-anchor=\"middle\" x=\"1191\" y=\"-7.8\" font-family=\"Helvetica,sans-Serif\" font-size=\"14.00\">class = no</text>\r\n",
       "</g>\r\n",
       "<!-- 18&#45;&gt;19 -->\r\n",
       "<g id=\"edge19\" class=\"edge\">\r\n",
       "<title>18&#45;&gt;19</title>\r\n",
       "<path fill=\"none\" stroke=\"black\" d=\"M1279.5,-103.73C1267.16,-94.15 1254.05,-83.96 1241.79,-74.44\"/>\r\n",
       "<polygon fill=\"black\" stroke=\"black\" points=\"1243.92,-71.67 1233.88,-68.3 1239.63,-77.2 1243.92,-71.67\"/>\r\n",
       "</g>\r\n",
       "<!-- 20 -->\r\n",
       "<g id=\"node21\" class=\"node\">\r\n",
       "<title>20</title>\r\n",
       "<path fill=\"#f7d7c0\" stroke=\"black\" d=\"M1392,-68C1392,-68 1286,-68 1286,-68 1280,-68 1274,-62 1274,-56 1274,-56 1274,-12 1274,-12 1274,-6 1280,0 1286,0 1286,0 1392,0 1392,0 1398,0 1404,-6 1404,-12 1404,-12 1404,-56 1404,-56 1404,-62 1398,-68 1392,-68\"/>\r\n",
       "<text text-anchor=\"middle\" x=\"1339\" y=\"-52.8\" font-family=\"Helvetica,sans-Serif\" font-size=\"14.00\">gini = 0.482</text>\r\n",
       "<text text-anchor=\"middle\" x=\"1339\" y=\"-37.8\" font-family=\"Helvetica,sans-Serif\" font-size=\"14.00\">samples = 648</text>\r\n",
       "<text text-anchor=\"middle\" x=\"1339\" y=\"-22.8\" font-family=\"Helvetica,sans-Serif\" font-size=\"14.00\">value = [385, 263]</text>\r\n",
       "<text text-anchor=\"middle\" x=\"1339\" y=\"-7.8\" font-family=\"Helvetica,sans-Serif\" font-size=\"14.00\">class = no</text>\r\n",
       "</g>\r\n",
       "<!-- 18&#45;&gt;20 -->\r\n",
       "<g id=\"edge20\" class=\"edge\">\r\n",
       "<title>18&#45;&gt;20</title>\r\n",
       "<path fill=\"none\" stroke=\"black\" d=\"M1334.61,-103.73C1335.14,-95.43 1335.7,-86.67 1336.23,-78.28\"/>\r\n",
       "<polygon fill=\"black\" stroke=\"black\" points=\"1339.73,-78.5 1336.87,-68.3 1332.74,-78.06 1339.73,-78.5\"/>\r\n",
       "</g>\r\n",
       "<!-- 22 -->\r\n",
       "<g id=\"node23\" class=\"node\">\r\n",
       "<title>22</title>\r\n",
       "<path fill=\"#7bbeee\" stroke=\"black\" d=\"M1515.5,-68C1515.5,-68 1434.5,-68 1434.5,-68 1428.5,-68 1422.5,-62 1422.5,-56 1422.5,-56 1422.5,-12 1422.5,-12 1422.5,-6 1428.5,0 1434.5,0 1434.5,0 1515.5,0 1515.5,0 1521.5,0 1527.5,-6 1527.5,-12 1527.5,-12 1527.5,-56 1527.5,-56 1527.5,-62 1521.5,-68 1515.5,-68\"/>\r\n",
       "<text text-anchor=\"middle\" x=\"1475\" y=\"-52.8\" font-family=\"Helvetica,sans-Serif\" font-size=\"14.00\">gini = 0.375</text>\r\n",
       "<text text-anchor=\"middle\" x=\"1475\" y=\"-37.8\" font-family=\"Helvetica,sans-Serif\" font-size=\"14.00\">samples = 36</text>\r\n",
       "<text text-anchor=\"middle\" x=\"1475\" y=\"-22.8\" font-family=\"Helvetica,sans-Serif\" font-size=\"14.00\">value = [9, 27]</text>\r\n",
       "<text text-anchor=\"middle\" x=\"1475\" y=\"-7.8\" font-family=\"Helvetica,sans-Serif\" font-size=\"14.00\">class = no</text>\r\n",
       "</g>\r\n",
       "<!-- 21&#45;&gt;22 -->\r\n",
       "<g id=\"edge22\" class=\"edge\">\r\n",
       "<title>21&#45;&gt;22</title>\r\n",
       "<path fill=\"none\" stroke=\"black\" d=\"M1478.77,-103.73C1478.32,-95.52 1477.84,-86.86 1477.39,-78.56\"/>\r\n",
       "<polygon fill=\"black\" stroke=\"black\" points=\"1480.87,-78.09 1476.82,-68.3 1473.88,-78.48 1480.87,-78.09\"/>\r\n",
       "</g>\r\n",
       "<!-- 23 -->\r\n",
       "<g id=\"node24\" class=\"node\">\r\n",
       "<title>23</title>\r\n",
       "<path fill=\"#44a2e6\" stroke=\"black\" d=\"M1638.5,-68C1638.5,-68 1557.5,-68 1557.5,-68 1551.5,-68 1545.5,-62 1545.5,-56 1545.5,-56 1545.5,-12 1545.5,-12 1545.5,-6 1551.5,0 1557.5,0 1557.5,0 1638.5,0 1638.5,0 1644.5,0 1650.5,-6 1650.5,-12 1650.5,-12 1650.5,-56 1650.5,-56 1650.5,-62 1644.5,-68 1638.5,-68\"/>\r\n",
       "<text text-anchor=\"middle\" x=\"1598\" y=\"-52.8\" font-family=\"Helvetica,sans-Serif\" font-size=\"14.00\">gini = 0.1</text>\r\n",
       "<text text-anchor=\"middle\" x=\"1598\" y=\"-37.8\" font-family=\"Helvetica,sans-Serif\" font-size=\"14.00\">samples = 19</text>\r\n",
       "<text text-anchor=\"middle\" x=\"1598\" y=\"-22.8\" font-family=\"Helvetica,sans-Serif\" font-size=\"14.00\">value = [1, 18]</text>\r\n",
       "<text text-anchor=\"middle\" x=\"1598\" y=\"-7.8\" font-family=\"Helvetica,sans-Serif\" font-size=\"14.00\">class = no</text>\r\n",
       "</g>\r\n",
       "<!-- 21&#45;&gt;23 -->\r\n",
       "<g id=\"edge23\" class=\"edge\">\r\n",
       "<title>21&#45;&gt;23</title>\r\n",
       "<path fill=\"none\" stroke=\"black\" d=\"M1524.57,-103.73C1534.51,-94.42 1545.06,-84.54 1554.98,-75.26\"/>\r\n",
       "<polygon fill=\"black\" stroke=\"black\" points=\"1557.51,-77.69 1562.42,-68.3 1552.73,-72.58 1557.51,-77.69\"/>\r\n",
       "</g>\r\n",
       "<!-- 25 -->\r\n",
       "<g id=\"node26\" class=\"node\">\r\n",
       "<title>25</title>\r\n",
       "<path fill=\"#c9e4f8\" stroke=\"black\" d=\"M1847,-187C1847,-187 1741,-187 1741,-187 1735,-187 1729,-181 1729,-175 1729,-175 1729,-116 1729,-116 1729,-110 1735,-104 1741,-104 1741,-104 1847,-104 1847,-104 1853,-104 1859,-110 1859,-116 1859,-116 1859,-175 1859,-175 1859,-181 1853,-187 1847,-187\"/>\r\n",
       "<text text-anchor=\"middle\" x=\"1794\" y=\"-171.8\" font-family=\"Helvetica,sans-Serif\" font-size=\"14.00\">job &lt;= &#45;0.705</text>\r\n",
       "<text text-anchor=\"middle\" x=\"1794\" y=\"-156.8\" font-family=\"Helvetica,sans-Serif\" font-size=\"14.00\">gini = 0.487</text>\r\n",
       "<text text-anchor=\"middle\" x=\"1794\" y=\"-141.8\" font-family=\"Helvetica,sans-Serif\" font-size=\"14.00\">samples = 792</text>\r\n",
       "<text text-anchor=\"middle\" x=\"1794\" y=\"-126.8\" font-family=\"Helvetica,sans-Serif\" font-size=\"14.00\">value = [333, 459]</text>\r\n",
       "<text text-anchor=\"middle\" x=\"1794\" y=\"-111.8\" font-family=\"Helvetica,sans-Serif\" font-size=\"14.00\">class = no</text>\r\n",
       "</g>\r\n",
       "<!-- 24&#45;&gt;25 -->\r\n",
       "<g id=\"edge25\" class=\"edge\">\r\n",
       "<title>24&#45;&gt;25</title>\r\n",
       "<path fill=\"none\" stroke=\"black\" d=\"M1794,-222.91C1794,-214.65 1794,-205.86 1794,-197.3\"/>\r\n",
       "<polygon fill=\"black\" stroke=\"black\" points=\"1797.5,-197.02 1794,-187.02 1790.5,-197.02 1797.5,-197.02\"/>\r\n",
       "</g>\r\n",
       "<!-- 28 -->\r\n",
       "<g id=\"node29\" class=\"node\">\r\n",
       "<title>28</title>\r\n",
       "<path fill=\"#42a2e6\" stroke=\"black\" d=\"M2086.5,-187C2086.5,-187 1949.5,-187 1949.5,-187 1943.5,-187 1937.5,-181 1937.5,-175 1937.5,-175 1937.5,-116 1937.5,-116 1937.5,-110 1943.5,-104 1949.5,-104 1949.5,-104 2086.5,-104 2086.5,-104 2092.5,-104 2098.5,-110 2098.5,-116 2098.5,-116 2098.5,-175 2098.5,-175 2098.5,-181 2092.5,-187 2086.5,-187\"/>\r\n",
       "<text text-anchor=\"middle\" x=\"2018\" y=\"-171.8\" font-family=\"Helvetica,sans-Serif\" font-size=\"14.00\">cons.conf.idx &lt;= 1.864</text>\r\n",
       "<text text-anchor=\"middle\" x=\"2018\" y=\"-156.8\" font-family=\"Helvetica,sans-Serif\" font-size=\"14.00\">gini = 0.087</text>\r\n",
       "<text text-anchor=\"middle\" x=\"2018\" y=\"-141.8\" font-family=\"Helvetica,sans-Serif\" font-size=\"14.00\">samples = 22</text>\r\n",
       "<text text-anchor=\"middle\" x=\"2018\" y=\"-126.8\" font-family=\"Helvetica,sans-Serif\" font-size=\"14.00\">value = [1, 21]</text>\r\n",
       "<text text-anchor=\"middle\" x=\"2018\" y=\"-111.8\" font-family=\"Helvetica,sans-Serif\" font-size=\"14.00\">class = no</text>\r\n",
       "</g>\r\n",
       "<!-- 24&#45;&gt;28 -->\r\n",
       "<g id=\"edge28\" class=\"edge\">\r\n",
       "<title>24&#45;&gt;28</title>\r\n",
       "<path fill=\"none\" stroke=\"black\" d=\"M1859.69,-229.19C1882.13,-217.47 1907.58,-204.18 1931.4,-191.73\"/>\r\n",
       "<polygon fill=\"black\" stroke=\"black\" points=\"1933.2,-194.74 1940.44,-187.01 1929.96,-188.54 1933.2,-194.74\"/>\r\n",
       "</g>\r\n",
       "<!-- 26 -->\r\n",
       "<g id=\"node27\" class=\"node\">\r\n",
       "<title>26</title>\r\n",
       "<path fill=\"#b1d8f5\" stroke=\"black\" d=\"M1787,-68C1787,-68 1681,-68 1681,-68 1675,-68 1669,-62 1669,-56 1669,-56 1669,-12 1669,-12 1669,-6 1675,0 1681,0 1681,0 1787,0 1787,0 1793,0 1799,-6 1799,-12 1799,-12 1799,-56 1799,-56 1799,-62 1793,-68 1787,-68\"/>\r\n",
       "<text text-anchor=\"middle\" x=\"1734\" y=\"-52.8\" font-family=\"Helvetica,sans-Serif\" font-size=\"14.00\">gini = 0.469</text>\r\n",
       "<text text-anchor=\"middle\" x=\"1734\" y=\"-37.8\" font-family=\"Helvetica,sans-Serif\" font-size=\"14.00\">samples = 348</text>\r\n",
       "<text text-anchor=\"middle\" x=\"1734\" y=\"-22.8\" font-family=\"Helvetica,sans-Serif\" font-size=\"14.00\">value = [131, 217]</text>\r\n",
       "<text text-anchor=\"middle\" x=\"1734\" y=\"-7.8\" font-family=\"Helvetica,sans-Serif\" font-size=\"14.00\">class = no</text>\r\n",
       "</g>\r\n",
       "<!-- 25&#45;&gt;26 -->\r\n",
       "<g id=\"edge26\" class=\"edge\">\r\n",
       "<title>25&#45;&gt;26</title>\r\n",
       "<path fill=\"none\" stroke=\"black\" d=\"M1771.66,-103.73C1766.91,-95.06 1761.89,-85.9 1757.11,-77.18\"/>\r\n",
       "<polygon fill=\"black\" stroke=\"black\" points=\"1760.12,-75.39 1752.25,-68.3 1753.98,-78.75 1760.12,-75.39\"/>\r\n",
       "</g>\r\n",
       "<!-- 27 -->\r\n",
       "<g id=\"node28\" class=\"node\">\r\n",
       "<title>27</title>\r\n",
       "<path fill=\"#deeffb\" stroke=\"black\" d=\"M1935,-68C1935,-68 1829,-68 1829,-68 1823,-68 1817,-62 1817,-56 1817,-56 1817,-12 1817,-12 1817,-6 1823,0 1829,0 1829,0 1935,0 1935,0 1941,0 1947,-6 1947,-12 1947,-12 1947,-56 1947,-56 1947,-62 1941,-68 1935,-68\"/>\r\n",
       "<text text-anchor=\"middle\" x=\"1882\" y=\"-52.8\" font-family=\"Helvetica,sans-Serif\" font-size=\"14.00\">gini = 0.496</text>\r\n",
       "<text text-anchor=\"middle\" x=\"1882\" y=\"-37.8\" font-family=\"Helvetica,sans-Serif\" font-size=\"14.00\">samples = 444</text>\r\n",
       "<text text-anchor=\"middle\" x=\"1882\" y=\"-22.8\" font-family=\"Helvetica,sans-Serif\" font-size=\"14.00\">value = [202, 242]</text>\r\n",
       "<text text-anchor=\"middle\" x=\"1882\" y=\"-7.8\" font-family=\"Helvetica,sans-Serif\" font-size=\"14.00\">class = no</text>\r\n",
       "</g>\r\n",
       "<!-- 25&#45;&gt;27 -->\r\n",
       "<g id=\"edge27\" class=\"edge\">\r\n",
       "<title>25&#45;&gt;27</title>\r\n",
       "<path fill=\"none\" stroke=\"black\" d=\"M1826.77,-103.73C1833.95,-94.79 1841.56,-85.32 1848.76,-76.36\"/>\r\n",
       "<polygon fill=\"black\" stroke=\"black\" points=\"1851.7,-78.29 1855.24,-68.3 1846.25,-73.9 1851.7,-78.29\"/>\r\n",
       "</g>\r\n",
       "<!-- 29 -->\r\n",
       "<g id=\"node30\" class=\"node\">\r\n",
       "<title>29</title>\r\n",
       "<path fill=\"#399de5\" stroke=\"black\" d=\"M2058.5,-68C2058.5,-68 1977.5,-68 1977.5,-68 1971.5,-68 1965.5,-62 1965.5,-56 1965.5,-56 1965.5,-12 1965.5,-12 1965.5,-6 1971.5,0 1977.5,0 1977.5,0 2058.5,0 2058.5,0 2064.5,0 2070.5,-6 2070.5,-12 2070.5,-12 2070.5,-56 2070.5,-56 2070.5,-62 2064.5,-68 2058.5,-68\"/>\r\n",
       "<text text-anchor=\"middle\" x=\"2018\" y=\"-52.8\" font-family=\"Helvetica,sans-Serif\" font-size=\"14.00\">gini = 0.0</text>\r\n",
       "<text text-anchor=\"middle\" x=\"2018\" y=\"-37.8\" font-family=\"Helvetica,sans-Serif\" font-size=\"14.00\">samples = 20</text>\r\n",
       "<text text-anchor=\"middle\" x=\"2018\" y=\"-22.8\" font-family=\"Helvetica,sans-Serif\" font-size=\"14.00\">value = [0, 20]</text>\r\n",
       "<text text-anchor=\"middle\" x=\"2018\" y=\"-7.8\" font-family=\"Helvetica,sans-Serif\" font-size=\"14.00\">class = no</text>\r\n",
       "</g>\r\n",
       "<!-- 28&#45;&gt;29 -->\r\n",
       "<g id=\"edge29\" class=\"edge\">\r\n",
       "<title>28&#45;&gt;29</title>\r\n",
       "<path fill=\"none\" stroke=\"black\" d=\"M2018,-103.73C2018,-95.52 2018,-86.86 2018,-78.56\"/>\r\n",
       "<polygon fill=\"black\" stroke=\"black\" points=\"2021.5,-78.3 2018,-68.3 2014.5,-78.3 2021.5,-78.3\"/>\r\n",
       "</g>\r\n",
       "<!-- 30 -->\r\n",
       "<g id=\"node31\" class=\"node\">\r\n",
       "<title>30</title>\r\n",
       "<path fill=\"#ffffff\" stroke=\"black\" d=\"M2173.5,-68C2173.5,-68 2100.5,-68 2100.5,-68 2094.5,-68 2088.5,-62 2088.5,-56 2088.5,-56 2088.5,-12 2088.5,-12 2088.5,-6 2094.5,0 2100.5,0 2100.5,0 2173.5,0 2173.5,0 2179.5,0 2185.5,-6 2185.5,-12 2185.5,-12 2185.5,-56 2185.5,-56 2185.5,-62 2179.5,-68 2173.5,-68\"/>\r\n",
       "<text text-anchor=\"middle\" x=\"2137\" y=\"-52.8\" font-family=\"Helvetica,sans-Serif\" font-size=\"14.00\">gini = 0.5</text>\r\n",
       "<text text-anchor=\"middle\" x=\"2137\" y=\"-37.8\" font-family=\"Helvetica,sans-Serif\" font-size=\"14.00\">samples = 2</text>\r\n",
       "<text text-anchor=\"middle\" x=\"2137\" y=\"-22.8\" font-family=\"Helvetica,sans-Serif\" font-size=\"14.00\">value = [1, 1]</text>\r\n",
       "<text text-anchor=\"middle\" x=\"2137\" y=\"-7.8\" font-family=\"Helvetica,sans-Serif\" font-size=\"14.00\">class = no</text>\r\n",
       "</g>\r\n",
       "<!-- 28&#45;&gt;30 -->\r\n",
       "<g id=\"edge30\" class=\"edge\">\r\n",
       "<title>28&#45;&gt;30</title>\r\n",
       "<path fill=\"none\" stroke=\"black\" d=\"M2062.31,-103.73C2072.42,-94.42 2083.16,-84.54 2093.25,-75.26\"/>\r\n",
       "<polygon fill=\"black\" stroke=\"black\" points=\"2095.82,-77.65 2100.81,-68.3 2091.08,-72.5 2095.82,-77.65\"/>\r\n",
       "</g>\r\n",
       "</g>\r\n",
       "</svg>\r\n"
      ],
      "text/plain": [
       "<graphviz.files.Source at 0x199934a84c0>"
      ]
     },
     "execution_count": 33,
     "metadata": {},
     "output_type": "execute_result"
    }
   ],
   "source": [
    "from graphviz import Source\n",
    "from sklearn.tree import export_graphviz\n",
    "\n",
    "export_graphviz(\n",
    "        model_tree,\n",
    "        out_file=os.path.join(IMAGES_PATH, \"deposit.dot\"),\n",
    "        feature_names=X_train.columns, # kolom dari fitur  \n",
    "        class_names=df_raw.subcribed,  # dari target\n",
    "        filled=True,\n",
    "        rounded=True\n",
    "    )\n",
    "\n",
    "Source.from_file(os.path.join(IMAGES_PATH, \"deposit.dot\"))"
   ]
  },
  {
   "cell_type": "markdown",
   "id": "040001b1",
   "metadata": {
    "heading_collapsed": true,
    "hidden": true
   },
   "source": [
    "### 4. Model Random Forest"
   ]
  },
  {
   "cell_type": "code",
   "execution_count": 291,
   "id": "de23e516",
   "metadata": {
    "ExecuteTime": {
     "end_time": "2021-08-08T07:17:53.450004Z",
     "start_time": "2021-08-08T07:17:52.961910Z"
    },
    "hidden": true
   },
   "outputs": [
    {
     "name": "stdout",
     "output_type": "stream",
     "text": [
      "Wall time: 462 ms\n"
     ]
    },
    {
     "data": {
      "text/plain": [
       "RandomForestClassifier(n_estimators=10, random_state=77)"
      ]
     },
     "execution_count": 291,
     "metadata": {},
     "output_type": "execute_result"
    }
   ],
   "source": [
    "model_rf = RandomForestClassifier(n_estimators=10,random_state=77)\n",
    "%time model_rf.fit(X_train_trf, y_train)"
   ]
  },
  {
   "cell_type": "markdown",
   "id": "8eb8d6cd",
   "metadata": {
    "heading_collapsed": true,
    "hidden": true
   },
   "source": [
    "### 5. Model KNN (K-Nearest Neighbors)"
   ]
  },
  {
   "cell_type": "code",
   "execution_count": 292,
   "id": "aeb5c78f",
   "metadata": {
    "ExecuteTime": {
     "end_time": "2021-08-08T07:18:00.916934Z",
     "start_time": "2021-08-08T07:18:00.649679Z"
    },
    "hidden": true
   },
   "outputs": [
    {
     "name": "stdout",
     "output_type": "stream",
     "text": [
      "Wall time: 226 ms\n"
     ]
    },
    {
     "data": {
      "text/plain": [
       "KNeighborsClassifier(n_neighbors=4)"
      ]
     },
     "execution_count": 292,
     "metadata": {},
     "output_type": "execute_result"
    }
   ],
   "source": [
    "model_knn = KNeighborsClassifier(n_neighbors=4)\n",
    "%time model_knn.fit(X_train_trf, y_train)"
   ]
  },
  {
   "cell_type": "markdown",
   "id": "cc3248fe",
   "metadata": {
    "heading_collapsed": true,
    "hidden": true
   },
   "source": [
    "### 6. Model Naive Bayes"
   ]
  },
  {
   "cell_type": "code",
   "execution_count": 293,
   "id": "b47921f4",
   "metadata": {
    "ExecuteTime": {
     "end_time": "2021-08-08T07:18:11.727713Z",
     "start_time": "2021-08-08T07:18:11.697561Z"
    },
    "hidden": true
   },
   "outputs": [
    {
     "name": "stdout",
     "output_type": "stream",
     "text": [
      "Wall time: 19.8 ms\n"
     ]
    },
    {
     "data": {
      "text/plain": [
       "GaussianNB()"
      ]
     },
     "execution_count": 293,
     "metadata": {},
     "output_type": "execute_result"
    }
   ],
   "source": [
    "model_gnb = GaussianNB()\n",
    "%time model_gnb.fit(X_train_trf, y_train)"
   ]
  },
  {
   "cell_type": "markdown",
   "id": "0df67d9f",
   "metadata": {
    "heading_collapsed": true,
    "hidden": true
   },
   "source": [
    "### 7. XGBoost"
   ]
  },
  {
   "cell_type": "code",
   "execution_count": 294,
   "id": "a0953e7b",
   "metadata": {
    "ExecuteTime": {
     "end_time": "2021-08-08T07:18:21.987478Z",
     "start_time": "2021-08-08T07:18:21.616522Z"
    },
    "hidden": true
   },
   "outputs": [
    {
     "name": "stdout",
     "output_type": "stream",
     "text": [
      "[14:18:21] WARNING: C:/Users/Administrator/workspace/xgboost-win64_release_1.4.0/src/learner.cc:1095: Starting in XGBoost 1.3.0, the default evaluation metric used with the objective 'binary:logistic' was changed from 'error' to 'logloss'. Explicitly set eval_metric if you'd like to restore the old behavior.\n",
      "Wall time: 318 ms\n"
     ]
    },
    {
     "data": {
      "text/plain": [
       "XGBClassifier(base_score=0.5, booster='gbtree', colsample_bylevel=1,\n",
       "              colsample_bynode=1, colsample_bytree=1, gamma=0, gpu_id=-1,\n",
       "              importance_type='gain', interaction_constraints='',\n",
       "              learning_rate=0.300000012, max_delta_step=0, max_depth=6,\n",
       "              min_child_weight=1, missing=nan, monotone_constraints='()',\n",
       "              n_estimators=10, n_jobs=4, num_parallel_tree=1, random_state=77,\n",
       "              reg_alpha=0, reg_lambda=1, scale_pos_weight=1, subsample=1,\n",
       "              tree_method='exact', validate_parameters=1, verbosity=None)"
      ]
     },
     "execution_count": 294,
     "metadata": {},
     "output_type": "execute_result"
    }
   ],
   "source": [
    "model_xgb = xgb.XGBClassifier(n_estimators=10,random_state=77)\n",
    "%time model_xgb.fit(X_train_trf, y_train)"
   ]
  },
  {
   "cell_type": "markdown",
   "id": "a807dfe3",
   "metadata": {
    "heading_collapsed": true
   },
   "source": [
    "## Evaluasi Model"
   ]
  },
  {
   "cell_type": "markdown",
   "id": "1551409d",
   "metadata": {
    "hidden": true
   },
   "source": [
    "Pada bagian ini, dilakukan evaluasi model yang harus menunjukkan bagaimana performa model berdasarkan metrics yang dipilih. Hal ini harus dibuktikan dengan visualisasi tren performa dan/atau tingkat kesalahan model."
   ]
  },
  {
   "cell_type": "markdown",
   "id": "f0cc73dc",
   "metadata": {
    "heading_collapsed": true,
    "hidden": true
   },
   "source": [
    "### 1. Model Logistic Regression"
   ]
  },
  {
   "cell_type": "markdown",
   "id": "f5cbe8d1",
   "metadata": {
    "hidden": true
   },
   "source": [
    "##### Scoring"
   ]
  },
  {
   "cell_type": "code",
   "execution_count": 285,
   "id": "3aab8cdf",
   "metadata": {
    "ExecuteTime": {
     "end_time": "2021-08-08T07:13:34.887634Z",
     "start_time": "2021-08-08T07:13:34.861508Z"
    },
    "hidden": true
   },
   "outputs": [],
   "source": [
    "y_train_pred = model_logreg.predict(X_train_trf)\n",
    "y_test_pred = model_logreg.predict(X_test_trf)"
   ]
  },
  {
   "cell_type": "code",
   "execution_count": 286,
   "id": "d0df935d",
   "metadata": {
    "ExecuteTime": {
     "end_time": "2021-08-08T07:13:35.541468Z",
     "start_time": "2021-08-08T07:13:35.506528Z"
    },
    "hidden": true
   },
   "outputs": [
    {
     "name": "stdout",
     "output_type": "stream",
     "text": [
      "TRAIN RESULT :\n",
      "================================================\n",
      "MSE:  0.11\n",
      "RMSE: 0.33\n",
      "r2: -0.01\n",
      "TEST RSEULT:\n",
      "================================================\n",
      "MSE:  0.11\n",
      "MAE:  0.11\n",
      "RMSE:  0.33\n",
      "r2:  0.02\n"
     ]
    }
   ],
   "source": [
    "# MSE, MAE, R2, RMSE Method One\n",
    "from sklearn.metrics import mean_squared_error, mean_absolute_error, r2_score\n",
    "\n",
    "#TRAIN\n",
    "print(\"TRAIN RESULT :\\n================================================\")\n",
    "print(f'MSE: {mean_squared_error(y_train,y_train_pred): .2f}')\n",
    "print(f'RMSE:{np.sqrt(mean_squared_error(y_train,y_train_pred)): .2f}')\n",
    "print(f'r2: {r2_score(y_train,y_train_pred): .2f}')\n",
    "#TEST\n",
    "print(\"TEST RSEULT:\\n================================================\")\n",
    "print(f'MSE: {mean_squared_error(y_test,y_test_pred): .2f}')\n",
    "print(f'MAE: {mean_absolute_error(y_test,y_test_pred): .2f}')\n",
    "print(f'RMSE: {np.sqrt(mean_squared_error(y_test,y_test_pred)): .2f}')\n",
    "print(f'r2: {r2_score(y_test,y_test_pred): .2f}')"
   ]
  },
  {
   "cell_type": "code",
   "execution_count": 288,
   "id": "0583a783",
   "metadata": {
    "ExecuteTime": {
     "end_time": "2021-08-08T07:14:59.418383Z",
     "start_time": "2021-08-08T07:14:59.339935Z"
    },
    "hidden": true
   },
   "outputs": [
    {
     "name": "stdout",
     "output_type": "stream",
     "text": [
      "              precision    recall  f1-score   support\n",
      "\n",
      "           0       0.91      0.98      0.94     16552\n",
      "           1       0.64      0.26      0.37      2271\n",
      "\n",
      "    accuracy                           0.89     18823\n",
      "   macro avg       0.77      0.62      0.66     18823\n",
      "weighted avg       0.87      0.89      0.87     18823\n",
      "\n",
      "              precision    recall  f1-score   support\n",
      "\n",
      "           0       0.90      0.98      0.94      7053\n",
      "           1       0.68      0.27      0.39      1015\n",
      "\n",
      "    accuracy                           0.89      8068\n",
      "   macro avg       0.79      0.63      0.67      8068\n",
      "weighted avg       0.88      0.89      0.87      8068\n",
      "\n"
     ]
    }
   ],
   "source": [
    "from sklearn.metrics import classification_report\n",
    "\n",
    "print(classification_report(y_train, y_train_pred))\n",
    "print(classification_report(y_test, y_test_pred))"
   ]
  },
  {
   "cell_type": "markdown",
   "id": "be92b2c2",
   "metadata": {
    "hidden": true
   },
   "source": [
    "#### Logistic Regression Hyperparameter Tunning"
   ]
  },
  {
   "cell_type": "markdown",
   "id": "4e53a918",
   "metadata": {
    "heading_collapsed": true,
    "hidden": true
   },
   "source": [
    "##### Fungsi print_score"
   ]
  },
  {
   "cell_type": "code",
   "execution_count": 40,
   "id": "8e112f9a",
   "metadata": {
    "ExecuteTime": {
     "end_time": "2021-08-08T02:24:04.224470Z",
     "start_time": "2021-08-08T02:24:04.199533Z"
    },
    "hidden": true
   },
   "outputs": [],
   "source": [
    "from sklearn.metrics import accuracy_score, confusion_matrix, classification_report\n",
    "\n",
    "def print_score(clf, X_train_trf, y_train, X_test_trf, y_test, train=True):\n",
    "    if train:\n",
    "        pred = clf.predict(X_train_trf)\n",
    "        clf_report = pd.DataFrame(classification_report(y_train, pred, output_dict=True))\n",
    "        print(\"TRAIN AFTER TUNING RESULT:\\n================================================\")\n",
    "        print(f\"Accuracy Score: {accuracy_score(y_train, pred) * 100:.2f}%\")\n",
    "        print(\"_______________________________________________\")\n",
    "        print(f\"CLASSIFICATION REPORT:\\n{clf_report}\")\n",
    "        print(\"_______________________________________________\")\n",
    "        print(f\"Confusion Matrix: \\n {confusion_matrix(y_train, pred)}\\n\")\n",
    "        \n",
    "    elif train==False:\n",
    "        pred = clf.predict(X_test_trf)\n",
    "        clf_report = pd.DataFrame(classification_report(y_test, pred, output_dict=True))\n",
    "        print(\"TEST AFTER TUNING RESULT:\\n================================================\")        \n",
    "        print(f\"Accuracy Score: {accuracy_score(y_test, pred) * 100:.2f}%\")\n",
    "        print(\"_______________________________________________\")\n",
    "        print(f\"CLASSIFICATION REPORT:\\n{clf_report}\")\n",
    "        print(\"_______________________________________________\")\n",
    "        print(f\"Confusion Matrix: \\n {confusion_matrix(y_test, pred)}\\n\")"
   ]
  },
  {
   "cell_type": "markdown",
   "id": "f627f2a6",
   "metadata": {
    "hidden": true
   },
   "source": [
    "##### Tunning GridSearchCV"
   ]
  },
  {
   "cell_type": "code",
   "execution_count": 43,
   "id": "cda1d194",
   "metadata": {
    "ExecuteTime": {
     "end_time": "2021-08-08T02:30:57.021475Z",
     "start_time": "2021-08-08T02:30:50.775922Z"
    },
    "hidden": true
   },
   "outputs": [
    {
     "name": "stdout",
     "output_type": "stream",
     "text": [
      "Fitting 3 folds for each of 135 candidates, totalling 405 fits\n",
      "Best paramters: {'C': 100, 'max_iter': 100, 'penalty': 'l1', 'solver': 'liblinear'})\n",
      "Wall time: 30.1 ms\n",
      "TRAIN AFTER TUNING RESULT:\n",
      "================================================\n",
      "Accuracy Score: 89.29%\n",
      "_______________________________________________\n",
      "CLASSIFICATION REPORT:\n",
      "                      0            1  accuracy     macro avg  weighted avg\n",
      "precision      0.906488     0.635207  0.892897      0.770847      0.873758\n",
      "recall         0.979217     0.263760  0.892897      0.621489      0.892897\n",
      "f1-score       0.941450     0.372744  0.892897      0.657097      0.872835\n",
      "support    16552.000000  2271.000000  0.892897  18823.000000  18823.000000\n",
      "_______________________________________________\n",
      "Confusion Matrix: \n",
      " [[16208   344]\n",
      " [ 1672   599]]\n",
      "\n",
      "TEST AFTER TUNING RESULT:\n",
      "================================================\n",
      "Accuracy Score: 89.27%\n",
      "_______________________________________________\n",
      "CLASSIFICATION REPORT:\n",
      "                     0            1  accuracy    macro avg  weighted avg\n",
      "precision     0.903588     0.684864  0.892662     0.794226      0.876071\n",
      "recall        0.981993     0.271921  0.892662     0.626957      0.892662\n",
      "f1-score      0.941160     0.389281  0.892662     0.665221      0.871731\n",
      "support    7053.000000  1015.000000  0.892662  8068.000000   8068.000000\n",
      "_______________________________________________\n",
      "Confusion Matrix: \n",
      " [[6926  127]\n",
      " [ 739  276]]\n",
      "\n"
     ]
    }
   ],
   "source": [
    "#Tunning GridSearchCV\n",
    "from sklearn.model_selection import GridSearchCV\n",
    "\n",
    "penality = ['l1', 'l2', 'elasticnet']\n",
    "c = [100, 10, 1.0, 0.1, 0.01]\n",
    "solver = ['lbfgs', 'liblinear', 'saga']\n",
    "max_iter = [100, 500, 1000]\n",
    "\n",
    "params = {\n",
    "    'penalty': penality,\n",
    "    'C': c,\n",
    "    'solver': solver,\n",
    "    'max_iter': max_iter\n",
    "}\n",
    "\n",
    "log_clf = LogisticRegression(random_state=77)\n",
    "log_cv = GridSearchCV(log_clf, params, scoring=\"accuracy\", n_jobs=-1, verbose=1, cv=3)\n",
    "log_cv.fit(X_train_trf, y_train)\n",
    "best_params = log_cv.best_params_\n",
    "print(f\"Best paramters: {best_params})\")\n",
    "\n",
    "log_clf = LogisticRegression(**best_params)\n",
    "%time log_clf.fit(X_train_trf, y_train)\n",
    "print_score(log_clf, X_train_trf, y_train, X_test_trf, y_test, train=True)\n",
    "print_score(log_clf, X_train_trf, y_train, X_test_trf, y_test, train=False)"
   ]
  },
  {
   "cell_type": "markdown",
   "id": "dd05ff7a",
   "metadata": {
    "hidden": true
   },
   "source": [
    "##### Save score"
   ]
  },
  {
   "cell_type": "code",
   "execution_count": 44,
   "id": "73baa22d",
   "metadata": {
    "ExecuteTime": {
     "end_time": "2021-08-08T02:31:27.168369Z",
     "start_time": "2021-08-08T02:31:27.133944Z"
    },
    "hidden": true
   },
   "outputs": [],
   "source": [
    "scores = {\n",
    "    'LogReg': {\n",
    "        'Train': accuracy_score(y_train, model_logreg.predict(X_train_trf)),\n",
    "        'Test': accuracy_score(y_test, model_logreg.predict(X_test_trf)),\n",
    "    },\n",
    "}"
   ]
  },
  {
   "cell_type": "code",
   "execution_count": 45,
   "id": "cbf92ee8",
   "metadata": {
    "ExecuteTime": {
     "end_time": "2021-08-08T02:31:27.982076Z",
     "start_time": "2021-08-08T02:31:27.953730Z"
    },
    "hidden": true
   },
   "outputs": [],
   "source": [
    "scores['LogReg'] = {\n",
    "    'Train': accuracy_score(y_train, model_logreg.predict(X_train_trf)),\n",
    "    'Test': accuracy_score(y_test, model_logreg.predict(X_test_trf)),\n",
    "}"
   ]
  },
  {
   "cell_type": "markdown",
   "id": "a71fa7c3",
   "metadata": {
    "heading_collapsed": true,
    "hidden": true
   },
   "source": [
    "### 2. Model SVM (Suport Vector Machine)"
   ]
  },
  {
   "cell_type": "markdown",
   "id": "90b60886",
   "metadata": {
    "heading_collapsed": true,
    "hidden": true
   },
   "source": [
    "##### Scoring"
   ]
  },
  {
   "cell_type": "code",
   "execution_count": 295,
   "id": "3ef37fb3",
   "metadata": {
    "ExecuteTime": {
     "end_time": "2021-08-08T07:19:18.207846Z",
     "start_time": "2021-08-08T07:18:56.458970Z"
    },
    "hidden": true
   },
   "outputs": [],
   "source": [
    "y_train_pred = model_svc.predict(X_train_trf)\n",
    "y_test_pred = model_svc.predict(X_test_trf)"
   ]
  },
  {
   "cell_type": "code",
   "execution_count": 297,
   "id": "3009a9b5",
   "metadata": {
    "ExecuteTime": {
     "end_time": "2021-08-08T07:19:18.271465Z",
     "start_time": "2021-08-08T07:19:18.239514Z"
    },
    "hidden": true
   },
   "outputs": [
    {
     "name": "stdout",
     "output_type": "stream",
     "text": [
      "TRAIN RESULT :\n",
      "================================================\n",
      "MSE:  0.09\n",
      "RMSE: 0.31\n",
      "r2:  0.11\n",
      "TEST RSEULT:\n",
      "================================================\n",
      "MSE:  0.11\n",
      "MAE:  0.11\n",
      "RMSE:  0.32\n",
      "r2:  0.04\n"
     ]
    }
   ],
   "source": [
    "# MSE, MAE, R2, RMSE Method One\n",
    "from sklearn.metrics import mean_squared_error, mean_absolute_error, r2_score\n",
    "\n",
    "#TRAIN\n",
    "print(\"TRAIN RESULT :\\n================================================\")\n",
    "print(f'MSE: {mean_squared_error(y_train,y_train_pred): .2f}')\n",
    "print(f'RMSE:{np.sqrt(mean_squared_error(y_train,y_train_pred)): .2f}')\n",
    "print(f'r2: {r2_score(y_train,y_train_pred): .2f}')\n",
    "#TEST\n",
    "print(\"TEST RSEULT:\\n================================================\")\n",
    "print(f'MSE: {mean_squared_error(y_test,y_test_pred): .2f}')\n",
    "print(f'MAE: {mean_absolute_error(y_test,y_test_pred): .2f}')\n",
    "print(f'RMSE: {np.sqrt(mean_squared_error(y_test,y_test_pred)): .2f}')\n",
    "print(f'r2: {r2_score(y_test,y_test_pred): .2f}')"
   ]
  },
  {
   "cell_type": "code",
   "execution_count": 298,
   "id": "028adbaa",
   "metadata": {
    "ExecuteTime": {
     "end_time": "2021-08-08T07:19:23.603914Z",
     "start_time": "2021-08-08T07:19:23.468814Z"
    },
    "hidden": true
   },
   "outputs": [
    {
     "name": "stdout",
     "output_type": "stream",
     "text": [
      "              precision    recall  f1-score   support\n",
      "\n",
      "           0       0.91      0.98      0.95     16552\n",
      "           1       0.74      0.33      0.46      2271\n",
      "\n",
      "    accuracy                           0.91     18823\n",
      "   macro avg       0.83      0.66      0.70     18823\n",
      "weighted avg       0.89      0.91      0.89     18823\n",
      "\n",
      "              precision    recall  f1-score   support\n",
      "\n",
      "           0       0.91      0.98      0.94      7053\n",
      "           1       0.70      0.28      0.40      1015\n",
      "\n",
      "    accuracy                           0.89      8068\n",
      "   macro avg       0.80      0.63      0.67      8068\n",
      "weighted avg       0.88      0.89      0.87      8068\n",
      "\n"
     ]
    }
   ],
   "source": [
    "from sklearn.metrics import classification_report\n",
    "\n",
    "print(classification_report(y_train, y_train_pred))\n",
    "print(classification_report(y_test, y_test_pred))"
   ]
  },
  {
   "cell_type": "markdown",
   "id": "f620c44e",
   "metadata": {
    "heading_collapsed": true,
    "hidden": true
   },
   "source": [
    "#### SVM Hyperparameter Tunning"
   ]
  },
  {
   "cell_type": "markdown",
   "id": "4e2ef85b",
   "metadata": {
    "heading_collapsed": true,
    "hidden": true
   },
   "source": [
    "##### Fungsi print_score"
   ]
  },
  {
   "cell_type": "code",
   "execution_count": 127,
   "id": "d6b49e4b",
   "metadata": {
    "ExecuteTime": {
     "end_time": "2021-08-07T22:50:31.155744Z",
     "start_time": "2021-08-07T22:50:31.140115Z"
    },
    "hidden": true
   },
   "outputs": [],
   "source": [
    "from sklearn.metrics import accuracy_score, confusion_matrix, classification_report\n",
    "\n",
    "def print_score(clf, X_train_trf, y_train, X_test_trf, y_test, train=True):\n",
    "    if train:\n",
    "        pred = clf.predict(X_train_trf)\n",
    "        clf_report = pd.DataFrame(classification_report(y_train, pred, output_dict=True))\n",
    "        print(\"TRAIN AFTER TUNING RESULT:\\n================================================\")\n",
    "        print(f\"Accuracy Score: {accuracy_score(y_train, pred) * 100:.2f}%\")\n",
    "        print(\"_______________________________________________\")\n",
    "        print(f\"CLASSIFICATION REPORT:\\n{clf_report}\")\n",
    "        print(\"_______________________________________________\")\n",
    "        print(f\"Confusion Matrix: \\n {confusion_matrix(y_train, pred)}\\n\")\n",
    "        \n",
    "    elif train==False:\n",
    "        pred = clf.predict(X_test_trf)\n",
    "        clf_report = pd.DataFrame(classification_report(y_test, pred, output_dict=True))\n",
    "        print(\"TEST AFTER TUNING RESULT:\\n================================================\")        \n",
    "        print(f\"Accuracy Score: {accuracy_score(y_test, pred) * 100:.2f}%\")\n",
    "        print(\"_______________________________________________\")\n",
    "        print(f\"CLASSIFICATION REPORT:\\n{clf_report}\")\n",
    "        print(\"_______________________________________________\")\n",
    "        print(f\"Confusion Matrix: \\n {confusion_matrix(y_test, pred)}\\n\")"
   ]
  },
  {
   "cell_type": "markdown",
   "id": "26441f64",
   "metadata": {
    "heading_collapsed": true,
    "hidden": true
   },
   "source": [
    "##### Tunning RandomizedSearchCV"
   ]
  },
  {
   "cell_type": "code",
   "execution_count": 128,
   "id": "72334a69",
   "metadata": {
    "ExecuteTime": {
     "end_time": "2021-08-07T22:52:07.133919Z",
     "start_time": "2021-08-07T22:50:35.392534Z"
    },
    "hidden": true
   },
   "outputs": [
    {
     "name": "stdout",
     "output_type": "stream",
     "text": [
      "Fitting 3 folds for each of 10 candidates, totalling 30 fits\n",
      "Wall time: 1min 8s\n",
      "Best paramters: {'kernel': 'rbf', 'gamma': 0.1, 'C': 1})\n",
      "TRAIN AFTER TUNING RESULT:\n",
      "================================================\n",
      "Accuracy Score: 90.54%\n",
      "_______________________________________________\n",
      "CLASSIFICATION REPORT:\n",
      "                      0            1  accuracy     macro avg  weighted avg\n",
      "precision      0.914380     0.745000  0.905382      0.829690      0.893945\n",
      "recall         0.984594     0.328049  0.905382      0.656322      0.905382\n",
      "f1-score       0.948189     0.455518  0.905382      0.701854      0.888748\n",
      "support    16552.000000  2271.000000  0.905382  18823.000000  18823.000000\n",
      "_______________________________________________\n",
      "Confusion Matrix: \n",
      " [[16297   255]\n",
      " [ 1526   745]]\n",
      "\n",
      "TEST AFTER TUNING RESULT:\n",
      "================================================\n",
      "Accuracy Score: 89.46%\n",
      "_______________________________________________\n",
      "CLASSIFICATION REPORT:\n",
      "                     0            1  accuracy    macro avg  weighted avg\n",
      "precision     0.905160     0.699758  0.894646     0.802459      0.879319\n",
      "recall        0.982419     0.284729  0.894646     0.633574      0.894646\n",
      "f1-score      0.942208     0.404762  0.894646     0.673485      0.874595\n",
      "support    7053.000000  1015.000000  0.894646  8068.000000   8068.000000\n",
      "_______________________________________________\n",
      "Confusion Matrix: \n",
      " [[6929  124]\n",
      " [ 726  289]]\n",
      "\n"
     ]
    }
   ],
   "source": [
    "#Tunning GridSearchCV\n",
    "from sklearn.model_selection import RandomizedSearchCV\n",
    "\n",
    "kernel = ['rbf', 'poly', 'sigmoid']\n",
    "c = [0.05, 1, 10, 100]\n",
    "gamma = ['scale', 1, 0.1, 0.01, 0.001]\n",
    "\n",
    "params = {\n",
    "    'kernel': kernel,\n",
    "    'C': c,\n",
    "    'gamma': gamma,\n",
    "}\n",
    "\n",
    "svc_clf = SVC(random_state=77)\n",
    "svc_cv = RandomizedSearchCV(svc_clf,\n",
    "                      params,\n",
    "                      scoring=\"accuracy\",\n",
    "                      n_jobs=-1,\n",
    "                      verbose=1,\n",
    "                      cv=3)\n",
    "%time svc_cv.fit(X_train_trf, y_train)\n",
    "best_params = svc_cv.best_params_\n",
    "print(f\"Best paramters: {best_params})\")\n",
    "\n",
    "svc_clf = SVC(**best_params)\n",
    "svc_clf.fit(X_train_trf, y_train)\n",
    "print_score(svc_clf, X_train_trf, y_train, X_test_trf, y_test, train=True)\n",
    "print_score(svc_clf, X_train_trf, y_train, X_test_trf, y_test, train=False)"
   ]
  },
  {
   "cell_type": "markdown",
   "id": "e456473d",
   "metadata": {
    "heading_collapsed": true,
    "hidden": true
   },
   "source": [
    "##### Save score"
   ]
  },
  {
   "cell_type": "code",
   "execution_count": 54,
   "id": "d42ed401",
   "metadata": {
    "ExecuteTime": {
     "end_time": "2021-08-08T02:39:35.611241Z",
     "start_time": "2021-08-08T02:39:17.222624Z"
    },
    "hidden": true
   },
   "outputs": [],
   "source": [
    "scores['SVC'] = {\n",
    "    'Train': accuracy_score(y_train, model_svc.predict(X_train_trf)),\n",
    "    'Test': accuracy_score(y_test, model_svc.predict(X_test_trf)),\n",
    "}"
   ]
  },
  {
   "cell_type": "markdown",
   "id": "5224216d",
   "metadata": {
    "heading_collapsed": true,
    "hidden": true
   },
   "source": [
    "### 3. Model Decission Tree"
   ]
  },
  {
   "cell_type": "markdown",
   "id": "7cff8408",
   "metadata": {
    "heading_collapsed": true,
    "hidden": true
   },
   "source": [
    "##### Scoring"
   ]
  },
  {
   "cell_type": "code",
   "execution_count": 299,
   "id": "0fb90d95",
   "metadata": {
    "ExecuteTime": {
     "end_time": "2021-08-08T07:21:13.788123Z",
     "start_time": "2021-08-08T07:21:13.768438Z"
    },
    "hidden": true
   },
   "outputs": [],
   "source": [
    "y_train_pred = model_tree.predict(X_train_trf)\n",
    "y_test_pred = model_tree.predict(X_test_trf)"
   ]
  },
  {
   "cell_type": "code",
   "execution_count": 300,
   "id": "e8b24799",
   "metadata": {
    "ExecuteTime": {
     "end_time": "2021-08-08T07:21:14.664516Z",
     "start_time": "2021-08-08T07:21:14.609674Z"
    },
    "hidden": true
   },
   "outputs": [
    {
     "name": "stdout",
     "output_type": "stream",
     "text": [
      "TRAIN RESULT :\n",
      "================================================\n",
      "MSE:  0.10\n",
      "RMSE: 0.31\n",
      "r2:  0.07\n",
      "TEST RSEULT:\n",
      "================================================\n",
      "MSE:  0.10\n",
      "MAE:  0.10\n",
      "RMSE:  0.32\n",
      "r2:  0.08\n"
     ]
    }
   ],
   "source": [
    "# MSE, MAE, R2, RMSE Method One\n",
    "from sklearn.metrics import mean_squared_error, mean_absolute_error, r2_score\n",
    "\n",
    "#TRAIN\n",
    "print(\"TRAIN RESULT :\\n================================================\")\n",
    "print(f'MSE: {mean_squared_error(y_train,y_train_pred): .2f}')\n",
    "print(f'RMSE:{np.sqrt(mean_squared_error(y_train,y_train_pred)): .2f}')\n",
    "print(f'r2: {r2_score(y_train,y_train_pred): .2f}')\n",
    "#TEST\n",
    "print(\"TEST RSEULT:\\n================================================\")\n",
    "print(f'MSE: {mean_squared_error(y_test,y_test_pred): .2f}')\n",
    "print(f'MAE: {mean_absolute_error(y_test,y_test_pred): .2f}')\n",
    "print(f'RMSE: {np.sqrt(mean_squared_error(y_test,y_test_pred)): .2f}')\n",
    "print(f'r2: {r2_score(y_test,y_test_pred): .2f}')"
   ]
  },
  {
   "cell_type": "code",
   "execution_count": 301,
   "id": "d8e4200c",
   "metadata": {
    "ExecuteTime": {
     "end_time": "2021-08-08T07:21:20.379762Z",
     "start_time": "2021-08-08T07:21:20.308753Z"
    },
    "hidden": true
   },
   "outputs": [
    {
     "name": "stdout",
     "output_type": "stream",
     "text": [
      "              precision    recall  f1-score   support\n",
      "\n",
      "           0       0.93      0.96      0.94     16552\n",
      "           1       0.62      0.48      0.54      2271\n",
      "\n",
      "    accuracy                           0.90     18823\n",
      "   macro avg       0.78      0.72      0.74     18823\n",
      "weighted avg       0.89      0.90      0.90     18823\n",
      "\n",
      "              precision    recall  f1-score   support\n",
      "\n",
      "           0       0.93      0.96      0.94      7053\n",
      "           1       0.63      0.47      0.54      1015\n",
      "\n",
      "    accuracy                           0.90      8068\n",
      "   macro avg       0.78      0.71      0.74      8068\n",
      "weighted avg       0.89      0.90      0.89      8068\n",
      "\n"
     ]
    }
   ],
   "source": [
    "from sklearn.metrics import classification_report\n",
    "\n",
    "print(classification_report(y_train, y_train_pred))\n",
    "print(classification_report(y_test, y_test_pred))"
   ]
  },
  {
   "cell_type": "markdown",
   "id": "712b8214",
   "metadata": {
    "hidden": true
   },
   "source": [
    "#### Random Hyperparameter Tunning"
   ]
  },
  {
   "cell_type": "markdown",
   "id": "eeb374e8",
   "metadata": {
    "heading_collapsed": true,
    "hidden": true
   },
   "source": [
    "##### Fungsi print_score"
   ]
  },
  {
   "cell_type": "code",
   "execution_count": 133,
   "id": "f317553b",
   "metadata": {
    "ExecuteTime": {
     "end_time": "2021-08-07T22:54:17.204484Z",
     "start_time": "2021-08-07T22:54:17.172846Z"
    },
    "hidden": true
   },
   "outputs": [],
   "source": [
    "from sklearn.metrics import accuracy_score, confusion_matrix, classification_report\n",
    "\n",
    "def print_score(clf, X_train_trf, y_train, X_test_trf, y_test, train=True):\n",
    "    if train:\n",
    "        pred = clf.predict(X_train_trf)\n",
    "        clf_report = pd.DataFrame(classification_report(y_train, pred, output_dict=True))\n",
    "        print(\"TRAIN AFTER TUNING RESULT:\\n================================================\")\n",
    "        print(f\"Accuracy Score: {accuracy_score(y_train, pred) * 100:.2f}%\")\n",
    "        print(\"_______________________________________________\")\n",
    "        print(f\"CLASSIFICATION REPORT:\\n{clf_report}\")\n",
    "        print(\"_______________________________________________\")\n",
    "        print(f\"Confusion Matrix: \\n {confusion_matrix(y_train, pred)}\\n\")\n",
    "        \n",
    "    elif train==False:\n",
    "        pred = clf.predict(X_test_trf)\n",
    "        clf_report = pd.DataFrame(classification_report(y_test, pred, output_dict=True))\n",
    "        print(\"TEST AFTER TUNING RESULT:\\n================================================\")        \n",
    "        print(f\"Accuracy Score: {accuracy_score(y_test, pred) * 100:.2f}%\")\n",
    "        print(\"_______________________________________________\")\n",
    "        print(f\"CLASSIFICATION REPORT:\\n{clf_report}\")\n",
    "        print(\"_______________________________________________\")\n",
    "        print(f\"Confusion Matrix: \\n {confusion_matrix(y_test, pred)}\\n\")"
   ]
  },
  {
   "cell_type": "markdown",
   "id": "d3781ffc",
   "metadata": {
    "heading_collapsed": true,
    "hidden": true
   },
   "source": [
    "##### Tunning GridSearchCV"
   ]
  },
  {
   "cell_type": "code",
   "execution_count": 134,
   "id": "91ddef25",
   "metadata": {
    "ExecuteTime": {
     "end_time": "2021-08-07T22:56:58.223377Z",
     "start_time": "2021-08-07T22:54:31.069902Z"
    },
    "hidden": true
   },
   "outputs": [
    {
     "name": "stdout",
     "output_type": "stream",
     "text": [
      "Fitting 3 folds for each of 4332 candidates, totalling 12996 fits\n",
      "Best paramters: {'criterion': 'entropy', 'max_depth': 8, 'min_samples_leaf': 18, 'min_samples_split': 2, 'splitter': 'best'})\n",
      "TRAIN AFTER TUNING RESULT:\n",
      "================================================\n",
      "Accuracy Score: 91.55%\n",
      "_______________________________________________\n",
      "CLASSIFICATION REPORT:\n",
      "                      0            1  accuracy     macro avg  weighted avg\n",
      "precision      0.946094     0.665855  0.915529      0.805975      0.912283\n",
      "recall         0.958555     0.601937  0.915529      0.780246      0.915529\n",
      "f1-score       0.952284     0.632285  0.915529      0.792284      0.913676\n",
      "support    16552.000000  2271.000000  0.915529  18823.000000  18823.000000\n",
      "_______________________________________________\n",
      "Confusion Matrix: \n",
      " [[15866   686]\n",
      " [  904  1367]]\n",
      "\n",
      "TEST AFTER TUNING RESULT:\n",
      "================================================\n",
      "Accuracy Score: 90.38%\n",
      "_______________________________________________\n",
      "CLASSIFICATION REPORT:\n",
      "                     0            1  accuracy    macro avg  weighted avg\n",
      "precision     0.935238     0.639440  0.903818     0.787339      0.898025\n",
      "recall        0.956189     0.539901  0.903818     0.748045      0.903818\n",
      "f1-score      0.945597     0.585470  0.903818     0.765534      0.900291\n",
      "support    7053.000000  1015.000000  0.903818  8068.000000   8068.000000\n",
      "_______________________________________________\n",
      "Confusion Matrix: \n",
      " [[6744  309]\n",
      " [ 467  548]]\n",
      "\n"
     ]
    }
   ],
   "source": [
    "from sklearn.tree import DecisionTreeClassifier\n",
    "from sklearn.model_selection import GridSearchCV\n",
    "\n",
    "params = {\n",
    "    \"criterion\":(\"gini\", \"entropy\"), \n",
    "    \"splitter\":(\"best\", \"random\"), \n",
    "    \"max_depth\":(list(range(1, 20))), \n",
    "    \"min_samples_split\":[2, 3, 4], \n",
    "    \"min_samples_leaf\":list(range(1, 20)), \n",
    "}\n",
    "\n",
    "\n",
    "tree_clf = DecisionTreeClassifier(random_state=77)\n",
    "tree_cv = GridSearchCV(tree_clf, params, scoring=\"accuracy\", n_jobs=-1, verbose=1, cv=3)\n",
    "tree_cv.fit(X_train_trf, y_train)\n",
    "best_params = tree_cv.best_params_\n",
    "print(f\"Best paramters: {best_params})\")\n",
    "\n",
    "tree_clf = DecisionTreeClassifier(**best_params)\n",
    "tree_clf.fit(X_train_trf, y_train)\n",
    "print_score(tree_clf, X_train_trf, y_train, X_test_trf, y_test, train=True)\n",
    "print_score(tree_clf, X_train_trf, y_train, X_test_trf, y_test, train=False)"
   ]
  },
  {
   "cell_type": "markdown",
   "id": "1f1553da",
   "metadata": {
    "heading_collapsed": true,
    "hidden": true
   },
   "source": [
    "##### Train again"
   ]
  },
  {
   "cell_type": "code",
   "execution_count": 135,
   "id": "3c29c2f8",
   "metadata": {
    "ExecuteTime": {
     "end_time": "2021-08-07T22:57:38.545924Z",
     "start_time": "2021-08-07T22:57:38.381271Z"
    },
    "hidden": true
   },
   "outputs": [
    {
     "data": {
      "image/svg+xml": [
       "<?xml version=\"1.0\" encoding=\"UTF-8\" standalone=\"no\"?>\r\n",
       "<!DOCTYPE svg PUBLIC \"-//W3C//DTD SVG 1.1//EN\"\r\n",
       " \"http://www.w3.org/Graphics/SVG/1.1/DTD/svg11.dtd\">\r\n",
       "<!-- Generated by graphviz version 2.48.0 (20210717.1556)\r\n",
       " -->\r\n",
       "<!-- Title: Tree Pages: 1 -->\r\n",
       "<svg width=\"2194pt\" height=\"552pt\"\r\n",
       " viewBox=\"0.00 0.00 2193.50 552.00\" xmlns=\"http://www.w3.org/2000/svg\" xmlns:xlink=\"http://www.w3.org/1999/xlink\">\r\n",
       "<g id=\"graph0\" class=\"graph\" transform=\"scale(1 1) rotate(0) translate(4 548)\">\r\n",
       "<title>Tree</title>\r\n",
       "<polygon fill=\"white\" stroke=\"transparent\" points=\"-4,4 -4,-548 2189.5,-548 2189.5,4 -4,4\"/>\r\n",
       "<!-- 0 -->\r\n",
       "<g id=\"node1\" class=\"node\">\r\n",
       "<title>0</title>\r\n",
       "<path fill=\"#e99254\" stroke=\"black\" d=\"M1184.5,-544C1184.5,-544 1053.5,-544 1053.5,-544 1047.5,-544 1041.5,-538 1041.5,-532 1041.5,-532 1041.5,-473 1041.5,-473 1041.5,-467 1047.5,-461 1053.5,-461 1053.5,-461 1184.5,-461 1184.5,-461 1190.5,-461 1196.5,-467 1196.5,-473 1196.5,-473 1196.5,-532 1196.5,-532 1196.5,-538 1190.5,-544 1184.5,-544\"/>\r\n",
       "<text text-anchor=\"middle\" x=\"1119\" y=\"-528.8\" font-family=\"Helvetica,sans-Serif\" font-size=\"14.00\">duration &lt;= 1.006</text>\r\n",
       "<text text-anchor=\"middle\" x=\"1119\" y=\"-513.8\" font-family=\"Helvetica,sans-Serif\" font-size=\"14.00\">gini = 0.212</text>\r\n",
       "<text text-anchor=\"middle\" x=\"1119\" y=\"-498.8\" font-family=\"Helvetica,sans-Serif\" font-size=\"14.00\">samples = 18823</text>\r\n",
       "<text text-anchor=\"middle\" x=\"1119\" y=\"-483.8\" font-family=\"Helvetica,sans-Serif\" font-size=\"14.00\">value = [16552, 2271]</text>\r\n",
       "<text text-anchor=\"middle\" x=\"1119\" y=\"-468.8\" font-family=\"Helvetica,sans-Serif\" font-size=\"14.00\">class = no</text>\r\n",
       "</g>\r\n",
       "<!-- 1 -->\r\n",
       "<g id=\"node2\" class=\"node\">\r\n",
       "<title>1</title>\r\n",
       "<path fill=\"#e78c4a\" stroke=\"black\" d=\"M911.5,-425C911.5,-425 780.5,-425 780.5,-425 774.5,-425 768.5,-419 768.5,-413 768.5,-413 768.5,-354 768.5,-354 768.5,-348 774.5,-342 780.5,-342 780.5,-342 911.5,-342 911.5,-342 917.5,-342 923.5,-348 923.5,-354 923.5,-354 923.5,-413 923.5,-413 923.5,-419 917.5,-425 911.5,-425\"/>\r\n",
       "<text text-anchor=\"middle\" x=\"846\" y=\"-409.8\" font-family=\"Helvetica,sans-Serif\" font-size=\"14.00\">poutcome &lt;= 1.527</text>\r\n",
       "<text text-anchor=\"middle\" x=\"846\" y=\"-394.8\" font-family=\"Helvetica,sans-Serif\" font-size=\"14.00\">gini = 0.146</text>\r\n",
       "<text text-anchor=\"middle\" x=\"846\" y=\"-379.8\" font-family=\"Helvetica,sans-Serif\" font-size=\"14.00\">samples = 16770</text>\r\n",
       "<text text-anchor=\"middle\" x=\"846\" y=\"-364.8\" font-family=\"Helvetica,sans-Serif\" font-size=\"14.00\">value = [15441, 1329]</text>\r\n",
       "<text text-anchor=\"middle\" x=\"846\" y=\"-349.8\" font-family=\"Helvetica,sans-Serif\" font-size=\"14.00\">class = no</text>\r\n",
       "</g>\r\n",
       "<!-- 0&#45;&gt;1 -->\r\n",
       "<g id=\"edge1\" class=\"edge\">\r\n",
       "<title>0&#45;&gt;1</title>\r\n",
       "<path fill=\"none\" stroke=\"black\" d=\"M1041.5,-468.29C1007.64,-453.77 967.78,-436.69 932.91,-421.75\"/>\r\n",
       "<polygon fill=\"black\" stroke=\"black\" points=\"934.26,-418.52 923.69,-417.8 931.51,-424.95 934.26,-418.52\"/>\r\n",
       "<text text-anchor=\"middle\" x=\"932.98\" y=\"-437.31\" font-family=\"Helvetica,sans-Serif\" font-size=\"14.00\">True</text>\r\n",
       "</g>\r\n",
       "<!-- 16 -->\r\n",
       "<g id=\"node17\" class=\"node\">\r\n",
       "<title>16</title>\r\n",
       "<path fill=\"#fbece1\" stroke=\"black\" d=\"M1463,-425C1463,-425 1349,-425 1349,-425 1343,-425 1337,-419 1337,-413 1337,-413 1337,-354 1337,-354 1337,-348 1343,-342 1349,-342 1349,-342 1463,-342 1463,-342 1469,-342 1475,-348 1475,-354 1475,-354 1475,-413 1475,-413 1475,-419 1469,-425 1463,-425\"/>\r\n",
       "<text text-anchor=\"middle\" x=\"1406\" y=\"-409.8\" font-family=\"Helvetica,sans-Serif\" font-size=\"14.00\">duration &lt;= 2.047</text>\r\n",
       "<text text-anchor=\"middle\" x=\"1406\" y=\"-394.8\" font-family=\"Helvetica,sans-Serif\" font-size=\"14.00\">gini = 0.497</text>\r\n",
       "<text text-anchor=\"middle\" x=\"1406\" y=\"-379.8\" font-family=\"Helvetica,sans-Serif\" font-size=\"14.00\">samples = 2053</text>\r\n",
       "<text text-anchor=\"middle\" x=\"1406\" y=\"-364.8\" font-family=\"Helvetica,sans-Serif\" font-size=\"14.00\">value = [1111, 942]</text>\r\n",
       "<text text-anchor=\"middle\" x=\"1406\" y=\"-349.8\" font-family=\"Helvetica,sans-Serif\" font-size=\"14.00\">class = no</text>\r\n",
       "</g>\r\n",
       "<!-- 0&#45;&gt;16 -->\r\n",
       "<g id=\"edge16\" class=\"edge\">\r\n",
       "<title>0&#45;&gt;16</title>\r\n",
       "<path fill=\"none\" stroke=\"black\" d=\"M1196.67,-469.84C1237.17,-453.33 1286.61,-433.17 1327.27,-416.6\"/>\r\n",
       "<polygon fill=\"black\" stroke=\"black\" points=\"1328.67,-419.81 1336.6,-412.79 1326.02,-413.32 1328.67,-419.81\"/>\r\n",
       "<text text-anchor=\"middle\" x=\"1326.91\" y=\"-432.13\" font-family=\"Helvetica,sans-Serif\" font-size=\"14.00\">False</text>\r\n",
       "</g>\r\n",
       "<!-- 2 -->\r\n",
       "<g id=\"node3\" class=\"node\">\r\n",
       "<title>2</title>\r\n",
       "<path fill=\"#e78945\" stroke=\"black\" d=\"M521.5,-306C521.5,-306 384.5,-306 384.5,-306 378.5,-306 372.5,-300 372.5,-294 372.5,-294 372.5,-235 372.5,-235 372.5,-229 378.5,-223 384.5,-223 384.5,-223 521.5,-223 521.5,-223 527.5,-223 533.5,-229 533.5,-235 533.5,-235 533.5,-294 533.5,-294 533.5,-300 527.5,-306 521.5,-306\"/>\r\n",
       "<text text-anchor=\"middle\" x=\"453\" y=\"-290.8\" font-family=\"Helvetica,sans-Serif\" font-size=\"14.00\">cons.conf.idx &lt;= 1.035</text>\r\n",
       "<text text-anchor=\"middle\" x=\"453\" y=\"-275.8\" font-family=\"Helvetica,sans-Serif\" font-size=\"14.00\">gini = 0.112</text>\r\n",
       "<text text-anchor=\"middle\" x=\"453\" y=\"-260.8\" font-family=\"Helvetica,sans-Serif\" font-size=\"14.00\">samples = 16166</text>\r\n",
       "<text text-anchor=\"middle\" x=\"453\" y=\"-245.8\" font-family=\"Helvetica,sans-Serif\" font-size=\"14.00\">value = [15207, 959]</text>\r\n",
       "<text text-anchor=\"middle\" x=\"453\" y=\"-230.8\" font-family=\"Helvetica,sans-Serif\" font-size=\"14.00\">class = no</text>\r\n",
       "</g>\r\n",
       "<!-- 1&#45;&gt;2 -->\r\n",
       "<g id=\"edge2\" class=\"edge\">\r\n",
       "<title>1&#45;&gt;2</title>\r\n",
       "<path fill=\"none\" stroke=\"black\" d=\"M768.36,-359.38C703.65,-340.12 611.39,-312.65 543.37,-292.41\"/>\r\n",
       "<polygon fill=\"black\" stroke=\"black\" points=\"544.1,-288.97 533.52,-289.47 542.11,-295.68 544.1,-288.97\"/>\r\n",
       "</g>\r\n",
       "<!-- 9 -->\r\n",
       "<g id=\"node10\" class=\"node\">\r\n",
       "<title>9</title>\r\n",
       "<path fill=\"#b6dbf5\" stroke=\"black\" d=\"M900,-306C900,-306 792,-306 792,-306 786,-306 780,-300 780,-294 780,-294 780,-235 780,-235 780,-229 786,-223 792,-223 792,-223 900,-223 900,-223 906,-223 912,-229 912,-235 912,-235 912,-294 912,-294 912,-300 906,-306 900,-306\"/>\r\n",
       "<text text-anchor=\"middle\" x=\"846\" y=\"-290.8\" font-family=\"Helvetica,sans-Serif\" font-size=\"14.00\">duration &lt;= &#45;0.415</text>\r\n",
       "<text text-anchor=\"middle\" x=\"846\" y=\"-275.8\" font-family=\"Helvetica,sans-Serif\" font-size=\"14.00\">gini = 0.475</text>\r\n",
       "<text text-anchor=\"middle\" x=\"846\" y=\"-260.8\" font-family=\"Helvetica,sans-Serif\" font-size=\"14.00\">samples = 604</text>\r\n",
       "<text text-anchor=\"middle\" x=\"846\" y=\"-245.8\" font-family=\"Helvetica,sans-Serif\" font-size=\"14.00\">value = [234, 370]</text>\r\n",
       "<text text-anchor=\"middle\" x=\"846\" y=\"-230.8\" font-family=\"Helvetica,sans-Serif\" font-size=\"14.00\">class = no</text>\r\n",
       "</g>\r\n",
       "<!-- 1&#45;&gt;9 -->\r\n",
       "<g id=\"edge9\" class=\"edge\">\r\n",
       "<title>1&#45;&gt;9</title>\r\n",
       "<path fill=\"none\" stroke=\"black\" d=\"M846,-341.91C846,-333.65 846,-324.86 846,-316.3\"/>\r\n",
       "<polygon fill=\"black\" stroke=\"black\" points=\"849.5,-316.02 846,-306.02 842.5,-316.02 849.5,-316.02\"/>\r\n",
       "</g>\r\n",
       "<!-- 3 -->\r\n",
       "<g id=\"node4\" class=\"node\">\r\n",
       "<title>3</title>\r\n",
       "<path fill=\"#e68742\" stroke=\"black\" d=\"M292,-187C292,-187 150,-187 150,-187 144,-187 138,-181 138,-175 138,-175 138,-116 138,-116 138,-110 144,-104 150,-104 150,-104 292,-104 292,-104 298,-104 304,-110 304,-116 304,-116 304,-175 304,-175 304,-181 298,-187 292,-187\"/>\r\n",
       "<text text-anchor=\"middle\" x=\"221\" y=\"-171.8\" font-family=\"Helvetica,sans-Serif\" font-size=\"14.00\">cons.conf.idx &lt;= &#45;1.345</text>\r\n",
       "<text text-anchor=\"middle\" x=\"221\" y=\"-156.8\" font-family=\"Helvetica,sans-Serif\" font-size=\"14.00\">gini = 0.081</text>\r\n",
       "<text text-anchor=\"middle\" x=\"221\" y=\"-141.8\" font-family=\"Helvetica,sans-Serif\" font-size=\"14.00\">samples = 15193</text>\r\n",
       "<text text-anchor=\"middle\" x=\"221\" y=\"-126.8\" font-family=\"Helvetica,sans-Serif\" font-size=\"14.00\">value = [14548, 645]</text>\r\n",
       "<text text-anchor=\"middle\" x=\"221\" y=\"-111.8\" font-family=\"Helvetica,sans-Serif\" font-size=\"14.00\">class = no</text>\r\n",
       "</g>\r\n",
       "<!-- 2&#45;&gt;3 -->\r\n",
       "<g id=\"edge3\" class=\"edge\">\r\n",
       "<title>2&#45;&gt;3</title>\r\n",
       "<path fill=\"none\" stroke=\"black\" d=\"M372.51,-222.91C352.44,-212.79 330.81,-201.88 310.35,-191.56\"/>\r\n",
       "<polygon fill=\"black\" stroke=\"black\" points=\"311.85,-188.4 301.35,-187.02 308.7,-194.65 311.85,-188.4\"/>\r\n",
       "</g>\r\n",
       "<!-- 6 -->\r\n",
       "<g id=\"node7\" class=\"node\">\r\n",
       "<title>6</title>\r\n",
       "<path fill=\"#f1bd97\" stroke=\"black\" d=\"M507,-187C507,-187 399,-187 399,-187 393,-187 387,-181 387,-175 387,-175 387,-116 387,-116 387,-110 393,-104 399,-104 399,-104 507,-104 507,-104 513,-104 519,-110 519,-116 519,-116 519,-175 519,-175 519,-181 513,-187 507,-187\"/>\r\n",
       "<text text-anchor=\"middle\" x=\"453\" y=\"-171.8\" font-family=\"Helvetica,sans-Serif\" font-size=\"14.00\">duration &lt;= &#45;0.213</text>\r\n",
       "<text text-anchor=\"middle\" x=\"453\" y=\"-156.8\" font-family=\"Helvetica,sans-Serif\" font-size=\"14.00\">gini = 0.437</text>\r\n",
       "<text text-anchor=\"middle\" x=\"453\" y=\"-141.8\" font-family=\"Helvetica,sans-Serif\" font-size=\"14.00\">samples = 973</text>\r\n",
       "<text text-anchor=\"middle\" x=\"453\" y=\"-126.8\" font-family=\"Helvetica,sans-Serif\" font-size=\"14.00\">value = [659, 314]</text>\r\n",
       "<text text-anchor=\"middle\" x=\"453\" y=\"-111.8\" font-family=\"Helvetica,sans-Serif\" font-size=\"14.00\">class = no</text>\r\n",
       "</g>\r\n",
       "<!-- 2&#45;&gt;6 -->\r\n",
       "<g id=\"edge6\" class=\"edge\">\r\n",
       "<title>2&#45;&gt;6</title>\r\n",
       "<path fill=\"none\" stroke=\"black\" d=\"M453,-222.91C453,-214.65 453,-205.86 453,-197.3\"/>\r\n",
       "<polygon fill=\"black\" stroke=\"black\" points=\"456.5,-197.02 453,-187.02 449.5,-197.02 456.5,-197.02\"/>\r\n",
       "</g>\r\n",
       "<!-- 4 -->\r\n",
       "<g id=\"node5\" class=\"node\">\r\n",
       "<title>4</title>\r\n",
       "<path fill=\"#eb9f69\" stroke=\"black\" d=\"M118,-68C118,-68 12,-68 12,-68 6,-68 0,-62 0,-56 0,-56 0,-12 0,-12 0,-6 6,0 12,0 12,0 118,0 118,0 124,0 130,-6 130,-12 130,-12 130,-56 130,-56 130,-62 124,-68 118,-68\"/>\r\n",
       "<text text-anchor=\"middle\" x=\"65\" y=\"-52.8\" font-family=\"Helvetica,sans-Serif\" font-size=\"14.00\">gini = 0.313</text>\r\n",
       "<text text-anchor=\"middle\" x=\"65\" y=\"-37.8\" font-family=\"Helvetica,sans-Serif\" font-size=\"14.00\">samples = 1190</text>\r\n",
       "<text text-anchor=\"middle\" x=\"65\" y=\"-22.8\" font-family=\"Helvetica,sans-Serif\" font-size=\"14.00\">value = [959, 231]</text>\r\n",
       "<text text-anchor=\"middle\" x=\"65\" y=\"-7.8\" font-family=\"Helvetica,sans-Serif\" font-size=\"14.00\">class = no</text>\r\n",
       "</g>\r\n",
       "<!-- 3&#45;&gt;4 -->\r\n",
       "<g id=\"edge4\" class=\"edge\">\r\n",
       "<title>3&#45;&gt;4</title>\r\n",
       "<path fill=\"none\" stroke=\"black\" d=\"M162.91,-103.73C149.14,-94.06 134.48,-83.77 120.81,-74.17\"/>\r\n",
       "<polygon fill=\"black\" stroke=\"black\" points=\"122.64,-71.18 112.44,-68.3 118.61,-76.91 122.64,-71.18\"/>\r\n",
       "</g>\r\n",
       "<!-- 5 -->\r\n",
       "<g id=\"node6\" class=\"node\">\r\n",
       "<title>5</title>\r\n",
       "<path fill=\"#e6853f\" stroke=\"black\" d=\"M282,-68C282,-68 160,-68 160,-68 154,-68 148,-62 148,-56 148,-56 148,-12 148,-12 148,-6 154,0 160,0 160,0 282,0 282,0 288,0 294,-6 294,-12 294,-12 294,-56 294,-56 294,-62 288,-68 282,-68\"/>\r\n",
       "<text text-anchor=\"middle\" x=\"221\" y=\"-52.8\" font-family=\"Helvetica,sans-Serif\" font-size=\"14.00\">gini = 0.057</text>\r\n",
       "<text text-anchor=\"middle\" x=\"221\" y=\"-37.8\" font-family=\"Helvetica,sans-Serif\" font-size=\"14.00\">samples = 14003</text>\r\n",
       "<text text-anchor=\"middle\" x=\"221\" y=\"-22.8\" font-family=\"Helvetica,sans-Serif\" font-size=\"14.00\">value = [13589, 414]</text>\r\n",
       "<text text-anchor=\"middle\" x=\"221\" y=\"-7.8\" font-family=\"Helvetica,sans-Serif\" font-size=\"14.00\">class = no</text>\r\n",
       "</g>\r\n",
       "<!-- 3&#45;&gt;5 -->\r\n",
       "<g id=\"edge5\" class=\"edge\">\r\n",
       "<title>3&#45;&gt;5</title>\r\n",
       "<path fill=\"none\" stroke=\"black\" d=\"M221,-103.73C221,-95.52 221,-86.86 221,-78.56\"/>\r\n",
       "<polygon fill=\"black\" stroke=\"black\" points=\"224.5,-78.3 221,-68.3 217.5,-78.3 224.5,-78.3\"/>\r\n",
       "</g>\r\n",
       "<!-- 7 -->\r\n",
       "<g id=\"node8\" class=\"node\">\r\n",
       "<title>7</title>\r\n",
       "<path fill=\"#ea9a60\" stroke=\"black\" d=\"M422,-68C422,-68 324,-68 324,-68 318,-68 312,-62 312,-56 312,-56 312,-12 312,-12 312,-6 318,0 324,0 324,0 422,0 422,0 428,0 434,-6 434,-12 434,-12 434,-56 434,-56 434,-62 428,-68 422,-68\"/>\r\n",
       "<text text-anchor=\"middle\" x=\"373\" y=\"-52.8\" font-family=\"Helvetica,sans-Serif\" font-size=\"14.00\">gini = 0.276</text>\r\n",
       "<text text-anchor=\"middle\" x=\"373\" y=\"-37.8\" font-family=\"Helvetica,sans-Serif\" font-size=\"14.00\">samples = 551</text>\r\n",
       "<text text-anchor=\"middle\" x=\"373\" y=\"-22.8\" font-family=\"Helvetica,sans-Serif\" font-size=\"14.00\">value = [460, 91]</text>\r\n",
       "<text text-anchor=\"middle\" x=\"373\" y=\"-7.8\" font-family=\"Helvetica,sans-Serif\" font-size=\"14.00\">class = no</text>\r\n",
       "</g>\r\n",
       "<!-- 6&#45;&gt;7 -->\r\n",
       "<g id=\"edge7\" class=\"edge\">\r\n",
       "<title>6&#45;&gt;7</title>\r\n",
       "<path fill=\"none\" stroke=\"black\" d=\"M423.21,-103.73C416.75,-94.88 409.9,-85.51 403.41,-76.63\"/>\r\n",
       "<polygon fill=\"black\" stroke=\"black\" points=\"406.05,-74.31 397.33,-68.3 400.4,-78.44 406.05,-74.31\"/>\r\n",
       "</g>\r\n",
       "<!-- 8 -->\r\n",
       "<g id=\"node9\" class=\"node\">\r\n",
       "<title>8</title>\r\n",
       "<path fill=\"#eaf4fc\" stroke=\"black\" d=\"M570,-68C570,-68 464,-68 464,-68 458,-68 452,-62 452,-56 452,-56 452,-12 452,-12 452,-6 458,0 464,0 464,0 570,0 570,0 576,0 582,-6 582,-12 582,-12 582,-56 582,-56 582,-62 576,-68 570,-68\"/>\r\n",
       "<text text-anchor=\"middle\" x=\"517\" y=\"-52.8\" font-family=\"Helvetica,sans-Serif\" font-size=\"14.00\">gini = 0.498</text>\r\n",
       "<text text-anchor=\"middle\" x=\"517\" y=\"-37.8\" font-family=\"Helvetica,sans-Serif\" font-size=\"14.00\">samples = 422</text>\r\n",
       "<text text-anchor=\"middle\" x=\"517\" y=\"-22.8\" font-family=\"Helvetica,sans-Serif\" font-size=\"14.00\">value = [199, 223]</text>\r\n",
       "<text text-anchor=\"middle\" x=\"517\" y=\"-7.8\" font-family=\"Helvetica,sans-Serif\" font-size=\"14.00\">class = no</text>\r\n",
       "</g>\r\n",
       "<!-- 6&#45;&gt;8 -->\r\n",
       "<g id=\"edge8\" class=\"edge\">\r\n",
       "<title>6&#45;&gt;8</title>\r\n",
       "<path fill=\"none\" stroke=\"black\" d=\"M476.83,-103.73C481.9,-95.06 487.25,-85.9 492.35,-77.18\"/>\r\n",
       "<polygon fill=\"black\" stroke=\"black\" points=\"495.51,-78.7 497.54,-68.3 489.47,-75.17 495.51,-78.7\"/>\r\n",
       "</g>\r\n",
       "<!-- 10 -->\r\n",
       "<g id=\"node11\" class=\"node\">\r\n",
       "<title>10</title>\r\n",
       "<path fill=\"#eda775\" stroke=\"black\" d=\"M823.5,-187C823.5,-187 686.5,-187 686.5,-187 680.5,-187 674.5,-181 674.5,-175 674.5,-175 674.5,-116 674.5,-116 674.5,-110 680.5,-104 686.5,-104 686.5,-104 823.5,-104 823.5,-104 829.5,-104 835.5,-110 835.5,-116 835.5,-116 835.5,-175 835.5,-175 835.5,-181 829.5,-187 823.5,-187\"/>\r\n",
       "<text text-anchor=\"middle\" x=\"755\" y=\"-171.8\" font-family=\"Helvetica,sans-Serif\" font-size=\"14.00\">cons.conf.idx &lt;= 0.886</text>\r\n",
       "<text text-anchor=\"middle\" x=\"755\" y=\"-156.8\" font-family=\"Helvetica,sans-Serif\" font-size=\"14.00\">gini = 0.357</text>\r\n",
       "<text text-anchor=\"middle\" x=\"755\" y=\"-141.8\" font-family=\"Helvetica,sans-Serif\" font-size=\"14.00\">samples = 146</text>\r\n",
       "<text text-anchor=\"middle\" x=\"755\" y=\"-126.8\" font-family=\"Helvetica,sans-Serif\" font-size=\"14.00\">value = [112, 34]</text>\r\n",
       "<text text-anchor=\"middle\" x=\"755\" y=\"-111.8\" font-family=\"Helvetica,sans-Serif\" font-size=\"14.00\">class = no</text>\r\n",
       "</g>\r\n",
       "<!-- 9&#45;&gt;10 -->\r\n",
       "<g id=\"edge10\" class=\"edge\">\r\n",
       "<title>9&#45;&gt;10</title>\r\n",
       "<path fill=\"none\" stroke=\"black\" d=\"M814.43,-222.91C807.44,-213.92 799.97,-204.32 792.76,-195.05\"/>\r\n",
       "<polygon fill=\"black\" stroke=\"black\" points=\"795.42,-192.77 786.52,-187.02 789.89,-197.06 795.42,-192.77\"/>\r\n",
       "</g>\r\n",
       "<!-- 13 -->\r\n",
       "<g id=\"node14\" class=\"node\">\r\n",
       "<title>13</title>\r\n",
       "<path fill=\"#81c1ee\" stroke=\"black\" d=\"M1008,-187C1008,-187 866,-187 866,-187 860,-187 854,-181 854,-175 854,-175 854,-116 854,-116 854,-110 860,-104 866,-104 866,-104 1008,-104 1008,-104 1014,-104 1020,-110 1020,-116 1020,-116 1020,-175 1020,-175 1020,-181 1014,-187 1008,-187\"/>\r\n",
       "<text text-anchor=\"middle\" x=\"937\" y=\"-171.8\" font-family=\"Helvetica,sans-Serif\" font-size=\"14.00\">cons.conf.idx &lt;= &#45;0.049</text>\r\n",
       "<text text-anchor=\"middle\" x=\"937\" y=\"-156.8\" font-family=\"Helvetica,sans-Serif\" font-size=\"14.00\">gini = 0.391</text>\r\n",
       "<text text-anchor=\"middle\" x=\"937\" y=\"-141.8\" font-family=\"Helvetica,sans-Serif\" font-size=\"14.00\">samples = 458</text>\r\n",
       "<text text-anchor=\"middle\" x=\"937\" y=\"-126.8\" font-family=\"Helvetica,sans-Serif\" font-size=\"14.00\">value = [122, 336]</text>\r\n",
       "<text text-anchor=\"middle\" x=\"937\" y=\"-111.8\" font-family=\"Helvetica,sans-Serif\" font-size=\"14.00\">class = no</text>\r\n",
       "</g>\r\n",
       "<!-- 9&#45;&gt;13 -->\r\n",
       "<g id=\"edge13\" class=\"edge\">\r\n",
       "<title>9&#45;&gt;13</title>\r\n",
       "<path fill=\"none\" stroke=\"black\" d=\"M877.57,-222.91C884.56,-213.92 892.03,-204.32 899.24,-195.05\"/>\r\n",
       "<polygon fill=\"black\" stroke=\"black\" points=\"902.11,-197.06 905.48,-187.02 896.58,-192.77 902.11,-197.06\"/>\r\n",
       "</g>\r\n",
       "<!-- 11 -->\r\n",
       "<g id=\"node12\" class=\"node\">\r\n",
       "<title>11</title>\r\n",
       "<path fill=\"#e78a47\" stroke=\"black\" d=\"M693.5,-68C693.5,-68 612.5,-68 612.5,-68 606.5,-68 600.5,-62 600.5,-56 600.5,-56 600.5,-12 600.5,-12 600.5,-6 606.5,0 612.5,0 612.5,0 693.5,0 693.5,0 699.5,0 705.5,-6 705.5,-12 705.5,-12 705.5,-56 705.5,-56 705.5,-62 699.5,-68 693.5,-68\"/>\r\n",
       "<text text-anchor=\"middle\" x=\"653\" y=\"-52.8\" font-family=\"Helvetica,sans-Serif\" font-size=\"14.00\">gini = 0.126</text>\r\n",
       "<text text-anchor=\"middle\" x=\"653\" y=\"-37.8\" font-family=\"Helvetica,sans-Serif\" font-size=\"14.00\">samples = 74</text>\r\n",
       "<text text-anchor=\"middle\" x=\"653\" y=\"-22.8\" font-family=\"Helvetica,sans-Serif\" font-size=\"14.00\">value = [69, 5]</text>\r\n",
       "<text text-anchor=\"middle\" x=\"653\" y=\"-7.8\" font-family=\"Helvetica,sans-Serif\" font-size=\"14.00\">class = no</text>\r\n",
       "</g>\r\n",
       "<!-- 10&#45;&gt;11 -->\r\n",
       "<g id=\"edge11\" class=\"edge\">\r\n",
       "<title>10&#45;&gt;11</title>\r\n",
       "<path fill=\"none\" stroke=\"black\" d=\"M717.02,-103.73C708.52,-94.61 699.51,-84.93 691.01,-75.81\"/>\r\n",
       "<polygon fill=\"black\" stroke=\"black\" points=\"693.4,-73.23 684.02,-68.3 688.27,-78 693.4,-73.23\"/>\r\n",
       "</g>\r\n",
       "<!-- 12 -->\r\n",
       "<g id=\"node13\" class=\"node\">\r\n",
       "<title>12</title>\r\n",
       "<path fill=\"#f7d6bf\" stroke=\"black\" d=\"M824.5,-68C824.5,-68 735.5,-68 735.5,-68 729.5,-68 723.5,-62 723.5,-56 723.5,-56 723.5,-12 723.5,-12 723.5,-6 729.5,0 735.5,0 735.5,0 824.5,0 824.5,0 830.5,0 836.5,-6 836.5,-12 836.5,-12 836.5,-56 836.5,-56 836.5,-62 830.5,-68 824.5,-68\"/>\r\n",
       "<text text-anchor=\"middle\" x=\"780\" y=\"-52.8\" font-family=\"Helvetica,sans-Serif\" font-size=\"14.00\">gini = 0.481</text>\r\n",
       "<text text-anchor=\"middle\" x=\"780\" y=\"-37.8\" font-family=\"Helvetica,sans-Serif\" font-size=\"14.00\">samples = 72</text>\r\n",
       "<text text-anchor=\"middle\" x=\"780\" y=\"-22.8\" font-family=\"Helvetica,sans-Serif\" font-size=\"14.00\">value = [43, 29]</text>\r\n",
       "<text text-anchor=\"middle\" x=\"780\" y=\"-7.8\" font-family=\"Helvetica,sans-Serif\" font-size=\"14.00\">class = no</text>\r\n",
       "</g>\r\n",
       "<!-- 10&#45;&gt;12 -->\r\n",
       "<g id=\"edge12\" class=\"edge\">\r\n",
       "<title>10&#45;&gt;12</title>\r\n",
       "<path fill=\"none\" stroke=\"black\" d=\"M764.31,-103.73C766.2,-95.43 768.2,-86.67 770.12,-78.28\"/>\r\n",
       "<polygon fill=\"black\" stroke=\"black\" points=\"773.58,-78.83 772.4,-68.3 766.76,-77.27 773.58,-78.83\"/>\r\n",
       "</g>\r\n",
       "<!-- 14 -->\r\n",
       "<g id=\"node15\" class=\"node\">\r\n",
       "<title>14</title>\r\n",
       "<path fill=\"#c1e1f7\" stroke=\"black\" d=\"M955.5,-68C955.5,-68 866.5,-68 866.5,-68 860.5,-68 854.5,-62 854.5,-56 854.5,-56 854.5,-12 854.5,-12 854.5,-6 860.5,0 866.5,0 866.5,0 955.5,0 955.5,0 961.5,0 967.5,-6 967.5,-12 967.5,-12 967.5,-56 967.5,-56 967.5,-62 961.5,-68 955.5,-68\"/>\r\n",
       "<text text-anchor=\"middle\" x=\"911\" y=\"-52.8\" font-family=\"Helvetica,sans-Serif\" font-size=\"14.00\">gini = 0.483</text>\r\n",
       "<text text-anchor=\"middle\" x=\"911\" y=\"-37.8\" font-family=\"Helvetica,sans-Serif\" font-size=\"14.00\">samples = 125</text>\r\n",
       "<text text-anchor=\"middle\" x=\"911\" y=\"-22.8\" font-family=\"Helvetica,sans-Serif\" font-size=\"14.00\">value = [51, 74]</text>\r\n",
       "<text text-anchor=\"middle\" x=\"911\" y=\"-7.8\" font-family=\"Helvetica,sans-Serif\" font-size=\"14.00\">class = no</text>\r\n",
       "</g>\r\n",
       "<!-- 13&#45;&gt;14 -->\r\n",
       "<g id=\"edge14\" class=\"edge\">\r\n",
       "<title>13&#45;&gt;14</title>\r\n",
       "<path fill=\"none\" stroke=\"black\" d=\"M927.32,-103.73C925.35,-95.43 923.27,-86.67 921.28,-78.28\"/>\r\n",
       "<polygon fill=\"black\" stroke=\"black\" points=\"924.62,-77.22 918.91,-68.3 917.81,-78.84 924.62,-77.22\"/>\r\n",
       "</g>\r\n",
       "<!-- 15 -->\r\n",
       "<g id=\"node16\" class=\"node\">\r\n",
       "<title>15</title>\r\n",
       "<path fill=\"#6fb8ec\" stroke=\"black\" d=\"M1096,-68C1096,-68 998,-68 998,-68 992,-68 986,-62 986,-56 986,-56 986,-12 986,-12 986,-6 992,0 998,0 998,0 1096,0 1096,0 1102,0 1108,-6 1108,-12 1108,-12 1108,-56 1108,-56 1108,-62 1102,-68 1096,-68\"/>\r\n",
       "<text text-anchor=\"middle\" x=\"1047\" y=\"-52.8\" font-family=\"Helvetica,sans-Serif\" font-size=\"14.00\">gini = 0.336</text>\r\n",
       "<text text-anchor=\"middle\" x=\"1047\" y=\"-37.8\" font-family=\"Helvetica,sans-Serif\" font-size=\"14.00\">samples = 333</text>\r\n",
       "<text text-anchor=\"middle\" x=\"1047\" y=\"-22.8\" font-family=\"Helvetica,sans-Serif\" font-size=\"14.00\">value = [71, 262]</text>\r\n",
       "<text text-anchor=\"middle\" x=\"1047\" y=\"-7.8\" font-family=\"Helvetica,sans-Serif\" font-size=\"14.00\">class = no</text>\r\n",
       "</g>\r\n",
       "<!-- 13&#45;&gt;15 -->\r\n",
       "<g id=\"edge15\" class=\"edge\">\r\n",
       "<title>13&#45;&gt;15</title>\r\n",
       "<path fill=\"none\" stroke=\"black\" d=\"M977.96,-103.73C987.21,-94.51 997.04,-84.74 1006.28,-75.53\"/>\r\n",
       "<polygon fill=\"black\" stroke=\"black\" points=\"1008.93,-77.84 1013.55,-68.3 1003.99,-72.87 1008.93,-77.84\"/>\r\n",
       "</g>\r\n",
       "<!-- 17 -->\r\n",
       "<g id=\"node18\" class=\"node\">\r\n",
       "<title>17</title>\r\n",
       "<path fill=\"#f4ccaf\" stroke=\"black\" d=\"M1464.5,-306C1464.5,-306 1347.5,-306 1347.5,-306 1341.5,-306 1335.5,-300 1335.5,-294 1335.5,-294 1335.5,-235 1335.5,-235 1335.5,-229 1341.5,-223 1347.5,-223 1347.5,-223 1464.5,-223 1464.5,-223 1470.5,-223 1476.5,-229 1476.5,-235 1476.5,-235 1476.5,-294 1476.5,-294 1476.5,-300 1470.5,-306 1464.5,-306\"/>\r\n",
       "<text text-anchor=\"middle\" x=\"1406\" y=\"-290.8\" font-family=\"Helvetica,sans-Serif\" font-size=\"14.00\">poutcome &lt;= 1.527</text>\r\n",
       "<text text-anchor=\"middle\" x=\"1406\" y=\"-275.8\" font-family=\"Helvetica,sans-Serif\" font-size=\"14.00\">gini = 0.468</text>\r\n",
       "<text text-anchor=\"middle\" x=\"1406\" y=\"-260.8\" font-family=\"Helvetica,sans-Serif\" font-size=\"14.00\">samples = 1239</text>\r\n",
       "<text text-anchor=\"middle\" x=\"1406\" y=\"-245.8\" font-family=\"Helvetica,sans-Serif\" font-size=\"14.00\">value = [777, 462]</text>\r\n",
       "<text text-anchor=\"middle\" x=\"1406\" y=\"-230.8\" font-family=\"Helvetica,sans-Serif\" font-size=\"14.00\">class = no</text>\r\n",
       "</g>\r\n",
       "<!-- 16&#45;&gt;17 -->\r\n",
       "<g id=\"edge17\" class=\"edge\">\r\n",
       "<title>16&#45;&gt;17</title>\r\n",
       "<path fill=\"none\" stroke=\"black\" d=\"M1406,-341.91C1406,-333.65 1406,-324.86 1406,-316.3\"/>\r\n",
       "<polygon fill=\"black\" stroke=\"black\" points=\"1409.5,-316.02 1406,-306.02 1402.5,-316.02 1409.5,-316.02\"/>\r\n",
       "</g>\r\n",
       "<!-- 24 -->\r\n",
       "<g id=\"node25\" class=\"node\">\r\n",
       "<title>24</title>\r\n",
       "<path fill=\"#c3e1f7\" stroke=\"black\" d=\"M1847.5,-306C1847.5,-306 1740.5,-306 1740.5,-306 1734.5,-306 1728.5,-300 1728.5,-294 1728.5,-294 1728.5,-235 1728.5,-235 1728.5,-229 1734.5,-223 1740.5,-223 1740.5,-223 1847.5,-223 1847.5,-223 1853.5,-223 1859.5,-229 1859.5,-235 1859.5,-235 1859.5,-294 1859.5,-294 1859.5,-300 1853.5,-306 1847.5,-306\"/>\r\n",
       "<text text-anchor=\"middle\" x=\"1794\" y=\"-290.8\" font-family=\"Helvetica,sans-Serif\" font-size=\"14.00\">previous &lt;= 2.559</text>\r\n",
       "<text text-anchor=\"middle\" x=\"1794\" y=\"-275.8\" font-family=\"Helvetica,sans-Serif\" font-size=\"14.00\">gini = 0.484</text>\r\n",
       "<text text-anchor=\"middle\" x=\"1794\" y=\"-260.8\" font-family=\"Helvetica,sans-Serif\" font-size=\"14.00\">samples = 814</text>\r\n",
       "<text text-anchor=\"middle\" x=\"1794\" y=\"-245.8\" font-family=\"Helvetica,sans-Serif\" font-size=\"14.00\">value = [334, 480]</text>\r\n",
       "<text text-anchor=\"middle\" x=\"1794\" y=\"-230.8\" font-family=\"Helvetica,sans-Serif\" font-size=\"14.00\">class = no</text>\r\n",
       "</g>\r\n",
       "<!-- 16&#45;&gt;24 -->\r\n",
       "<g id=\"edge24\" class=\"edge\">\r\n",
       "<title>16&#45;&gt;24</title>\r\n",
       "<path fill=\"none\" stroke=\"black\" d=\"M1475.37,-361.58C1543.86,-340.93 1648.29,-309.44 1718.76,-288.19\"/>\r\n",
       "<polygon fill=\"black\" stroke=\"black\" points=\"1719.9,-291.5 1728.47,-285.26 1717.88,-284.8 1719.9,-291.5\"/>\r\n",
       "</g>\r\n",
       "<!-- 18 -->\r\n",
       "<g id=\"node19\" class=\"node\">\r\n",
       "<title>18</title>\r\n",
       "<path fill=\"#f3c6a5\" stroke=\"black\" d=\"M1385,-187C1385,-187 1279,-187 1279,-187 1273,-187 1267,-181 1267,-175 1267,-175 1267,-116 1267,-116 1267,-110 1273,-104 1279,-104 1279,-104 1385,-104 1385,-104 1391,-104 1397,-110 1397,-116 1397,-116 1397,-175 1397,-175 1397,-181 1391,-187 1385,-187\"/>\r\n",
       "<text text-anchor=\"middle\" x=\"1332\" y=\"-171.8\" font-family=\"Helvetica,sans-Serif\" font-size=\"14.00\">duration &lt;= 1.365</text>\r\n",
       "<text text-anchor=\"middle\" x=\"1332\" y=\"-156.8\" font-family=\"Helvetica,sans-Serif\" font-size=\"14.00\">gini = 0.456</text>\r\n",
       "<text text-anchor=\"middle\" x=\"1332\" y=\"-141.8\" font-family=\"Helvetica,sans-Serif\" font-size=\"14.00\">samples = 1184</text>\r\n",
       "<text text-anchor=\"middle\" x=\"1332\" y=\"-126.8\" font-family=\"Helvetica,sans-Serif\" font-size=\"14.00\">value = [767, 417]</text>\r\n",
       "<text text-anchor=\"middle\" x=\"1332\" y=\"-111.8\" font-family=\"Helvetica,sans-Serif\" font-size=\"14.00\">class = no</text>\r\n",
       "</g>\r\n",
       "<!-- 17&#45;&gt;18 -->\r\n",
       "<g id=\"edge18\" class=\"edge\">\r\n",
       "<title>17&#45;&gt;18</title>\r\n",
       "<path fill=\"none\" stroke=\"black\" d=\"M1380.33,-222.91C1374.76,-214.1 1368.81,-204.7 1363.06,-195.61\"/>\r\n",
       "<polygon fill=\"black\" stroke=\"black\" points=\"1365.93,-193.6 1357.63,-187.02 1360.02,-197.34 1365.93,-193.6\"/>\r\n",
       "</g>\r\n",
       "<!-- 21 -->\r\n",
       "<g id=\"node22\" class=\"node\">\r\n",
       "<title>21</title>\r\n",
       "<path fill=\"#65b3eb\" stroke=\"black\" d=\"M1534.5,-187C1534.5,-187 1427.5,-187 1427.5,-187 1421.5,-187 1415.5,-181 1415.5,-175 1415.5,-175 1415.5,-116 1415.5,-116 1415.5,-110 1421.5,-104 1427.5,-104 1427.5,-104 1534.5,-104 1534.5,-104 1540.5,-104 1546.5,-110 1546.5,-116 1546.5,-116 1546.5,-175 1546.5,-175 1546.5,-181 1540.5,-187 1534.5,-187\"/>\r\n",
       "<text text-anchor=\"middle\" x=\"1481\" y=\"-171.8\" font-family=\"Helvetica,sans-Serif\" font-size=\"14.00\">previous &lt;= 2.559</text>\r\n",
       "<text text-anchor=\"middle\" x=\"1481\" y=\"-156.8\" font-family=\"Helvetica,sans-Serif\" font-size=\"14.00\">gini = 0.298</text>\r\n",
       "<text text-anchor=\"middle\" x=\"1481\" y=\"-141.8\" font-family=\"Helvetica,sans-Serif\" font-size=\"14.00\">samples = 55</text>\r\n",
       "<text text-anchor=\"middle\" x=\"1481\" y=\"-126.8\" font-family=\"Helvetica,sans-Serif\" font-size=\"14.00\">value = [10, 45]</text>\r\n",
       "<text text-anchor=\"middle\" x=\"1481\" y=\"-111.8\" font-family=\"Helvetica,sans-Serif\" font-size=\"14.00\">class = no</text>\r\n",
       "</g>\r\n",
       "<!-- 17&#45;&gt;21 -->\r\n",
       "<g id=\"edge21\" class=\"edge\">\r\n",
       "<title>17&#45;&gt;21</title>\r\n",
       "<path fill=\"none\" stroke=\"black\" d=\"M1432.02,-222.91C1437.66,-214.1 1443.69,-204.7 1449.52,-195.61\"/>\r\n",
       "<polygon fill=\"black\" stroke=\"black\" points=\"1452.57,-197.33 1455.03,-187.02 1446.68,-193.55 1452.57,-197.33\"/>\r\n",
       "</g>\r\n",
       "<!-- 19 -->\r\n",
       "<g id=\"node20\" class=\"node\">\r\n",
       "<title>19</title>\r\n",
       "<path fill=\"#efb489\" stroke=\"black\" d=\"M1244,-68C1244,-68 1138,-68 1138,-68 1132,-68 1126,-62 1126,-56 1126,-56 1126,-12 1126,-12 1126,-6 1132,0 1138,0 1138,0 1244,0 1244,0 1250,0 1256,-6 1256,-12 1256,-12 1256,-56 1256,-56 1256,-62 1250,-68 1244,-68\"/>\r\n",
       "<text text-anchor=\"middle\" x=\"1191\" y=\"-52.8\" font-family=\"Helvetica,sans-Serif\" font-size=\"14.00\">gini = 0.41</text>\r\n",
       "<text text-anchor=\"middle\" x=\"1191\" y=\"-37.8\" font-family=\"Helvetica,sans-Serif\" font-size=\"14.00\">samples = 536</text>\r\n",
       "<text text-anchor=\"middle\" x=\"1191\" y=\"-22.8\" font-family=\"Helvetica,sans-Serif\" font-size=\"14.00\">value = [382, 154]</text>\r\n",
       "<text text-anchor=\"middle\" x=\"1191\" y=\"-7.8\" font-family=\"Helvetica,sans-Serif\" font-size=\"14.00\">class = no</text>\r\n",
       "</g>\r\n",
       "<!-- 18&#45;&gt;19 -->\r\n",
       "<g id=\"edge19\" class=\"edge\">\r\n",
       "<title>18&#45;&gt;19</title>\r\n",
       "<path fill=\"none\" stroke=\"black\" d=\"M1279.5,-103.73C1267.16,-94.15 1254.05,-83.96 1241.79,-74.44\"/>\r\n",
       "<polygon fill=\"black\" stroke=\"black\" points=\"1243.92,-71.67 1233.88,-68.3 1239.63,-77.2 1243.92,-71.67\"/>\r\n",
       "</g>\r\n",
       "<!-- 20 -->\r\n",
       "<g id=\"node21\" class=\"node\">\r\n",
       "<title>20</title>\r\n",
       "<path fill=\"#f7d7c0\" stroke=\"black\" d=\"M1392,-68C1392,-68 1286,-68 1286,-68 1280,-68 1274,-62 1274,-56 1274,-56 1274,-12 1274,-12 1274,-6 1280,0 1286,0 1286,0 1392,0 1392,0 1398,0 1404,-6 1404,-12 1404,-12 1404,-56 1404,-56 1404,-62 1398,-68 1392,-68\"/>\r\n",
       "<text text-anchor=\"middle\" x=\"1339\" y=\"-52.8\" font-family=\"Helvetica,sans-Serif\" font-size=\"14.00\">gini = 0.482</text>\r\n",
       "<text text-anchor=\"middle\" x=\"1339\" y=\"-37.8\" font-family=\"Helvetica,sans-Serif\" font-size=\"14.00\">samples = 648</text>\r\n",
       "<text text-anchor=\"middle\" x=\"1339\" y=\"-22.8\" font-family=\"Helvetica,sans-Serif\" font-size=\"14.00\">value = [385, 263]</text>\r\n",
       "<text text-anchor=\"middle\" x=\"1339\" y=\"-7.8\" font-family=\"Helvetica,sans-Serif\" font-size=\"14.00\">class = no</text>\r\n",
       "</g>\r\n",
       "<!-- 18&#45;&gt;20 -->\r\n",
       "<g id=\"edge20\" class=\"edge\">\r\n",
       "<title>18&#45;&gt;20</title>\r\n",
       "<path fill=\"none\" stroke=\"black\" d=\"M1334.61,-103.73C1335.14,-95.43 1335.7,-86.67 1336.23,-78.28\"/>\r\n",
       "<polygon fill=\"black\" stroke=\"black\" points=\"1339.73,-78.5 1336.87,-68.3 1332.74,-78.06 1339.73,-78.5\"/>\r\n",
       "</g>\r\n",
       "<!-- 22 -->\r\n",
       "<g id=\"node23\" class=\"node\">\r\n",
       "<title>22</title>\r\n",
       "<path fill=\"#7bbeee\" stroke=\"black\" d=\"M1515.5,-68C1515.5,-68 1434.5,-68 1434.5,-68 1428.5,-68 1422.5,-62 1422.5,-56 1422.5,-56 1422.5,-12 1422.5,-12 1422.5,-6 1428.5,0 1434.5,0 1434.5,0 1515.5,0 1515.5,0 1521.5,0 1527.5,-6 1527.5,-12 1527.5,-12 1527.5,-56 1527.5,-56 1527.5,-62 1521.5,-68 1515.5,-68\"/>\r\n",
       "<text text-anchor=\"middle\" x=\"1475\" y=\"-52.8\" font-family=\"Helvetica,sans-Serif\" font-size=\"14.00\">gini = 0.375</text>\r\n",
       "<text text-anchor=\"middle\" x=\"1475\" y=\"-37.8\" font-family=\"Helvetica,sans-Serif\" font-size=\"14.00\">samples = 36</text>\r\n",
       "<text text-anchor=\"middle\" x=\"1475\" y=\"-22.8\" font-family=\"Helvetica,sans-Serif\" font-size=\"14.00\">value = [9, 27]</text>\r\n",
       "<text text-anchor=\"middle\" x=\"1475\" y=\"-7.8\" font-family=\"Helvetica,sans-Serif\" font-size=\"14.00\">class = no</text>\r\n",
       "</g>\r\n",
       "<!-- 21&#45;&gt;22 -->\r\n",
       "<g id=\"edge22\" class=\"edge\">\r\n",
       "<title>21&#45;&gt;22</title>\r\n",
       "<path fill=\"none\" stroke=\"black\" d=\"M1478.77,-103.73C1478.32,-95.52 1477.84,-86.86 1477.39,-78.56\"/>\r\n",
       "<polygon fill=\"black\" stroke=\"black\" points=\"1480.87,-78.09 1476.82,-68.3 1473.88,-78.48 1480.87,-78.09\"/>\r\n",
       "</g>\r\n",
       "<!-- 23 -->\r\n",
       "<g id=\"node24\" class=\"node\">\r\n",
       "<title>23</title>\r\n",
       "<path fill=\"#44a2e6\" stroke=\"black\" d=\"M1638.5,-68C1638.5,-68 1557.5,-68 1557.5,-68 1551.5,-68 1545.5,-62 1545.5,-56 1545.5,-56 1545.5,-12 1545.5,-12 1545.5,-6 1551.5,0 1557.5,0 1557.5,0 1638.5,0 1638.5,0 1644.5,0 1650.5,-6 1650.5,-12 1650.5,-12 1650.5,-56 1650.5,-56 1650.5,-62 1644.5,-68 1638.5,-68\"/>\r\n",
       "<text text-anchor=\"middle\" x=\"1598\" y=\"-52.8\" font-family=\"Helvetica,sans-Serif\" font-size=\"14.00\">gini = 0.1</text>\r\n",
       "<text text-anchor=\"middle\" x=\"1598\" y=\"-37.8\" font-family=\"Helvetica,sans-Serif\" font-size=\"14.00\">samples = 19</text>\r\n",
       "<text text-anchor=\"middle\" x=\"1598\" y=\"-22.8\" font-family=\"Helvetica,sans-Serif\" font-size=\"14.00\">value = [1, 18]</text>\r\n",
       "<text text-anchor=\"middle\" x=\"1598\" y=\"-7.8\" font-family=\"Helvetica,sans-Serif\" font-size=\"14.00\">class = no</text>\r\n",
       "</g>\r\n",
       "<!-- 21&#45;&gt;23 -->\r\n",
       "<g id=\"edge23\" class=\"edge\">\r\n",
       "<title>21&#45;&gt;23</title>\r\n",
       "<path fill=\"none\" stroke=\"black\" d=\"M1524.57,-103.73C1534.51,-94.42 1545.06,-84.54 1554.98,-75.26\"/>\r\n",
       "<polygon fill=\"black\" stroke=\"black\" points=\"1557.51,-77.69 1562.42,-68.3 1552.73,-72.58 1557.51,-77.69\"/>\r\n",
       "</g>\r\n",
       "<!-- 25 -->\r\n",
       "<g id=\"node26\" class=\"node\">\r\n",
       "<title>25</title>\r\n",
       "<path fill=\"#c9e4f8\" stroke=\"black\" d=\"M1847,-187C1847,-187 1741,-187 1741,-187 1735,-187 1729,-181 1729,-175 1729,-175 1729,-116 1729,-116 1729,-110 1735,-104 1741,-104 1741,-104 1847,-104 1847,-104 1853,-104 1859,-110 1859,-116 1859,-116 1859,-175 1859,-175 1859,-181 1853,-187 1847,-187\"/>\r\n",
       "<text text-anchor=\"middle\" x=\"1794\" y=\"-171.8\" font-family=\"Helvetica,sans-Serif\" font-size=\"14.00\">job &lt;= &#45;0.705</text>\r\n",
       "<text text-anchor=\"middle\" x=\"1794\" y=\"-156.8\" font-family=\"Helvetica,sans-Serif\" font-size=\"14.00\">gini = 0.487</text>\r\n",
       "<text text-anchor=\"middle\" x=\"1794\" y=\"-141.8\" font-family=\"Helvetica,sans-Serif\" font-size=\"14.00\">samples = 792</text>\r\n",
       "<text text-anchor=\"middle\" x=\"1794\" y=\"-126.8\" font-family=\"Helvetica,sans-Serif\" font-size=\"14.00\">value = [333, 459]</text>\r\n",
       "<text text-anchor=\"middle\" x=\"1794\" y=\"-111.8\" font-family=\"Helvetica,sans-Serif\" font-size=\"14.00\">class = no</text>\r\n",
       "</g>\r\n",
       "<!-- 24&#45;&gt;25 -->\r\n",
       "<g id=\"edge25\" class=\"edge\">\r\n",
       "<title>24&#45;&gt;25</title>\r\n",
       "<path fill=\"none\" stroke=\"black\" d=\"M1794,-222.91C1794,-214.65 1794,-205.86 1794,-197.3\"/>\r\n",
       "<polygon fill=\"black\" stroke=\"black\" points=\"1797.5,-197.02 1794,-187.02 1790.5,-197.02 1797.5,-197.02\"/>\r\n",
       "</g>\r\n",
       "<!-- 28 -->\r\n",
       "<g id=\"node29\" class=\"node\">\r\n",
       "<title>28</title>\r\n",
       "<path fill=\"#42a2e6\" stroke=\"black\" d=\"M2086.5,-187C2086.5,-187 1949.5,-187 1949.5,-187 1943.5,-187 1937.5,-181 1937.5,-175 1937.5,-175 1937.5,-116 1937.5,-116 1937.5,-110 1943.5,-104 1949.5,-104 1949.5,-104 2086.5,-104 2086.5,-104 2092.5,-104 2098.5,-110 2098.5,-116 2098.5,-116 2098.5,-175 2098.5,-175 2098.5,-181 2092.5,-187 2086.5,-187\"/>\r\n",
       "<text text-anchor=\"middle\" x=\"2018\" y=\"-171.8\" font-family=\"Helvetica,sans-Serif\" font-size=\"14.00\">cons.conf.idx &lt;= 1.864</text>\r\n",
       "<text text-anchor=\"middle\" x=\"2018\" y=\"-156.8\" font-family=\"Helvetica,sans-Serif\" font-size=\"14.00\">gini = 0.087</text>\r\n",
       "<text text-anchor=\"middle\" x=\"2018\" y=\"-141.8\" font-family=\"Helvetica,sans-Serif\" font-size=\"14.00\">samples = 22</text>\r\n",
       "<text text-anchor=\"middle\" x=\"2018\" y=\"-126.8\" font-family=\"Helvetica,sans-Serif\" font-size=\"14.00\">value = [1, 21]</text>\r\n",
       "<text text-anchor=\"middle\" x=\"2018\" y=\"-111.8\" font-family=\"Helvetica,sans-Serif\" font-size=\"14.00\">class = no</text>\r\n",
       "</g>\r\n",
       "<!-- 24&#45;&gt;28 -->\r\n",
       "<g id=\"edge28\" class=\"edge\">\r\n",
       "<title>24&#45;&gt;28</title>\r\n",
       "<path fill=\"none\" stroke=\"black\" d=\"M1859.69,-229.19C1882.13,-217.47 1907.58,-204.18 1931.4,-191.73\"/>\r\n",
       "<polygon fill=\"black\" stroke=\"black\" points=\"1933.2,-194.74 1940.44,-187.01 1929.96,-188.54 1933.2,-194.74\"/>\r\n",
       "</g>\r\n",
       "<!-- 26 -->\r\n",
       "<g id=\"node27\" class=\"node\">\r\n",
       "<title>26</title>\r\n",
       "<path fill=\"#b1d8f5\" stroke=\"black\" d=\"M1787,-68C1787,-68 1681,-68 1681,-68 1675,-68 1669,-62 1669,-56 1669,-56 1669,-12 1669,-12 1669,-6 1675,0 1681,0 1681,0 1787,0 1787,0 1793,0 1799,-6 1799,-12 1799,-12 1799,-56 1799,-56 1799,-62 1793,-68 1787,-68\"/>\r\n",
       "<text text-anchor=\"middle\" x=\"1734\" y=\"-52.8\" font-family=\"Helvetica,sans-Serif\" font-size=\"14.00\">gini = 0.469</text>\r\n",
       "<text text-anchor=\"middle\" x=\"1734\" y=\"-37.8\" font-family=\"Helvetica,sans-Serif\" font-size=\"14.00\">samples = 348</text>\r\n",
       "<text text-anchor=\"middle\" x=\"1734\" y=\"-22.8\" font-family=\"Helvetica,sans-Serif\" font-size=\"14.00\">value = [131, 217]</text>\r\n",
       "<text text-anchor=\"middle\" x=\"1734\" y=\"-7.8\" font-family=\"Helvetica,sans-Serif\" font-size=\"14.00\">class = no</text>\r\n",
       "</g>\r\n",
       "<!-- 25&#45;&gt;26 -->\r\n",
       "<g id=\"edge26\" class=\"edge\">\r\n",
       "<title>25&#45;&gt;26</title>\r\n",
       "<path fill=\"none\" stroke=\"black\" d=\"M1771.66,-103.73C1766.91,-95.06 1761.89,-85.9 1757.11,-77.18\"/>\r\n",
       "<polygon fill=\"black\" stroke=\"black\" points=\"1760.12,-75.39 1752.25,-68.3 1753.98,-78.75 1760.12,-75.39\"/>\r\n",
       "</g>\r\n",
       "<!-- 27 -->\r\n",
       "<g id=\"node28\" class=\"node\">\r\n",
       "<title>27</title>\r\n",
       "<path fill=\"#deeffb\" stroke=\"black\" d=\"M1935,-68C1935,-68 1829,-68 1829,-68 1823,-68 1817,-62 1817,-56 1817,-56 1817,-12 1817,-12 1817,-6 1823,0 1829,0 1829,0 1935,0 1935,0 1941,0 1947,-6 1947,-12 1947,-12 1947,-56 1947,-56 1947,-62 1941,-68 1935,-68\"/>\r\n",
       "<text text-anchor=\"middle\" x=\"1882\" y=\"-52.8\" font-family=\"Helvetica,sans-Serif\" font-size=\"14.00\">gini = 0.496</text>\r\n",
       "<text text-anchor=\"middle\" x=\"1882\" y=\"-37.8\" font-family=\"Helvetica,sans-Serif\" font-size=\"14.00\">samples = 444</text>\r\n",
       "<text text-anchor=\"middle\" x=\"1882\" y=\"-22.8\" font-family=\"Helvetica,sans-Serif\" font-size=\"14.00\">value = [202, 242]</text>\r\n",
       "<text text-anchor=\"middle\" x=\"1882\" y=\"-7.8\" font-family=\"Helvetica,sans-Serif\" font-size=\"14.00\">class = no</text>\r\n",
       "</g>\r\n",
       "<!-- 25&#45;&gt;27 -->\r\n",
       "<g id=\"edge27\" class=\"edge\">\r\n",
       "<title>25&#45;&gt;27</title>\r\n",
       "<path fill=\"none\" stroke=\"black\" d=\"M1826.77,-103.73C1833.95,-94.79 1841.56,-85.32 1848.76,-76.36\"/>\r\n",
       "<polygon fill=\"black\" stroke=\"black\" points=\"1851.7,-78.29 1855.24,-68.3 1846.25,-73.9 1851.7,-78.29\"/>\r\n",
       "</g>\r\n",
       "<!-- 29 -->\r\n",
       "<g id=\"node30\" class=\"node\">\r\n",
       "<title>29</title>\r\n",
       "<path fill=\"#399de5\" stroke=\"black\" d=\"M2058.5,-68C2058.5,-68 1977.5,-68 1977.5,-68 1971.5,-68 1965.5,-62 1965.5,-56 1965.5,-56 1965.5,-12 1965.5,-12 1965.5,-6 1971.5,0 1977.5,0 1977.5,0 2058.5,0 2058.5,0 2064.5,0 2070.5,-6 2070.5,-12 2070.5,-12 2070.5,-56 2070.5,-56 2070.5,-62 2064.5,-68 2058.5,-68\"/>\r\n",
       "<text text-anchor=\"middle\" x=\"2018\" y=\"-52.8\" font-family=\"Helvetica,sans-Serif\" font-size=\"14.00\">gini = 0.0</text>\r\n",
       "<text text-anchor=\"middle\" x=\"2018\" y=\"-37.8\" font-family=\"Helvetica,sans-Serif\" font-size=\"14.00\">samples = 20</text>\r\n",
       "<text text-anchor=\"middle\" x=\"2018\" y=\"-22.8\" font-family=\"Helvetica,sans-Serif\" font-size=\"14.00\">value = [0, 20]</text>\r\n",
       "<text text-anchor=\"middle\" x=\"2018\" y=\"-7.8\" font-family=\"Helvetica,sans-Serif\" font-size=\"14.00\">class = no</text>\r\n",
       "</g>\r\n",
       "<!-- 28&#45;&gt;29 -->\r\n",
       "<g id=\"edge29\" class=\"edge\">\r\n",
       "<title>28&#45;&gt;29</title>\r\n",
       "<path fill=\"none\" stroke=\"black\" d=\"M2018,-103.73C2018,-95.52 2018,-86.86 2018,-78.56\"/>\r\n",
       "<polygon fill=\"black\" stroke=\"black\" points=\"2021.5,-78.3 2018,-68.3 2014.5,-78.3 2021.5,-78.3\"/>\r\n",
       "</g>\r\n",
       "<!-- 30 -->\r\n",
       "<g id=\"node31\" class=\"node\">\r\n",
       "<title>30</title>\r\n",
       "<path fill=\"#ffffff\" stroke=\"black\" d=\"M2173.5,-68C2173.5,-68 2100.5,-68 2100.5,-68 2094.5,-68 2088.5,-62 2088.5,-56 2088.5,-56 2088.5,-12 2088.5,-12 2088.5,-6 2094.5,0 2100.5,0 2100.5,0 2173.5,0 2173.5,0 2179.5,0 2185.5,-6 2185.5,-12 2185.5,-12 2185.5,-56 2185.5,-56 2185.5,-62 2179.5,-68 2173.5,-68\"/>\r\n",
       "<text text-anchor=\"middle\" x=\"2137\" y=\"-52.8\" font-family=\"Helvetica,sans-Serif\" font-size=\"14.00\">gini = 0.5</text>\r\n",
       "<text text-anchor=\"middle\" x=\"2137\" y=\"-37.8\" font-family=\"Helvetica,sans-Serif\" font-size=\"14.00\">samples = 2</text>\r\n",
       "<text text-anchor=\"middle\" x=\"2137\" y=\"-22.8\" font-family=\"Helvetica,sans-Serif\" font-size=\"14.00\">value = [1, 1]</text>\r\n",
       "<text text-anchor=\"middle\" x=\"2137\" y=\"-7.8\" font-family=\"Helvetica,sans-Serif\" font-size=\"14.00\">class = no</text>\r\n",
       "</g>\r\n",
       "<!-- 28&#45;&gt;30 -->\r\n",
       "<g id=\"edge30\" class=\"edge\">\r\n",
       "<title>28&#45;&gt;30</title>\r\n",
       "<path fill=\"none\" stroke=\"black\" d=\"M2062.31,-103.73C2072.42,-94.42 2083.16,-84.54 2093.25,-75.26\"/>\r\n",
       "<polygon fill=\"black\" stroke=\"black\" points=\"2095.82,-77.65 2100.81,-68.3 2091.08,-72.5 2095.82,-77.65\"/>\r\n",
       "</g>\r\n",
       "</g>\r\n",
       "</svg>\r\n"
      ],
      "text/plain": [
       "<graphviz.files.Source at 0x1663fba93a0>"
      ]
     },
     "execution_count": 135,
     "metadata": {},
     "output_type": "execute_result"
    }
   ],
   "source": [
    "from graphviz import Source\n",
    "from sklearn.tree import export_graphviz\n",
    "\n",
    "export_graphviz(\n",
    "        model_tree,\n",
    "        out_file=os.path.join(IMAGES_PATH, \"deposit_hyp.dot\"),\n",
    "        feature_names=X_train.columns, # kolom dari fitur  \n",
    "        class_names=df_raw.subcribed,  # dari target\n",
    "        filled=True,\n",
    "        rounded=True\n",
    "    )\n",
    "\n",
    "Source.from_file(os.path.join(IMAGES_PATH, \"deposit_hyp.dot\"))"
   ]
  },
  {
   "cell_type": "markdown",
   "id": "ec9ecef5",
   "metadata": {
    "heading_collapsed": true,
    "hidden": true
   },
   "source": [
    "##### Save score"
   ]
  },
  {
   "cell_type": "code",
   "execution_count": 55,
   "id": "540728eb",
   "metadata": {
    "ExecuteTime": {
     "end_time": "2021-08-08T02:39:35.641254Z",
     "start_time": "2021-08-08T02:39:35.617132Z"
    },
    "hidden": true
   },
   "outputs": [],
   "source": [
    "scores['Decision Tree'] = {\n",
    "    'Train': accuracy_score(y_train, model_tree.predict(X_train_trf)),\n",
    "    'Test': accuracy_score(y_test, model_tree.predict(X_test_trf)),\n",
    "}"
   ]
  },
  {
   "cell_type": "markdown",
   "id": "9e13be0e",
   "metadata": {
    "heading_collapsed": true,
    "hidden": true
   },
   "source": [
    "### 4. Model Random Forest"
   ]
  },
  {
   "cell_type": "markdown",
   "id": "49ef930b",
   "metadata": {
    "heading_collapsed": true,
    "hidden": true
   },
   "source": [
    "##### Scoring"
   ]
  },
  {
   "cell_type": "code",
   "execution_count": 314,
   "id": "4a89f4ad",
   "metadata": {
    "ExecuteTime": {
     "end_time": "2021-08-08T08:27:40.776238Z",
     "start_time": "2021-08-08T08:27:40.555515Z"
    },
    "hidden": true
   },
   "outputs": [],
   "source": [
    "y_train_pred = model_rf.predict(X_train_trf)\n",
    "y_test_pred = model_rf.predict(X_test_trf)"
   ]
  },
  {
   "cell_type": "code",
   "execution_count": 303,
   "id": "f5b780c9",
   "metadata": {
    "ExecuteTime": {
     "end_time": "2021-08-08T07:23:20.806281Z",
     "start_time": "2021-08-08T07:23:20.719619Z"
    },
    "hidden": true
   },
   "outputs": [
    {
     "name": "stdout",
     "output_type": "stream",
     "text": [
      "TRAIN RESULT :\n",
      "================================================\n",
      "MSE:  0.01\n",
      "RMSE: 0.09\n",
      "r2:  0.92\n",
      "TEST RSEULT:\n",
      "================================================\n",
      "MSE:  0.11\n",
      "MAE:  0.11\n",
      "RMSE:  0.33\n",
      "r2:  0.01\n"
     ]
    }
   ],
   "source": [
    "# MSE, MAE, R2, RMSE Method One\n",
    "from sklearn.metrics import mean_squared_error #MSE\n",
    "from sklearn.metrics import mean_absolute_error #MAE\n",
    "from sklearn.metrics import r2_score#R 2\n",
    " #TRAIN\n",
    "print(\"TRAIN RESULT :\\n================================================\")\n",
    "print(f'MSE: {mean_squared_error(y_train,y_train_pred): .2f}')\n",
    "print(f'RMSE:{np.sqrt(mean_squared_error(y_train,y_train_pred)): .2f}')\n",
    "print(f'r2: {r2_score(y_train,y_train_pred): .2f}')\n",
    " #TEST\n",
    "print(\"TEST RSEULT:\\n================================================\")\n",
    "print(f'MSE: {mean_squared_error(y_test,y_test_pred): .2f}')\n",
    "print(f'MAE: {mean_absolute_error(y_test,y_test_pred): .2f}')\n",
    "print(f'RMSE: {np.sqrt(mean_squared_error(y_test,y_test_pred)): .2f}')\n",
    "print(f'r2: {r2_score(y_test,y_test_pred): .2f}')"
   ]
  },
  {
   "cell_type": "code",
   "execution_count": 304,
   "id": "3ff47dc2",
   "metadata": {
    "ExecuteTime": {
     "end_time": "2021-08-08T07:23:31.334635Z",
     "start_time": "2021-08-08T07:23:31.256673Z"
    },
    "hidden": true
   },
   "outputs": [
    {
     "name": "stdout",
     "output_type": "stream",
     "text": [
      "              precision    recall  f1-score   support\n",
      "\n",
      "           0       0.99      1.00      1.00     16552\n",
      "           1       0.99      0.94      0.97      2271\n",
      "\n",
      "    accuracy                           0.99     18823\n",
      "   macro avg       0.99      0.97      0.98     18823\n",
      "weighted avg       0.99      0.99      0.99     18823\n",
      "\n",
      "              precision    recall  f1-score   support\n",
      "\n",
      "           0       0.91      0.97      0.94      7053\n",
      "           1       0.61      0.38      0.46      1015\n",
      "\n",
      "    accuracy                           0.89      8068\n",
      "   macro avg       0.76      0.67      0.70      8068\n",
      "weighted avg       0.88      0.89      0.88      8068\n",
      "\n"
     ]
    }
   ],
   "source": [
    "from sklearn.metrics import classification_report\n",
    "\n",
    "print(classification_report(y_train, y_train_pred))\n",
    "print(classification_report(y_test, y_test_pred))"
   ]
  },
  {
   "cell_type": "markdown",
   "id": "bf462e0e",
   "metadata": {
    "hidden": true
   },
   "source": [
    "#### Random Forest Hyperparameter Tunning"
   ]
  },
  {
   "cell_type": "markdown",
   "id": "44d154dc",
   "metadata": {
    "heading_collapsed": true,
    "hidden": true
   },
   "source": [
    "##### Fungsi print_score"
   ]
  },
  {
   "cell_type": "code",
   "execution_count": null,
   "id": "a2980579",
   "metadata": {
    "hidden": true
   },
   "outputs": [],
   "source": [
    "from sklearn.metrics import accuracy_score, confusion_matrix, classification_report\n",
    "\n",
    "def print_score(clf, X_train_trf, y_train, X_test_trf, y_test, train=True):\n",
    "    if train:\n",
    "        pred = clf.predict(X_train_trf)\n",
    "        clf_report = pd.DataFrame(classification_report(y_train, pred, output_dict=True))\n",
    "        print(\"TRAIN BEFORE TUNING RESULT:\\n================================================\")\n",
    "        print(f\"Accuracy Score: {accuracy_score(y_train, pred) * 100:.2f}%\")\n",
    "        print(\"_______________________________________________\")\n",
    "        print(f\"CLASSIFICATION REPORT:\\n{clf_report}\")\n",
    "        print(\"_______________________________________________\")\n",
    "        print(f\"Confusion Matrix: \\n {confusion_matrix(y_train, pred)}\\n\")\n",
    "        \n",
    "    elif train==False:\n",
    "        pred = clf.predict(X_test_trf)\n",
    "        clf_report = pd.DataFrame(classification_report(y_test, pred, output_dict=True))\n",
    "        print(\"TEST BEFORE TUNING RESULT:\\n================================================\")        \n",
    "        print(f\"Accuracy Score: {accuracy_score(y_test, pred) * 100:.2f}%\")\n",
    "        print(\"_______________________________________________\")\n",
    "        print(f\"CLASSIFICATION REPORT:\\n{clf_report}\")\n",
    "        print(\"_______________________________________________\")\n",
    "        print(f\"Confusion Matrix: \\n {confusion_matrix(y_test, pred)}\\n\")"
   ]
  },
  {
   "cell_type": "markdown",
   "id": "82630e30",
   "metadata": {
    "heading_collapsed": true,
    "hidden": true
   },
   "source": [
    "##### Tunning Randomized CV"
   ]
  },
  {
   "cell_type": "markdown",
   "id": "7682bdf0",
   "metadata": {
    "hidden": true
   },
   "source": [
    "Alasan mengapa memilih Randomized Cross Validation adalah karena Hyperparameter ini lebih ringan dibandingkan dengan Grid Cross Validation, jadi pada saat tunnig tidak membebani kerja komputer."
   ]
  },
  {
   "cell_type": "code",
   "execution_count": 59,
   "id": "2c390391",
   "metadata": {
    "ExecuteTime": {
     "end_time": "2021-08-08T02:49:54.657720Z",
     "start_time": "2021-08-08T02:47:27.606494Z"
    },
    "hidden": true
   },
   "outputs": [
    {
     "name": "stdout",
     "output_type": "stream",
     "text": [
      "Fitting 3 folds for each of 100 candidates, totalling 300 fits\n",
      "Best paramters: {'n_estimators': 20, 'min_samples_split': 10, 'min_samples_leaf': 2, 'max_features': 'auto', 'max_depth': 60, 'bootstrap': False})\n",
      "TRAIN AFTER TUNING RESULT:\n",
      "================================================\n",
      "Accuracy Score: 97.88%\n",
      "_______________________________________________\n",
      "CLASSIFICATION REPORT:\n",
      "                      0            1  accuracy     macro avg  weighted avg\n",
      "precision      0.979574     0.972250  0.978803      0.975912      0.978690\n",
      "recall         0.996677     0.848525  0.978803      0.922601      0.978803\n",
      "f1-score       0.988051     0.906184  0.978803      0.947118      0.978174\n",
      "support    16552.000000  2271.000000  0.978803  18823.000000  18823.000000\n",
      "_______________________________________________\n",
      "Confusion Matrix: \n",
      " [[16497    55]\n",
      " [  344  1927]]\n",
      "\n",
      "TEST AFTER TUNING RESULT:\n",
      "================================================\n",
      "Accuracy Score: 89.92%\n",
      "_______________________________________________\n",
      "CLASSIFICATION REPORT:\n",
      "                     0            1  accuracy    macro avg  weighted avg\n",
      "precision     0.924490     0.640669  0.899232     0.782579      0.888783\n",
      "recall        0.963420     0.453202  0.899232     0.708311      0.899232\n",
      "f1-score      0.943553     0.530871  0.899232     0.737212      0.891636\n",
      "support    7053.000000  1015.000000  0.899232  8068.000000   8068.000000\n",
      "_______________________________________________\n",
      "Confusion Matrix: \n",
      " [[6795  258]\n",
      " [ 555  460]]\n",
      "\n"
     ]
    }
   ],
   "source": [
    "from sklearn.ensemble import RandomForestClassifier\n",
    "from sklearn.model_selection import RandomizedSearchCV\n",
    "\n",
    "n_estimators = [int(x) for x in np.linspace(start=10, stop=100, num=10)]\n",
    "max_features = ['auto', 'sqrt']\n",
    "max_depth = [int(x) for x in np.linspace(10, 110, num=11)]\n",
    "min_samples_split = [2, 5, 10]\n",
    "min_samples_leaf = [1, 2, 4]\n",
    "bootstrap = [True, False]\n",
    "\n",
    "random_grid = {'n_estimators': n_estimators, 'max_features': max_features,\n",
    "               'max_depth': max_depth, 'min_samples_split': min_samples_split,\n",
    "               'min_samples_leaf': min_samples_leaf, 'bootstrap': bootstrap}\n",
    "\n",
    "model_rf = RandomForestClassifier(random_state=77)\n",
    "\n",
    "rf_grid_cv = RandomizedSearchCV(estimator=model_rf, scoring='f1',param_distributions=random_grid, n_iter=100, cv=3, \n",
    "                               verbose=2, random_state=77, n_jobs=-1)\n",
    "\n",
    "rf_grid_cv.fit(X_train_trf, y_train)\n",
    "rf_best_params = rf_grid_cv.best_params_\n",
    "print(f\"Best paramters: {rf_best_params})\")\n",
    "\n",
    "model_rf = RandomForestClassifier(**rf_best_params)\n",
    "model_rf.fit(X_train_trf, y_train)\n",
    "\n",
    "print_score(model_rf, X_train_trf, y_train, X_test_trf, y_test, train=True)\n",
    "print_score(model_rf, X_train_trf, y_train, X_test_trf, y_test, train=False)"
   ]
  },
  {
   "cell_type": "markdown",
   "id": "e3a127f2",
   "metadata": {
    "heading_collapsed": true,
    "hidden": true
   },
   "source": [
    "##### Save score"
   ]
  },
  {
   "cell_type": "code",
   "execution_count": 60,
   "id": "a5d9cd6e",
   "metadata": {
    "ExecuteTime": {
     "end_time": "2021-08-08T02:51:11.520924Z",
     "start_time": "2021-08-08T02:51:11.386994Z"
    },
    "hidden": true
   },
   "outputs": [],
   "source": [
    "scores['Random Forest'] = {\n",
    "    'Train': accuracy_score(y_train, model_rf.predict(X_train_trf)),\n",
    "    'Test': accuracy_score(y_test, model_rf.predict(X_test_trf)),\n",
    "}"
   ]
  },
  {
   "cell_type": "markdown",
   "id": "c64101ba",
   "metadata": {
    "heading_collapsed": true,
    "hidden": true
   },
   "source": [
    "### 5. Model KNN (K-Nearest Neighbors)"
   ]
  },
  {
   "cell_type": "markdown",
   "id": "0eef5518",
   "metadata": {
    "heading_collapsed": true,
    "hidden": true
   },
   "source": [
    "##### Scoring"
   ]
  },
  {
   "cell_type": "code",
   "execution_count": 305,
   "id": "a8ec8722",
   "metadata": {
    "ExecuteTime": {
     "end_time": "2021-08-08T07:24:50.938479Z",
     "start_time": "2021-08-08T07:24:46.987316Z"
    },
    "hidden": true
   },
   "outputs": [],
   "source": [
    "y_train_pred = model_knn.predict(X_train_trf)\n",
    "y_test_pred = model_knn.predict(X_test_trf)"
   ]
  },
  {
   "cell_type": "code",
   "execution_count": 306,
   "id": "96e5af0d",
   "metadata": {
    "ExecuteTime": {
     "end_time": "2021-08-08T07:24:50.987625Z",
     "start_time": "2021-08-08T07:24:50.938479Z"
    },
    "hidden": true
   },
   "outputs": [
    {
     "name": "stdout",
     "output_type": "stream",
     "text": [
      "TRAIN RESULT :\n",
      "================================================\n",
      "MSE:  0.09\n",
      "RMSE: 0.29\n",
      "r2:  0.19\n",
      "TEST RSEULT:\n",
      "================================================\n",
      "MSE:  0.11\n",
      "MAE:  0.11\n",
      "RMSE:  0.33\n",
      "r2: -0.00\n"
     ]
    }
   ],
   "source": [
    "# MSE, MAE, R2, RMSE Method One\n",
    "from sklearn.metrics import mean_squared_error #MSE\n",
    "from sklearn.metrics import mean_absolute_error #MAE\n",
    "from sklearn.metrics import r2_score#R 2\n",
    " #TRAIN\n",
    "print(\"TRAIN RESULT :\\n================================================\")\n",
    "print(f'MSE: {mean_squared_error(y_train,y_train_pred): .2f}')\n",
    "print(f'RMSE:{np.sqrt(mean_squared_error(y_train,y_train_pred)): .2f}')\n",
    "print(f'r2: {r2_score(y_train,y_train_pred): .2f}')\n",
    " #TEST\n",
    "print(\"TEST RSEULT:\\n================================================\")\n",
    "print(f'MSE: {mean_squared_error(y_test,y_test_pred): .2f}')\n",
    "print(f'MAE: {mean_absolute_error(y_test,y_test_pred): .2f}')\n",
    "print(f'RMSE: {np.sqrt(mean_squared_error(y_test,y_test_pred)): .2f}')\n",
    "print(f'r2: {r2_score(y_test,y_test_pred): .2f}')"
   ]
  },
  {
   "cell_type": "code",
   "execution_count": 307,
   "id": "501c7e0a",
   "metadata": {
    "ExecuteTime": {
     "end_time": "2021-08-08T07:25:01.921557Z",
     "start_time": "2021-08-08T07:25:01.847290Z"
    },
    "hidden": true
   },
   "outputs": [
    {
     "name": "stdout",
     "output_type": "stream",
     "text": [
      "              precision    recall  f1-score   support\n",
      "\n",
      "           0       0.92      0.99      0.95     16552\n",
      "           1       0.84      0.36      0.50      2271\n",
      "\n",
      "    accuracy                           0.91     18823\n",
      "   macro avg       0.88      0.68      0.73     18823\n",
      "weighted avg       0.91      0.91      0.90     18823\n",
      "\n",
      "              precision    recall  f1-score   support\n",
      "\n",
      "           0       0.90      0.98      0.94      7053\n",
      "           1       0.66      0.26      0.37      1015\n",
      "\n",
      "    accuracy                           0.89      8068\n",
      "   macro avg       0.78      0.62      0.66      8068\n",
      "weighted avg       0.87      0.89      0.87      8068\n",
      "\n"
     ]
    }
   ],
   "source": [
    "from sklearn.metrics import classification_report\n",
    "\n",
    "print(classification_report(y_train, y_train_pred))\n",
    "print(classification_report(y_test, y_test_pred))"
   ]
  },
  {
   "cell_type": "markdown",
   "id": "39b82991",
   "metadata": {
    "hidden": true
   },
   "source": [
    "#### KNN Hyperparameter Tunning"
   ]
  },
  {
   "cell_type": "markdown",
   "id": "310dc4bc",
   "metadata": {
    "heading_collapsed": true,
    "hidden": true
   },
   "source": [
    "##### Fungsi print_score"
   ]
  },
  {
   "cell_type": "code",
   "execution_count": 138,
   "id": "cc0fbb1d",
   "metadata": {
    "ExecuteTime": {
     "end_time": "2021-08-07T22:58:38.304415Z",
     "start_time": "2021-08-07T22:58:38.273206Z"
    },
    "hidden": true
   },
   "outputs": [],
   "source": [
    "from sklearn.metrics import accuracy_score, confusion_matrix, classification_report\n",
    "\n",
    "def print_score(clf, X_train_trf, y_train, X_test_trf, y_test, train=True):\n",
    "    if train:\n",
    "        pred = clf.predict(X_train_trf)\n",
    "        clf_report = pd.DataFrame(classification_report(y_train, pred, output_dict=True))\n",
    "        print(\"TRAIN AFTER TUNING RESULT:\\n================================================\")\n",
    "        print(f\"Accuracy Score: {accuracy_score(y_train, pred) * 100:.2f}%\")\n",
    "        print(\"_______________________________________________\")\n",
    "        print(f\"CLASSIFICATION REPORT:\\n{clf_report}\")\n",
    "        print(\"_______________________________________________\")\n",
    "        print(f\"Confusion Matrix: \\n {confusion_matrix(y_train, pred)}\\n\")\n",
    "        \n",
    "    elif train==False:\n",
    "        pred = clf.predict(X_test_trf)\n",
    "        clf_report = pd.DataFrame(classification_report(y_test, pred, output_dict=True))\n",
    "        print(\"TEST AFTER TUNING RESULT:\\n================================================\")        \n",
    "        print(f\"Accuracy Score: {accuracy_score(y_test, pred) * 100:.2f}%\")\n",
    "        print(\"_______________________________________________\")\n",
    "        print(f\"CLASSIFICATION REPORT:\\n{clf_report}\")\n",
    "        print(\"_______________________________________________\")\n",
    "        print(f\"Confusion Matrix: \\n {confusion_matrix(y_test, pred)}\\n\")"
   ]
  },
  {
   "cell_type": "markdown",
   "id": "d3825fdb",
   "metadata": {
    "heading_collapsed": true,
    "hidden": true
   },
   "source": [
    "##### Tunning Randomized CV"
   ]
  },
  {
   "cell_type": "code",
   "execution_count": 144,
   "id": "29ec9c07",
   "metadata": {
    "ExecuteTime": {
     "end_time": "2021-08-07T23:22:06.504639Z",
     "start_time": "2021-08-07T23:18:34.119017Z"
    },
    "hidden": true
   },
   "outputs": [
    {
     "name": "stdout",
     "output_type": "stream",
     "text": [
      "Fitting 3 folds for each of 100 candidates, totalling 300 fits\n",
      "Best paramters: {'weights': 'distance', 'n_neighbors': 1, 'metric': 'euclidean', 'leaf_size': 8})\n",
      "TRAIN AFTER TUNING RESULT:\n",
      "================================================\n",
      "Accuracy Score: 99.99%\n",
      "_______________________________________________\n",
      "CLASSIFICATION REPORT:\n",
      "                     0           1  accuracy     macro avg  weighted avg\n",
      "precision      0.99994     1.00000  0.999947      0.999970      0.999947\n",
      "recall         1.00000     0.99956  0.999947      0.999780      0.999947\n",
      "f1-score       0.99997     0.99978  0.999947      0.999875      0.999947\n",
      "support    16552.00000  2271.00000  0.999947  18823.000000  18823.000000\n",
      "_______________________________________________\n",
      "Confusion Matrix: \n",
      " [[16552     0]\n",
      " [    1  2270]]\n",
      "\n",
      "TEST AFTER TUNING RESULT:\n",
      "================================================\n",
      "Accuracy Score: 87.39%\n",
      "_______________________________________________\n",
      "CLASSIFICATION REPORT:\n",
      "                     0            1  accuracy    macro avg  weighted avg\n",
      "precision     0.919983     0.498866  0.873946     0.709425      0.867004\n",
      "recall        0.937332     0.433498  0.873946     0.685415      0.873946\n",
      "f1-score      0.928576     0.463890  0.873946     0.696233      0.870116\n",
      "support    7053.000000  1015.000000  0.873946  8068.000000   8068.000000\n",
      "_______________________________________________\n",
      "Confusion Matrix: \n",
      " [[6611  442]\n",
      " [ 575  440]]\n",
      "\n"
     ]
    }
   ],
   "source": [
    "from sklearn.model_selection import RandomizedSearchCV\n",
    "\n",
    "leaf_size = list(range(1, 20))\n",
    "n_neighbors = list(range(1, 30))\n",
    "weights=['uniform','distance']\n",
    "metric = ['minkowski', 'euclidean', 'manhattan']\n",
    "\n",
    "random_grid = {\n",
    "    'leaf_size': leaf_size,\n",
    "    'n_neighbors': n_neighbors,\n",
    "    'weights': weights,\n",
    "    'metric': metric\n",
    "}\n",
    "\n",
    "model_knn = KNeighborsClassifier()\n",
    "\n",
    "knn_ran_cv = RandomizedSearchCV(estimator=model_knn,\n",
    "                                scoring='f1',\n",
    "                                param_distributions=random_grid,\n",
    "                                n_iter=100,\n",
    "                                cv=3,\n",
    "                                verbose=2,\n",
    "                                n_jobs=-1)\n",
    "\n",
    "knn_ran_cv.fit(X_train_trf, y_train)\n",
    "knn_best_params = knn_ran_cv.best_params_\n",
    "print(f\"Best paramters: {knn_best_params})\")\n",
    "\n",
    "model_knn = KNeighborsClassifier(**knn_best_params)\n",
    "model_knn.fit(X_train_trf, y_train)\n",
    "\n",
    "print_score(model_knn, X_train_trf, y_train, X_test_trf, y_test, train=True)\n",
    "print_score(model_knn, X_train_trf, y_train, X_test_trf, y_test, train=False)"
   ]
  },
  {
   "cell_type": "markdown",
   "id": "9468e838",
   "metadata": {
    "heading_collapsed": true,
    "hidden": true
   },
   "source": [
    "##### Save score"
   ]
  },
  {
   "cell_type": "code",
   "execution_count": 56,
   "id": "5409931d",
   "metadata": {
    "ExecuteTime": {
     "end_time": "2021-08-08T02:39:49.648312Z",
     "start_time": "2021-08-08T02:39:46.849898Z"
    },
    "hidden": true
   },
   "outputs": [],
   "source": [
    "scores['KNN'] = {\n",
    "    'Train': accuracy_score(y_train, model_knn.predict(X_train_trf)),\n",
    "    'Test': accuracy_score(y_test, model_knn.predict(X_test_trf)),\n",
    "}"
   ]
  },
  {
   "cell_type": "markdown",
   "id": "cc631e73",
   "metadata": {
    "heading_collapsed": true,
    "hidden": true
   },
   "source": [
    "### 6. Model Naive Bayes"
   ]
  },
  {
   "cell_type": "markdown",
   "id": "a2d22e7d",
   "metadata": {
    "heading_collapsed": true,
    "hidden": true
   },
   "source": [
    "##### Scoring"
   ]
  },
  {
   "cell_type": "code",
   "execution_count": 308,
   "id": "a08b1024",
   "metadata": {
    "ExecuteTime": {
     "end_time": "2021-08-08T07:26:26.729946Z",
     "start_time": "2021-08-08T07:26:26.698597Z"
    },
    "hidden": true
   },
   "outputs": [],
   "source": [
    "y_train_pred = model_gnb.predict(X_train_trf)\n",
    "y_test_pred = model_gnb.predict(X_test_trf)"
   ]
  },
  {
   "cell_type": "code",
   "execution_count": 309,
   "id": "dd105612",
   "metadata": {
    "ExecuteTime": {
     "end_time": "2021-08-08T07:26:30.198528Z",
     "start_time": "2021-08-08T07:26:30.168703Z"
    },
    "hidden": true
   },
   "outputs": [
    {
     "name": "stdout",
     "output_type": "stream",
     "text": [
      "TRAIN RESULT :\n",
      "================================================\n",
      "MSE:  0.12\n",
      "RMSE: 0.35\n",
      "r2: -0.16\n",
      "TEST RSEULT:\n",
      "================================================\n",
      "MSE:  0.12\n",
      "MAE:  0.12\n",
      "RMSE:  0.35\n",
      "r2: -0.10\n"
     ]
    }
   ],
   "source": [
    "# MSE, MAE, R2, RMSE Method One\n",
    "from sklearn.metrics import mean_squared_error #MSE\n",
    "from sklearn.metrics import mean_absolute_error #MAE\n",
    "from sklearn.metrics import r2_score#R 2\n",
    " #TRAIN\n",
    "print(\"TRAIN RESULT :\\n================================================\")\n",
    "print(f'MSE: {mean_squared_error(y_train,y_train_pred): .2f}')\n",
    "print(f'RMSE:{np.sqrt(mean_squared_error(y_train,y_train_pred)): .2f}')\n",
    "print(f'r2: {r2_score(y_train,y_train_pred): .2f}')\n",
    " #TEST\n",
    "print(\"TEST RSEULT:\\n================================================\")\n",
    "print(f'MSE: {mean_squared_error(y_test,y_test_pred): .2f}')\n",
    "print(f'MAE: {mean_absolute_error(y_test,y_test_pred): .2f}')\n",
    "print(f'RMSE: {np.sqrt(mean_squared_error(y_test,y_test_pred)): .2f}')\n",
    "print(f'r2: {r2_score(y_test,y_test_pred): .2f}')"
   ]
  },
  {
   "cell_type": "code",
   "execution_count": 310,
   "id": "802d5575",
   "metadata": {
    "ExecuteTime": {
     "end_time": "2021-08-08T07:26:41.458821Z",
     "start_time": "2021-08-08T07:26:41.283125Z"
    },
    "hidden": true
   },
   "outputs": [
    {
     "name": "stdout",
     "output_type": "stream",
     "text": [
      "              precision    recall  f1-score   support\n",
      "\n",
      "           0       0.93      0.93      0.93     16552\n",
      "           1       0.49      0.46      0.48      2271\n",
      "\n",
      "    accuracy                           0.88     18823\n",
      "   macro avg       0.71      0.70      0.70     18823\n",
      "weighted avg       0.87      0.88      0.88     18823\n",
      "\n",
      "              precision    recall  f1-score   support\n",
      "\n",
      "           0       0.92      0.94      0.93      7053\n",
      "           1       0.52      0.46      0.49      1015\n",
      "\n",
      "    accuracy                           0.88      8068\n",
      "   macro avg       0.72      0.70      0.71      8068\n",
      "weighted avg       0.87      0.88      0.88      8068\n",
      "\n"
     ]
    }
   ],
   "source": [
    "from sklearn.metrics import classification_report\n",
    "\n",
    "print(classification_report(y_train, y_train_pred))\n",
    "print(classification_report(y_test, y_test_pred))"
   ]
  },
  {
   "cell_type": "markdown",
   "id": "e6b83c33",
   "metadata": {
    "hidden": true
   },
   "source": [
    "#### Naive Bayes Hyperparameter Tunning"
   ]
  },
  {
   "cell_type": "markdown",
   "id": "47f6272a",
   "metadata": {
    "heading_collapsed": true,
    "hidden": true
   },
   "source": [
    "##### Fungsi print_score"
   ]
  },
  {
   "cell_type": "code",
   "execution_count": null,
   "id": "e30e693a",
   "metadata": {
    "hidden": true
   },
   "outputs": [],
   "source": [
    "from sklearn.metrics import accuracy_score, confusion_matrix, classification_report\n",
    "\n",
    "def print_score(clf, X_train_trf, y_train, X_test_trf, y_test, train=True):\n",
    "    if train:\n",
    "        pred = clf.predict(X_train_trf)\n",
    "        clf_report = pd.DataFrame(classification_report(y_train, pred, output_dict=True))\n",
    "        print(\"TRAIN BEFORE TUNING RESULT:\\n================================================\")\n",
    "        print(f\"Accuracy Score: {accuracy_score(y_train, pred) * 100:.2f}%\")\n",
    "        print(\"_______________________________________________\")\n",
    "        print(f\"CLASSIFICATION REPORT:\\n{clf_report}\")\n",
    "        print(\"_______________________________________________\")\n",
    "        print(f\"Confusion Matrix: \\n {confusion_matrix(y_train, pred)}\\n\")\n",
    "        \n",
    "    elif train==False:\n",
    "        pred = clf.predict(X_test_trf)\n",
    "        clf_report = pd.DataFrame(classification_report(y_test, pred, output_dict=True))\n",
    "        print(\"TEST BEFORE TUNING RESULT:\\n================================================\")        \n",
    "        print(f\"Accuracy Score: {accuracy_score(y_test, pred) * 100:.2f}%\")\n",
    "        print(\"_______________________________________________\")\n",
    "        print(f\"CLASSIFICATION REPORT:\\n{clf_report}\")\n",
    "        print(\"_______________________________________________\")\n",
    "        print(f\"Confusion Matrix: \\n {confusion_matrix(y_test, pred)}\\n\")"
   ]
  },
  {
   "cell_type": "markdown",
   "id": "5c569361",
   "metadata": {
    "heading_collapsed": true,
    "hidden": true
   },
   "source": [
    "##### Tunning Randomized CV"
   ]
  },
  {
   "cell_type": "code",
   "execution_count": 48,
   "id": "837d2070",
   "metadata": {
    "ExecuteTime": {
     "end_time": "2021-08-08T02:37:44.343626Z",
     "start_time": "2021-08-08T02:37:41.282499Z"
    },
    "hidden": true
   },
   "outputs": [
    {
     "name": "stdout",
     "output_type": "stream",
     "text": [
      "Fitting 3 folds for each of 100 candidates, totalling 300 fits\n",
      "Best paramters: {'var_smoothing': 0.0533669923120631})\n",
      "TRAIN AFTER TUNING RESULT:\n",
      "================================================\n",
      "Accuracy Score: 88.28%\n",
      "_______________________________________________\n",
      "CLASSIFICATION REPORT:\n",
      "                      0            1  accuracy     macro avg  weighted avg\n",
      "precision      0.925293     0.516607  0.882803      0.720950      0.875985\n",
      "recall         0.942847     0.445178  0.882803      0.694013      0.882803\n",
      "f1-score       0.933988     0.478240  0.882803      0.706114      0.879002\n",
      "support    16552.000000  2271.000000  0.882803  18823.000000  18823.000000\n",
      "_______________________________________________\n",
      "Confusion Matrix: \n",
      " [[15606   946]\n",
      " [ 1260  1011]]\n",
      "\n",
      "TEST AFTER TUNING RESULT:\n",
      "================================================\n",
      "Accuracy Score: 88.36%\n",
      "_______________________________________________\n",
      "CLASSIFICATION REPORT:\n",
      "                     0            1  accuracy    macro avg  weighted avg\n",
      "precision     0.921772     0.546341  0.883614     0.734056      0.874540\n",
      "recall        0.947256     0.441379  0.883614     0.694318      0.883614\n",
      "f1-score      0.934340     0.488283  0.883614     0.711312      0.878224\n",
      "support    7053.000000  1015.000000  0.883614  8068.000000   8068.000000\n",
      "_______________________________________________\n",
      "Confusion Matrix: \n",
      " [[6681  372]\n",
      " [ 567  448]]\n",
      "\n"
     ]
    }
   ],
   "source": [
    "\n",
    "from sklearn.model_selection import RandomizedSearchCV\n",
    "\n",
    "var_smoothing = np.logspace(0,-9, num=100)\n",
    "\n",
    "random_grid = {'var_smoothing': var_smoothing}\n",
    "\n",
    "model_gnb = GaussianNB()\n",
    "\n",
    "gnb_ran_cv = RandomizedSearchCV(estimator=model_gnb, scoring='f1',param_distributions=random_grid, n_iter=100, cv=3, \n",
    "                               verbose=2, random_state=77, n_jobs=-1)\n",
    "\n",
    "gnb_ran_cv.fit(X_train_trf, y_train)\n",
    "gnb_best_params = gnb_ran_cv.best_params_\n",
    "print(f\"Best paramters: {gnb_best_params})\")\n",
    "\n",
    "model_gnb = GaussianNB(**gnb_best_params)\n",
    "model_gnb.fit(X_train_trf, y_train)\n",
    "\n",
    "print_score(model_gnb, X_train_trf, y_train, X_test_trf, y_test, train=True)\n",
    "print_score(model_gnb, X_train_trf, y_train, X_test_trf, y_test, train=False)"
   ]
  },
  {
   "cell_type": "markdown",
   "id": "2abd0af5",
   "metadata": {
    "heading_collapsed": true,
    "hidden": true
   },
   "source": [
    "##### Save score"
   ]
  },
  {
   "cell_type": "code",
   "execution_count": 51,
   "id": "ea8ca42e",
   "metadata": {
    "ExecuteTime": {
     "end_time": "2021-08-08T02:38:44.226433Z",
     "start_time": "2021-08-08T02:38:44.171589Z"
    },
    "hidden": true
   },
   "outputs": [],
   "source": [
    "scores['Naive Bayes'] = {\n",
    "    'Train': accuracy_score(y_train, model_gnb.predict(X_train_trf)),\n",
    "    'Test': accuracy_score(y_test, model_gnb.predict(X_test_trf)),\n",
    "}"
   ]
  },
  {
   "cell_type": "markdown",
   "id": "3089459a",
   "metadata": {
    "heading_collapsed": true,
    "hidden": true
   },
   "source": [
    "### 7. Model XGBoost"
   ]
  },
  {
   "cell_type": "markdown",
   "id": "436486ad",
   "metadata": {
    "heading_collapsed": true,
    "hidden": true
   },
   "source": [
    "##### Scoring"
   ]
  },
  {
   "cell_type": "code",
   "execution_count": 311,
   "id": "25a040e8",
   "metadata": {
    "ExecuteTime": {
     "end_time": "2021-08-08T07:27:27.818739Z",
     "start_time": "2021-08-08T07:27:27.757614Z"
    },
    "hidden": true
   },
   "outputs": [],
   "source": [
    "y_train_pred = model_xgb.predict(X_train_trf)\n",
    "y_test_pred = model_xgb.predict(X_test_trf)"
   ]
  },
  {
   "cell_type": "code",
   "execution_count": 312,
   "id": "98f62a06",
   "metadata": {
    "ExecuteTime": {
     "end_time": "2021-08-08T07:27:28.590636Z",
     "start_time": "2021-08-08T07:27:28.543354Z"
    },
    "hidden": true
   },
   "outputs": [
    {
     "name": "stdout",
     "output_type": "stream",
     "text": [
      "TRAIN RESULT :\n",
      "================================================\n",
      "MSE:  0.08\n",
      "RMSE: 0.28\n",
      "r2:  0.24\n",
      "TEST RSEULT:\n",
      "================================================\n",
      "MSE:  0.10\n",
      "MAE:  0.10\n",
      "RMSE:  0.31\n",
      "r2:  0.11\n"
     ]
    }
   ],
   "source": [
    "# MSE, MAE, R2, RMSE Method One\n",
    "from sklearn.metrics import mean_squared_error #MSE\n",
    "from sklearn.metrics import mean_absolute_error #MAE\n",
    "from sklearn.metrics import r2_score#R 2\n",
    " #TRAIN\n",
    "print(\"TRAIN RESULT :\\n================================================\")\n",
    "print(f'MSE: {mean_squared_error(y_train,y_train_pred): .2f}')\n",
    "print(f'RMSE:{np.sqrt(mean_squared_error(y_train,y_train_pred)): .2f}')\n",
    "print(f'r2: {r2_score(y_train,y_train_pred): .2f}')\n",
    " #TEST\n",
    "print(\"TEST RSEULT:\\n================================================\")\n",
    "print(f'MSE: {mean_squared_error(y_test,y_test_pred): .2f}')\n",
    "print(f'MAE: {mean_absolute_error(y_test,y_test_pred): .2f}')\n",
    "print(f'RMSE: {np.sqrt(mean_squared_error(y_test,y_test_pred)): .2f}')\n",
    "print(f'r2: {r2_score(y_test,y_test_pred): .2f}')"
   ]
  },
  {
   "cell_type": "code",
   "execution_count": 313,
   "id": "063b0150",
   "metadata": {
    "ExecuteTime": {
     "end_time": "2021-08-08T07:27:35.312414Z",
     "start_time": "2021-08-08T07:27:35.247397Z"
    },
    "hidden": true
   },
   "outputs": [
    {
     "name": "stdout",
     "output_type": "stream",
     "text": [
      "              precision    recall  f1-score   support\n",
      "\n",
      "           0       0.94      0.97      0.95     16552\n",
      "           1       0.72      0.54      0.62      2271\n",
      "\n",
      "    accuracy                           0.92     18823\n",
      "   macro avg       0.83      0.76      0.79     18823\n",
      "weighted avg       0.91      0.92      0.91     18823\n",
      "\n",
      "              precision    recall  f1-score   support\n",
      "\n",
      "           0       0.93      0.97      0.95      7053\n",
      "           1       0.66      0.46      0.54      1015\n",
      "\n",
      "    accuracy                           0.90      8068\n",
      "   macro avg       0.79      0.71      0.74      8068\n",
      "weighted avg       0.89      0.90      0.89      8068\n",
      "\n"
     ]
    }
   ],
   "source": [
    "from sklearn.metrics import classification_report\n",
    "\n",
    "print(classification_report(y_train, y_train_pred))\n",
    "print(classification_report(y_test, y_test_pred))"
   ]
  },
  {
   "cell_type": "markdown",
   "id": "e4918113",
   "metadata": {
    "hidden": true
   },
   "source": [
    "#### XGBoost Hyperparameter Tunning"
   ]
  },
  {
   "cell_type": "markdown",
   "id": "4d2e9aac",
   "metadata": {
    "heading_collapsed": true,
    "hidden": true
   },
   "source": [
    "##### Fungsi print_score"
   ]
  },
  {
   "cell_type": "code",
   "execution_count": 120,
   "id": "7d6e427d",
   "metadata": {
    "ExecuteTime": {
     "end_time": "2021-08-07T17:20:19.589791Z",
     "start_time": "2021-08-07T17:20:19.542937Z"
    },
    "hidden": true
   },
   "outputs": [],
   "source": [
    "from sklearn.metrics import accuracy_score, confusion_matrix, classification_report\n",
    "\n",
    "def print_score(clf, X_train_trf, y_train, X_test_trf, y_test, train=True):\n",
    "    if train:\n",
    "        pred = clf.predict(X_train_trf)\n",
    "        clf_report = pd.DataFrame(classification_report(y_train, pred, output_dict=True))\n",
    "        print(\"TRAIN AFTER TUNING RESULT:\\n================================================\")\n",
    "        print(f\"Accuracy Score: {accuracy_score(y_train, pred) * 100:.2f}%\")\n",
    "        print(\"_______________________________________________\")\n",
    "        print(f\"CLASSIFICATION REPORT:\\n{clf_report}\")\n",
    "        print(\"_______________________________________________\")\n",
    "        print(f\"Confusion Matrix: \\n {confusion_matrix(y_train, pred)}\\n\")\n",
    "        \n",
    "    elif train==False:\n",
    "        pred = clf.predict(X_test_trf)\n",
    "        clf_report = pd.DataFrame(classification_report(y_test, pred, output_dict=True))\n",
    "        print(\"TEST AFTER TUNING RESULT:\\n================================================\")        \n",
    "        print(f\"Accuracy Score: {accuracy_score(y_test, pred) * 100:.2f}%\")\n",
    "        print(\"_______________________________________________\")\n",
    "        print(f\"CLASSIFICATION REPORT:\\n{clf_report}\")\n",
    "        print(\"_______________________________________________\")\n",
    "        print(f\"Confusion Matrix: \\n {confusion_matrix(y_test, pred)}\\n\")"
   ]
  },
  {
   "cell_type": "markdown",
   "id": "526f8ecc",
   "metadata": {
    "heading_collapsed": true,
    "hidden": true
   },
   "source": [
    "##### Tunning Randomized CV"
   ]
  },
  {
   "cell_type": "code",
   "execution_count": 124,
   "id": "df0dbb48",
   "metadata": {
    "ExecuteTime": {
     "end_time": "2021-08-07T22:38:05.110440Z",
     "start_time": "2021-08-07T22:34:16.393356Z"
    },
    "hidden": true
   },
   "outputs": [
    {
     "name": "stdout",
     "output_type": "stream",
     "text": [
      "Fitting 3 folds for each of 100 candidates, totalling 300 fits\n",
      "[05:38:03] WARNING: C:/Users/Administrator/workspace/xgboost-win64_release_1.4.0/src/learner.cc:1095: Starting in XGBoost 1.3.0, the default evaluation metric used with the objective 'binary:logistic' was changed from 'error' to 'logloss'. Explicitly set eval_metric if you'd like to restore the old behavior.\n",
      "Best paramters: {'n_estimators': 40, 'min_child_weight': 15, 'max_depth': 10, 'gamma': 3, 'colsample_bytree': 0.9})\n",
      "[05:38:04] WARNING: C:/Users/Administrator/workspace/xgboost-win64_release_1.4.0/src/learner.cc:1095: Starting in XGBoost 1.3.0, the default evaluation metric used with the objective 'binary:logistic' was changed from 'error' to 'logloss'. Explicitly set eval_metric if you'd like to restore the old behavior.\n",
      "TRAIN AFTER TUNING RESULT:\n",
      "================================================\n",
      "Accuracy Score: 92.90%\n",
      "_______________________________________________\n",
      "CLASSIFICATION REPORT:\n",
      "                      0            1  accuracy     macro avg  weighted avg\n",
      "precision      0.950925     0.739621  0.929023      0.845273      0.925431\n",
      "recall         0.969309     0.635403  0.929023      0.802356      0.929023\n",
      "f1-score       0.960029     0.683562  0.929023      0.821796      0.926673\n",
      "support    16552.000000  2271.000000  0.929023  18823.000000  18823.000000\n",
      "_______________________________________________\n",
      "Confusion Matrix: \n",
      " [[16044   508]\n",
      " [  828  1443]]\n",
      "\n",
      "TEST AFTER TUNING RESULT:\n",
      "================================================\n",
      "Accuracy Score: 90.37%\n",
      "_______________________________________________\n",
      "CLASSIFICATION REPORT:\n",
      "                     0            1  accuracy    macro avg  weighted avg\n",
      "precision     0.931993     0.648010  0.903694     0.790002      0.896267\n",
      "recall        0.959875     0.513300  0.903694     0.736588      0.903694\n",
      "f1-score      0.945729     0.572842  0.903694     0.759286      0.898818\n",
      "support    7053.000000  1015.000000  0.903694  8068.000000   8068.000000\n",
      "_______________________________________________\n",
      "Confusion Matrix: \n",
      " [[6770  283]\n",
      " [ 494  521]]\n",
      "\n"
     ]
    }
   ],
   "source": [
    "from sklearn.model_selection import RandomizedSearchCV\n",
    "\n",
    "max_depth = [int(x) for x in np.linspace(10, 110, num=11)]\n",
    "min_child_weight = [10, 15, 20,]\n",
    "colsample_bytree = [0.8, 0.9, 1]\n",
    "n_estimators = [int(x) for x in np.linspace(start=10, stop=100, num=10)]\n",
    "gamma = [1, 2, 3]\n",
    "\n",
    "random_grid = {\n",
    "    'max_depth': max_depth,\n",
    "    'min_child_weight': min_child_weight,\n",
    "    'colsample_bytree': colsample_bytree,\n",
    "    'n_estimators': n_estimators,\n",
    "    'gamma': gamma\n",
    "}\n",
    "\n",
    "model_xgb = XGBClassifier(random_state=77)\n",
    "\n",
    "xgb_grid_cv = RandomizedSearchCV(estimator=model_xgb,\n",
    "                                scoring='f1',\n",
    "                                param_distributions=random_grid,\n",
    "                                n_iter=100,\n",
    "                                cv=3,\n",
    "                                verbose=2,\n",
    "                                random_state=77,\n",
    "                                n_jobs=-1)\n",
    "\n",
    "xgb_grid_cv.fit(X_train_trf, y_train)\n",
    "xgb_best_params = xgb_grid_cv.best_params_\n",
    "print(f\"Best paramters: {xgb_best_params})\")\n",
    "\n",
    "model_xgb = XGBClassifier(**xgb_best_params)\n",
    "model_xgb.fit(X_train_trf, y_train)\n",
    "\n",
    "print_score(model_xgb, X_train_trf, y_train, X_test_trf, y_test, train=True)\n",
    "print_score(model_xgb, X_train_trf, y_train, X_test_trf, y_test, train=False)"
   ]
  },
  {
   "cell_type": "markdown",
   "id": "ef137d82",
   "metadata": {
    "heading_collapsed": true,
    "hidden": true
   },
   "source": [
    "##### Save Score"
   ]
  },
  {
   "cell_type": "code",
   "execution_count": 52,
   "id": "d517e37f",
   "metadata": {
    "ExecuteTime": {
     "end_time": "2021-08-08T02:38:52.714821Z",
     "start_time": "2021-08-08T02:38:52.631047Z"
    },
    "hidden": true
   },
   "outputs": [],
   "source": [
    "scores['XGBoost'] = {\n",
    "        'Train': accuracy_score(y_train, model_xgb.predict(X_train_trf)),\n",
    "        'Test': accuracy_score(y_test, model_xgb.predict(X_test_trf)),\n",
    "}"
   ]
  },
  {
   "cell_type": "markdown",
   "id": "588b1cc6",
   "metadata": {
    "heading_collapsed": true,
    "hidden": true
   },
   "source": [
    "### Visualisasi Perbandingan"
   ]
  },
  {
   "cell_type": "code",
   "execution_count": 321,
   "id": "f3ffc360",
   "metadata": {
    "ExecuteTime": {
     "end_time": "2021-08-08T13:48:59.326987Z",
     "start_time": "2021-08-08T13:48:59.295746Z"
    },
    "hidden": true
   },
   "outputs": [
    {
     "data": {
      "text/html": [
       "<div>\n",
       "<style scoped>\n",
       "    .dataframe tbody tr th:only-of-type {\n",
       "        vertical-align: middle;\n",
       "    }\n",
       "\n",
       "    .dataframe tbody tr th {\n",
       "        vertical-align: top;\n",
       "    }\n",
       "\n",
       "    .dataframe thead th {\n",
       "        text-align: right;\n",
       "    }\n",
       "</style>\n",
       "<table border=\"1\" class=\"dataframe\">\n",
       "  <thead>\n",
       "    <tr style=\"text-align: right;\">\n",
       "      <th></th>\n",
       "      <th>LogReg</th>\n",
       "      <th>Naive Bayes</th>\n",
       "      <th>XGBoost</th>\n",
       "      <th>SVC</th>\n",
       "      <th>Decision Tree</th>\n",
       "      <th>KNN</th>\n",
       "      <th>Random Forest</th>\n",
       "    </tr>\n",
       "  </thead>\n",
       "  <tbody>\n",
       "    <tr>\n",
       "      <th>Train</th>\n",
       "      <td>0.892950</td>\n",
       "      <td>0.882803</td>\n",
       "      <td>0.960049</td>\n",
       "      <td>0.905382</td>\n",
       "      <td>0.901610</td>\n",
       "      <td>0.914519</td>\n",
       "      <td>0.978803</td>\n",
       "    </tr>\n",
       "    <tr>\n",
       "      <th>Test</th>\n",
       "      <td>0.892662</td>\n",
       "      <td>0.883614</td>\n",
       "      <td>0.899232</td>\n",
       "      <td>0.894646</td>\n",
       "      <td>0.898736</td>\n",
       "      <td>0.889936</td>\n",
       "      <td>0.899232</td>\n",
       "    </tr>\n",
       "  </tbody>\n",
       "</table>\n",
       "</div>"
      ],
      "text/plain": [
       "         LogReg  Naive Bayes   XGBoost       SVC  Decision Tree       KNN  \\\n",
       "Train  0.892950     0.882803  0.960049  0.905382       0.901610  0.914519   \n",
       "Test   0.892662     0.883614  0.899232  0.894646       0.898736  0.889936   \n",
       "\n",
       "       Random Forest  \n",
       "Train       0.978803  \n",
       "Test        0.899232  "
      ]
     },
     "execution_count": 321,
     "metadata": {},
     "output_type": "execute_result"
    }
   ],
   "source": [
    "scores_df = pd.DataFrame(scores)\n",
    "scores_df.head()"
   ]
  },
  {
   "cell_type": "code",
   "execution_count": 242,
   "id": "b5d3cff6",
   "metadata": {
    "ExecuteTime": {
     "end_time": "2021-08-08T05:51:50.951026Z",
     "start_time": "2021-08-08T05:51:50.516726Z"
    },
    "hidden": true
   },
   "outputs": [
    {
     "data": {
      "image/png": "[encoded data removed]",
      "text/plain": [
       "<Figure size 936x360 with 1 Axes>"
      ]
     },
     "metadata": {
      "needs_background": "light"
     },
     "output_type": "display_data"
    }
   ],
   "source": [
    "\n",
    "labels = ['LogReg','Naive Bayes','XGBoost','SVM','Decission Tree','KNN','Random Forest']\n",
    "dat_train = scores_df.loc['Train']*100 \n",
    "dat_test = scores_df.loc['Test'] *100\n",
    "\n",
    "x = np.arange(len(labels))\n",
    "width = 0.25\n",
    "\n",
    "fig, ax = plt.subplots()\n",
    "rects1 = ax.bar(x - width/2, dat_train, width, label='Train')\n",
    "rects2 = ax.bar(x + width/2, dat_test, width, label='Test')\n",
    "\n",
    "ax.set_ylabel('Accuracy Scores')\n",
    "ax.set_xlabel('Model Algorithm')\n",
    "ax.set_title('Accuracy Scores by Train and Test',fontsize=20)\n",
    "ax.set_xticks(x)\n",
    "ax.set_xticklabels(labels)\n",
    "fig.set_size_inches(13, 5, forward=True)\n",
    "ax.legend(bbox_to_anchor=(0., 1.02, 1., .102), loc='lower left',\n",
    "           ncol=2, borderaxespad=0.,fontsize=15)\n",
    "ax.bar_label(rects1, padding=3,fmt='%.1f%%' )\n",
    "ax.bar_label(rects2, padding=3, fmt='%.1f%%')\n",
    "\n",
    "fig.tight_layout()\n",
    "plt.show()"
   ]
  },
  {
   "cell_type": "markdown",
   "id": "1ebfff9c",
   "metadata": {
    "hidden": true
   },
   "source": [
    "Bisa kita lihat bahwa model Random Forest untuk training dan testing memiliki skor akurasi yang lebih tinggi yaitu 97.9% dan 89.9% jika dibandingkan dengan seluruh model yang digunakan, selanjutnya diikuti oleh model XGBoost dengan skor 96.0% dan untuk skor testingnya sama dengan Random Forest yaitu 89.9%, setelah semua model tersebut di tuning. Sedangkan tingkat akurasi terendah dari semua model adalah model Gaussian Naive Bayes yaitu 88.3% dan 88.4%. Namun semua tingkat keakurasian model tergantung dengan data dan preprossing yang dilakukan."
   ]
  },
  {
   "cell_type": "markdown",
   "id": "0c6244b7",
   "metadata": {
    "heading_collapsed": true
   },
   "source": [
    "## Model Inference"
   ]
  },
  {
   "cell_type": "markdown",
   "id": "30b16aba",
   "metadata": {
    "hidden": true
   },
   "source": [
    "Bagian ini diisi dengan model inference, di mana model yang sudah kita latih akan dicoba pada data selain data yang sudah tersedia. Data yang dimaksud bisa berupa data buatan oleh student, ataupun data yang ada pada internet."
   ]
  },
  {
   "cell_type": "markdown",
   "id": "705c0517",
   "metadata": {
    "heading_collapsed": true,
    "hidden": true
   },
   "source": [
    "##### Mencoba pengujian dengan data yang dibuat student"
   ]
  },
  {
   "cell_type": "code",
   "execution_count": 64,
   "id": "efc2f153",
   "metadata": {
    "ExecuteTime": {
     "end_time": "2021-08-08T03:01:37.507799Z",
     "start_time": "2021-08-08T03:01:37.476767Z"
    },
    "hidden": true
   },
   "outputs": [
    {
     "data": {
      "text/html": [
       "<div>\n",
       "<style scoped>\n",
       "    .dataframe tbody tr th:only-of-type {\n",
       "        vertical-align: middle;\n",
       "    }\n",
       "\n",
       "    .dataframe tbody tr th {\n",
       "        vertical-align: top;\n",
       "    }\n",
       "\n",
       "    .dataframe thead th {\n",
       "        text-align: right;\n",
       "    }\n",
       "</style>\n",
       "<table border=\"1\" class=\"dataframe\">\n",
       "  <thead>\n",
       "    <tr style=\"text-align: right;\">\n",
       "      <th></th>\n",
       "      <th>age</th>\n",
       "      <th>job</th>\n",
       "      <th>marital</th>\n",
       "      <th>education</th>\n",
       "      <th>housing</th>\n",
       "      <th>poutcome</th>\n",
       "      <th>loan</th>\n",
       "      <th>duration</th>\n",
       "      <th>previous</th>\n",
       "      <th>cons.conf.idx</th>\n",
       "    </tr>\n",
       "  </thead>\n",
       "  <tbody>\n",
       "    <tr>\n",
       "      <th>0</th>\n",
       "      <td>57</td>\n",
       "      <td>7</td>\n",
       "      <td>1</td>\n",
       "      <td>0</td>\n",
       "      <td>0</td>\n",
       "      <td>1</td>\n",
       "      <td>0</td>\n",
       "      <td>149</td>\n",
       "      <td>0</td>\n",
       "      <td>-36.4</td>\n",
       "    </tr>\n",
       "    <tr>\n",
       "      <th>1</th>\n",
       "      <td>37</td>\n",
       "      <td>7</td>\n",
       "      <td>1</td>\n",
       "      <td>0</td>\n",
       "      <td>2</td>\n",
       "      <td>1</td>\n",
       "      <td>0</td>\n",
       "      <td>226</td>\n",
       "      <td>0</td>\n",
       "      <td>-36.4</td>\n",
       "    </tr>\n",
       "  </tbody>\n",
       "</table>\n",
       "</div>"
      ],
      "text/plain": [
       "   age  job  marital  education  housing  poutcome  loan  duration  previous  \\\n",
       "0   57    7        1          0        0         1     0       149         0   \n",
       "1   37    7        1          0        2         1     0       226         0   \n",
       "\n",
       "   cons.conf.idx  \n",
       "0          -36.4  \n",
       "1          -36.4  "
      ]
     },
     "execution_count": 64,
     "metadata": {},
     "output_type": "execute_result"
    }
   ],
   "source": [
    "df_train[feature_cols].head(2)"
   ]
  },
  {
   "cell_type": "code",
   "execution_count": 66,
   "id": "acc01b26",
   "metadata": {
    "ExecuteTime": {
     "end_time": "2021-08-08T03:01:41.591220Z",
     "start_time": "2021-08-08T03:01:41.559474Z"
    },
    "hidden": true
   },
   "outputs": [
    {
     "data": {
      "text/plain": [
       "Index(['age', 'job', 'marital', 'education', 'housing', 'poutcome', 'loan',\n",
       "       'duration', 'previous', 'cons.conf.idx'],\n",
       "      dtype='object')"
      ]
     },
     "execution_count": 66,
     "metadata": {},
     "output_type": "execute_result"
    }
   ],
   "source": [
    "df_train[feature_cols].keys()"
   ]
  },
  {
   "cell_type": "code",
   "execution_count": 67,
   "id": "5bb3d9e5",
   "metadata": {
    "ExecuteTime": {
     "end_time": "2021-08-08T03:01:42.732045Z",
     "start_time": "2021-08-08T03:01:42.675951Z"
    },
    "hidden": true
   },
   "outputs": [],
   "source": [
    "data_baru = [[57, 1, 1, 0, 0, 1, 1, 200, 2, -38.3],\n",
    "             [55, 0, 1, 1, 3, 0, 2, 200, 3,30.5],\n",
    "             [28, 0, 0, 0, 3, 0, 2, 300, 1, 20, ]]\n",
    "\n",
    "prediksi = pd.DataFrame(data_baru)"
   ]
  },
  {
   "cell_type": "code",
   "execution_count": 68,
   "id": "0b457e51",
   "metadata": {
    "ExecuteTime": {
     "end_time": "2021-08-08T03:01:47.739685Z",
     "start_time": "2021-08-08T03:01:47.695637Z"
    },
    "hidden": true
   },
   "outputs": [],
   "source": [
    "prediksi.rename(columns={\n",
    "    0: \"age\",\n",
    "    1: \"job\",\n",
    "    2: \"marital\",\n",
    "    3: \"education\",\n",
    "    4: \"housing\",\n",
    "    5: \"poutcome\",\n",
    "    6: \"loan\",\n",
    "    7: \"duration\",\n",
    "    8: \"previous\",\n",
    "    9: \"cons.conf.idx\",\n",
    "\n",
    "},\n",
    "                inplace=True)"
   ]
  },
  {
   "cell_type": "code",
   "execution_count": 41,
   "id": "a3e42cea",
   "metadata": {
    "ExecuteTime": {
     "end_time": "2021-08-07T16:09:54.995037Z",
     "start_time": "2021-08-07T16:09:54.955056Z"
    },
    "hidden": true
   },
   "outputs": [
    {
     "data": {
      "text/html": [
       "<div>\n",
       "<style scoped>\n",
       "    .dataframe tbody tr th:only-of-type {\n",
       "        vertical-align: middle;\n",
       "    }\n",
       "\n",
       "    .dataframe tbody tr th {\n",
       "        vertical-align: top;\n",
       "    }\n",
       "\n",
       "    .dataframe thead th {\n",
       "        text-align: right;\n",
       "    }\n",
       "</style>\n",
       "<table border=\"1\" class=\"dataframe\">\n",
       "  <thead>\n",
       "    <tr style=\"text-align: right;\">\n",
       "      <th></th>\n",
       "      <th>age</th>\n",
       "      <th>job</th>\n",
       "      <th>marital</th>\n",
       "      <th>education</th>\n",
       "      <th>housing</th>\n",
       "      <th>poutcome</th>\n",
       "      <th>loan</th>\n",
       "      <th>duration</th>\n",
       "      <th>previous</th>\n",
       "      <th>cons.conf.idx</th>\n",
       "    </tr>\n",
       "  </thead>\n",
       "  <tbody>\n",
       "    <tr>\n",
       "      <th>0</th>\n",
       "      <td>57</td>\n",
       "      <td>1</td>\n",
       "      <td>1</td>\n",
       "      <td>0</td>\n",
       "      <td>0</td>\n",
       "      <td>1</td>\n",
       "      <td>1</td>\n",
       "      <td>200</td>\n",
       "      <td>2</td>\n",
       "      <td>-38.3</td>\n",
       "    </tr>\n",
       "    <tr>\n",
       "      <th>1</th>\n",
       "      <td>55</td>\n",
       "      <td>0</td>\n",
       "      <td>1</td>\n",
       "      <td>1</td>\n",
       "      <td>3</td>\n",
       "      <td>0</td>\n",
       "      <td>2</td>\n",
       "      <td>200</td>\n",
       "      <td>3</td>\n",
       "      <td>30.5</td>\n",
       "    </tr>\n",
       "    <tr>\n",
       "      <th>2</th>\n",
       "      <td>28</td>\n",
       "      <td>0</td>\n",
       "      <td>0</td>\n",
       "      <td>0</td>\n",
       "      <td>3</td>\n",
       "      <td>0</td>\n",
       "      <td>2</td>\n",
       "      <td>300</td>\n",
       "      <td>1</td>\n",
       "      <td>20.0</td>\n",
       "    </tr>\n",
       "  </tbody>\n",
       "</table>\n",
       "</div>"
      ],
      "text/plain": [
       "   age  job  marital  education  housing  poutcome  loan  duration  previous  \\\n",
       "0   57    1        1          0        0         1     1       200         2   \n",
       "1   55    0        1          1        3         0     2       200         3   \n",
       "2   28    0        0          0        3         0     2       300         1   \n",
       "\n",
       "   cons.conf.idx  \n",
       "0          -38.3  \n",
       "1           30.5  \n",
       "2           20.0  "
      ]
     },
     "execution_count": 41,
     "metadata": {},
     "output_type": "execute_result"
    }
   ],
   "source": [
    "prediksi"
   ]
  },
  {
   "cell_type": "markdown",
   "id": "3e72cf9e",
   "metadata": {
    "heading_collapsed": true,
    "hidden": true
   },
   "source": [
    "### Prediction"
   ]
  },
  {
   "cell_type": "markdown",
   "id": "a61813af",
   "metadata": {
    "heading_collapsed": true,
    "hidden": true
   },
   "source": [
    "#### Model Random Forest"
   ]
  },
  {
   "cell_type": "markdown",
   "id": "60b48e6a",
   "metadata": {
    "hidden": true
   },
   "source": [
    "Melihat dari perbandingan skor antar model, kami menyimpulkan bahwa Random Forest adalah model yang terbaik, yang akan kita gunakan untuk prediksi data baru, meskipun model XGBoost memiliki skor testing yang sama namun training lebih unggul model Random Forest."
   ]
  },
  {
   "cell_type": "code",
   "execution_count": 322,
   "id": "11b574c3",
   "metadata": {
    "ExecuteTime": {
     "end_time": "2021-08-08T13:57:36.158195Z",
     "start_time": "2021-08-08T13:57:36.001834Z"
    },
    "hidden": true
   },
   "outputs": [
    {
     "name": "stdout",
     "output_type": "stream",
     "text": [
      "Do you want to subscribe.?\n",
      "====================================\n",
      "Hasil Prediksi: ['yes' 'yes' 'yes']\n",
      "====================================\n"
     ]
    }
   ],
   "source": [
    "preds = model_rf.predict(prediksi)\n",
    "result = le.inverse_transform(preds)\n",
    "print('Do you want to subscribe.?')\n",
    "print('====================================')\n",
    "print('Hasil Prediksi:', result)\n",
    "print('====================================')\n"
   ]
  },
  {
   "cell_type": "markdown",
   "id": "1774555a",
   "metadata": {
    "heading_collapsed": true
   },
   "source": [
    "## Pengambilan Kesimpulan"
   ]
  },
  {
   "cell_type": "markdown",
   "id": "20779f9e",
   "metadata": {
    "hidden": true
   },
   "source": [
    "Pada bab terakhir ini, harus berisi kesimpulan yang mencerminkan hasil yang didapat dengan dibandingkan dengan objective yang sudah ditulis di bagian pengenalan."
   ]
  },
  {
   "cell_type": "markdown",
   "id": "10442ffb",
   "metadata": {
    "hidden": true
   },
   "source": [
    "Berdasarkan analisis yang telah dilakukan, diperoleh kesimpulan yaitu\n",
    "\n",
    " 1. Klasifikasi prediksi subcribe 'Yes' or 'No' dari data diatas menggunakan 7 buah model dengan data training yang diujikan sebanyak 18.823 data, memiliki rata-rata akurasi klasifikasi sebesar 91.94% menggunakan fungsi Hyperparameter GridSearch dan Randomize Search. Namun demikian model dengan tingkat akurasi yang tinggi adalah Random Forest dengan akurasi skor 97.90%.\n",
    " \n",
    " \n",
    " 2. Pada pengujian dengan data testing sebanyak 8.068 data menggunakan 7 buah model yang sama, akurasi klasifikasi yang didapat yaitu sebesar 89.40% menggunakan fungsi Hyperparameter GridSearch dan Randomize Search. Dari hasil testing didapatkan bahwa Random Forest dan XGBoost mempunyai skor akurasi yang sama yaitu 89.92%.\n",
    "\n",
    "\n",
    " \n",
    "Dengan demikian akurasi klasifikasi terbaik untuk dataset ini adalah menggunakan Model Random Forest dengan parameters {'n_estimators': 20, 'min_samples_split': 10, 'min_samples_leaf': 2, 'max_features': 'auto', 'max_depth': 60, 'bootstrap': False} dibandingkan dengan 6 model yang lain, walaupun akurasi skor testing untuk XGBoost mempunyai nilai yang sama namun untuk trainig model Random Forest lebih unggul."
   ]
  },
  {
   "cell_type": "markdown",
   "id": "332bca7b",
   "metadata": {
    "hidden": true
   },
   "source": [
    "#### ==============================================TERIMA KASIH==================================================="
   ]
  }
 ],
 "metadata": {
  "kernelspec": {
   "display_name": "Python 3 (ipykernel)",
   "language": "python",
   "name": "python3"
  },
  "language_info": {
   "codemirror_mode": {
    "name": "ipython",
    "version": 3
   },
   "file_extension": ".py",
   "mimetype": "text/x-python",
   "name": "python",
   "nbconvert_exporter": "python",
   "pygments_lexer": "ipython3",
   "version": "3.9.6"
  }
 },
 "nbformat": 4,
 "nbformat_minor": 5
}
